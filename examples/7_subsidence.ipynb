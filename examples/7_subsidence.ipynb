{
 "cells": [
  {
   "cell_type": "markdown",
   "id": "6f506561-0a75-405b-bfa3-9945c035403a",
   "metadata": {},
   "source": [
    "<table align=\"left\">\n",
    "    <tr>\n",
    "        <td style=\"vertical-align: middle; padding-left: 0px; padding-right: 0px;\">\n",
    "            <a href=\"https://creativecommons.org/licenses/by/4.0/\">\n",
    "                <img src=\"https://licensebuttons.net/l/by/4.0/80x15.png\" />\n",
    "            </a>\n",
    "        </td>\n",
    "        <td style=\"vertical-align: middle; padding-left: 5px; padding-right: 0px;\">\n",
    "            <a href=\"https://opensource.org/licenses/MIT\">\n",
    "                <img src=\"https://img.shields.io/badge/License-MIT-green.svg\" />\n",
    "            </a>\n",
    "        </td>\n",
    "        <td style=\"vertical-align: middle; padding-left: 15px;\">\n",
    "            &copy; Guillaume Rongier\n",
    "        </td>\n",
    "    </tr>\n",
    "</table>"
   ]
  },
  {
   "cell_type": "markdown",
   "id": "fe04d3c0-3683-412f-b12e-25e5411b96b5",
   "metadata": {},
   "source": [
    "# Adding subsidence"
   ]
  },
  {
   "cell_type": "markdown",
   "id": "aabe78cb-d5a1-4dfc-aad8-5e7f9edb10ea",
   "metadata": {},
   "source": [
    "This notebook starts from the basic example of the [first notebook](1_basic-example.ipynb) to show how to add uplift and subsidence in StratigraPy."
   ]
  },
  {
   "cell_type": "markdown",
   "id": "91bb5258-901f-4b8d-83b9-766f0d6ed354",
   "metadata": {},
   "source": [
    "### Imports"
   ]
  },
  {
   "cell_type": "markdown",
   "id": "74121609-c2cb-459e-9d21-2c20248ec07b",
   "metadata": {},
   "source": [
    "Let's first import all the required packages and components:"
   ]
  },
  {
   "cell_type": "code",
   "execution_count": null,
   "id": "d24cac43-3672-4140-a8d9-5bab94f67cdc",
   "metadata": {},
   "outputs": [],
   "source": [
    "import numpy as np\n",
    "from tqdm.notebook import tqdm\n",
    "import matplotlib.pyplot as plt\n",
    "import matplotlib.colors as mcolors\n",
    "import cmocean\n",
    "\n",
    "from landlab.components import FlowDirectorMFD, FlowAccumulator\n",
    "from landlab.components.flexure import Flexure\n",
    "\n",
    "from stratigrapy import RasterModelGrid\n",
    "from stratigrapy.components import SeaLevelCalculator, WaterDrivenRouter"
   ]
  },
  {
   "cell_type": "markdown",
   "id": "c1ee7053-0393-4e03-9acd-ff36a05ba456",
   "metadata": {},
   "source": [
    "## 1. Simple subsidence"
   ]
  },
  {
   "cell_type": "markdown",
   "id": "b5523296-0013-4e46-b549-fcdb0dfeeb9c",
   "metadata": {},
   "source": [
    "We'll use the same case as in the [first notebook](1_basic-example.ipynb), starting with the same simulation time:"
   ]
  },
  {
   "cell_type": "code",
   "execution_count": null,
   "id": "5e6c7278-d0de-40f8-af94-78b43fe8235c",
   "metadata": {},
   "outputs": [],
   "source": [
    "timestep = 100.\n",
    "runtime = 500000.\n",
    "n_iterations = int(runtime/timestep)"
   ]
  },
  {
   "cell_type": "markdown",
   "id": "77be63ff-8c02-40b5-9156-1ce82567a868",
   "metadata": {},
   "source": [
    "Then the grid:"
   ]
  },
  {
   "cell_type": "code",
   "execution_count": null,
   "id": "25a8ea0d-4a53-4837-9300-08bd1114bb23",
   "metadata": {},
   "outputs": [],
   "source": [
    "grid = RasterModelGrid((25, 30),\n",
    "                       xy_spacing=(2500., 2500.),\n",
    "                       number_of_classes=2,\n",
    "                       initial_allocation=n_iterations//100 + 100,\n",
    "                       number_of_layers_to_fuse=100,\n",
    "                       number_of_top_layers=100,\n",
    "                       fuse_continuously=True)"
   ]
  },
  {
   "cell_type": "code",
   "execution_count": null,
   "id": "c55e12ec-63c9-415f-9ac4-cdb3e2961c89",
   "metadata": {},
   "outputs": [],
   "source": [
    "grid.set_closed_boundaries_at_grid_edges(True, True, True, False)"
   ]
  },
  {
   "cell_type": "markdown",
   "id": "f74d9b03-55af-42b1-b0b5-aa1cec0d6272",
   "metadata": {},
   "source": [
    "The initial topography:"
   ]
  },
  {
   "cell_type": "code",
   "execution_count": null,
   "id": "807cbb72-6170-4280-84b4-c1a8f1b80f51",
   "metadata": {},
   "outputs": [],
   "source": [
    "elevation = grid.add_zeros('topographic__elevation', at='node', clobber=True)\n",
    "elevation += 0.003*(grid.y_of_node - 50000.)"
   ]
  },
  {
   "cell_type": "markdown",
   "id": "99d21940-dc29-455f-a1f1-19d72f6d66ee",
   "metadata": {},
   "source": [
    "The sources of water and sediments:"
   ]
  },
  {
   "cell_type": "code",
   "execution_count": null,
   "id": "403e4e18-4435-450a-844d-11c652f0af53",
   "metadata": {},
   "outputs": [],
   "source": [
    "idx = np.ravel_multi_index(((23, 23), (14, 15)), grid.shape)\n",
    "water_influx = grid.add_zeros('water__unit_flux_in', at='node', clobber=True)\n",
    "water_influx[idx] = 5000. # m/yr"
   ]
  },
  {
   "cell_type": "code",
   "execution_count": null,
   "id": "5d21af5e-b6f8-4ce8-8207-68cf70a7b4ea",
   "metadata": {},
   "outputs": [],
   "source": [
    "sediment_influx = grid.add_field('sediment__unit_flux_in',\n",
    "                                 np.zeros((grid.number_of_nodes, 2)),\n",
    "                                 clobber=True)\n",
    "sediment_influx[idx] = [0.7*50000., 0.3*50000.] # m3/yr"
   ]
  },
  {
   "cell_type": "markdown",
   "id": "bdff274d-114a-4632-859c-e0bc8b2a4036",
   "metadata": {},
   "source": [
    "The component controlling sea level:"
   ]
  },
  {
   "cell_type": "code",
   "execution_count": null,
   "id": "fde42ce0-3bdd-4259-bf8f-dd2c0bdb4add",
   "metadata": {},
   "outputs": [],
   "source": [
    "slc = SeaLevelCalculator(grid, wavelength=[100000., 10000.], amplitude=[25., 2.5])"
   ]
  },
  {
   "cell_type": "markdown",
   "id": "73a293e6-351b-4b6e-af00-a7d6855768c5",
   "metadata": {},
   "source": [
    "The component controlling water flow:"
   ]
  },
  {
   "cell_type": "code",
   "execution_count": null,
   "id": "a833d855-e048-4761-8843-2c9d7aa61fda",
   "metadata": {},
   "outputs": [],
   "source": [
    "fd = FlowDirectorMFD(grid, partition_method='slope', diagonals=True)"
   ]
  },
  {
   "cell_type": "code",
   "execution_count": null,
   "id": "2a232636-e391-43f8-98d7-4415a451f1fa",
   "metadata": {},
   "outputs": [],
   "source": [
    "fa = FlowAccumulator(grid, flow_director=fd)"
   ]
  },
  {
   "cell_type": "markdown",
   "id": "f5d0d76d-f66e-43f0-9ec8-63534c845e61",
   "metadata": {},
   "source": [
    "The component controlling sediment transport:"
   ]
  },
  {
   "cell_type": "code",
   "execution_count": null,
   "id": "267c8297-67a2-4fa1-8c28-8ba751ba7118",
   "metadata": {},
   "outputs": [],
   "source": [
    "wdr = WaterDrivenRouter(grid,\n",
    "                        transportability_cont=[1e-8, 1e-8],\n",
    "                        transportability_mar=[4e-10, 2e-10],\n",
    "                        wave_base=15.,\n",
    "                        max_erosion_rate_sed=1e-2,\n",
    "                        max_erosion_rate_br=1e-12,\n",
    "                        bedrock_composition=[0.7, 0.3],\n",
    "                        fields_to_track='bathymetric__depth')"
   ]
  },
  {
   "cell_type": "markdown",
   "id": "8a9efb36-1ed6-4960-8765-cb6d35f74c70",
   "metadata": {},
   "source": [
    "Finally, we define a map of uplift rate, here defining a subsidence that increases linearly towards the deeper part of the domain:"
   ]
  },
  {
   "cell_type": "code",
   "execution_count": null,
   "id": "d4078e90-44de-4310-a102-930842b71631",
   "metadata": {},
   "outputs": [],
   "source": [
    "uplift = grid.add_zeros('uplift__rate', at='node', clobber=True)\n",
    "uplift += -2e-4 + (2e-4 - 1e-8)*(grid.y_of_node - grid.y_of_node.min())/np.ptp(grid.y_of_node)"
   ]
  },
  {
   "cell_type": "code",
   "execution_count": null,
   "id": "b624c36a-30ad-4fac-b25d-f6edb7070091",
   "metadata": {},
   "outputs": [],
   "source": [
    "grid.imshow('uplift__rate', var_name='Uplift rate', var_units='m/yr',\n",
    "            grid_units=['m', 'm'], cmap='magma_r')"
   ]
  },
  {
   "cell_type": "markdown",
   "id": "3338b03d-1430-41ad-8064-e77cf8be1f93",
   "metadata": {},
   "source": [
    "To add the subsidence during the simulation, we simply update the topography:"
   ]
  },
  {
   "cell_type": "code",
   "execution_count": null,
   "id": "f5412c10-5821-4286-874b-54ac984a280b",
   "metadata": {},
   "outputs": [],
   "source": [
    "for i in tqdm(range(n_iterations)):\n",
    "    elevation += uplift*timestep\n",
    "    slc.run_one_step(timestep)\n",
    "    fa.run_one_step()\n",
    "    wdr.run_one_step(timestep)\n",
    "    grid.stacked_layers.fuse(time=np.mean, bathymetric__depth=np.mean)\n",
    "grid.stacked_layers.fuse(finalize=True, time=np.mean, bathymetric__depth=np.mean)"
   ]
  },
  {
   "cell_type": "markdown",
   "id": "51e8f1a4-b785-4148-940f-c751511a4101",
   "metadata": {},
   "source": [
    "Let's visualize the result:"
   ]
  },
  {
   "cell_type": "code",
   "execution_count": null,
   "id": "e30c4a52-9e40-467c-830b-b1be445bdef8",
   "metadata": {},
   "outputs": [],
   "source": [
    "fig, ax = plt.subplots()\n",
    "\n",
    "raster_x = grid.x_of_node[grid.core_nodes].reshape(grid.cell_grid_shape)\n",
    "raster_y = grid.y_of_node[grid.core_nodes].reshape(grid.cell_grid_shape)\n",
    "raster_z = grid.at_node['topographic__elevation'][grid.core_nodes].reshape(grid.cell_grid_shape)\n",
    "\n",
    "pc = ax.pcolormesh(raster_x, raster_y, raster_z, cmap=cmocean.cm.topo,\n",
    "                   norm=mcolors.CenteredNorm(grid.at_grid['sea_level__elevation']))\n",
    "fig.colorbar(pc, ax=ax, label='Elevation (m)')\n",
    "\n",
    "ax.set(xlabel='y (m)', ylabel='y (m)', aspect='equal');"
   ]
  },
  {
   "cell_type": "code",
   "execution_count": null,
   "id": "303d426a-4a47-41f9-afb8-7f903f4cd85e",
   "metadata": {},
   "outputs": [],
   "source": [
    "fig, ax = plt.subplots(figsize=(10, 5.4))\n",
    "\n",
    "# Sediments\n",
    "pc = grid.plot_layers(ax, 'bathymetric__depth', cmap=cmocean.cm.deep, zorder=2)\n",
    "fig.colorbar(pc[0], ax=ax, label='Water depth (m)')\n",
    "\n",
    "raster_y = grid.y_of_node[grid.core_nodes].reshape(grid.cell_grid_shape)[:, 14]\n",
    "raster_z = grid.at_node['topographic__elevation'][grid.core_nodes].reshape(grid.cell_grid_shape)[:, 14]\n",
    "# Sea level\n",
    "fill_sea = ax.fill_between(raster_y, raster_z, grid.at_grid['sea_level__elevation'],\n",
    "                           color='#c6dbef', zorder=0)\n",
    "# Bedrock\n",
    "ymin, ymax = ax.get_ylim()\n",
    "ax.fill_between(raster_y, raster_z, ymin, color='#d9d9d9', zorder=1)\n",
    "\n",
    "ax.set(xlabel='y (m)', ylabel='z (m)', ylim=(ymin, ymax));"
   ]
  },
  {
   "cell_type": "markdown",
   "id": "39225adf-bf6c-48e5-8da4-a178189529ca",
   "metadata": {},
   "source": [
    "## 2. Lithospheric flexure"
   ]
  },
  {
   "cell_type": "markdown",
   "id": "d644f2a8-e2fc-480f-8d3e-54f8e1c06dc9",
   "metadata": {},
   "source": [
    "Landlab also has a component for lithospheric flexure that can be used with StratigraPy. Even though it doesn't make total sense, let's keep the same example:"
   ]
  },
  {
   "cell_type": "code",
   "execution_count": null,
   "id": "47cae11a-c537-44e3-87bd-5d7fd76666d4",
   "metadata": {},
   "outputs": [],
   "source": [
    "grid = RasterModelGrid((25, 30),\n",
    "                       xy_spacing=(2500., 2500.),\n",
    "                       number_of_classes=2,\n",
    "                       initial_allocation=n_iterations//100 + 100,\n",
    "                       number_of_layers_to_fuse=100,\n",
    "                       number_of_top_layers=100,\n",
    "                       fuse_continuously=True)\n",
    "grid.set_closed_boundaries_at_grid_edges(True, True, True, False)"
   ]
  },
  {
   "cell_type": "code",
   "execution_count": null,
   "id": "22d999cf-a2f5-43ca-8037-19ee2d83735f",
   "metadata": {},
   "outputs": [],
   "source": [
    "elevation = grid.add_zeros('topographic__elevation', at='node', clobber=True)\n",
    "elevation += 0.003*(grid.y_of_node - 50000.)"
   ]
  },
  {
   "cell_type": "code",
   "execution_count": null,
   "id": "e36096b6-24bf-4348-a960-9a4c64dde8af",
   "metadata": {},
   "outputs": [],
   "source": [
    "idx = np.ravel_multi_index(((23, 23), (14, 15)), grid.shape)\n",
    "water_influx = grid.add_zeros('water__unit_flux_in', at='node', clobber=True)\n",
    "water_influx[idx] = 5000. # m/yr\n",
    "sediment_influx = grid.add_field('sediment__unit_flux_in',\n",
    "                                 np.zeros((grid.number_of_nodes, 2)),\n",
    "                                 clobber=True)\n",
    "sediment_influx[idx] = [0.7*50000., 0.3*50000.] # m3/yr"
   ]
  },
  {
   "cell_type": "code",
   "execution_count": null,
   "id": "802c1248-53dc-4a79-a3a3-06bfa21eddcf",
   "metadata": {},
   "outputs": [],
   "source": [
    "slc = SeaLevelCalculator(grid, wavelength=[100000., 10000.], amplitude=[25., 2.5])"
   ]
  },
  {
   "cell_type": "code",
   "execution_count": null,
   "id": "3d3a4bc9-8620-4923-ba08-88039c2de2c9",
   "metadata": {},
   "outputs": [],
   "source": [
    "fd = FlowDirectorMFD(grid, partition_method='slope', diagonals=True)\n",
    "fa = FlowAccumulator(grid, flow_director=fd)"
   ]
  },
  {
   "cell_type": "code",
   "execution_count": null,
   "id": "35c0e2a6-82a1-4825-ace0-dcd56f09d785",
   "metadata": {},
   "outputs": [],
   "source": [
    "wdr = WaterDrivenRouter(grid,\n",
    "                        transportability_cont=[1e-8, 1e-8],\n",
    "                        transportability_mar=[4e-10, 2e-10],\n",
    "                        wave_base=15.,\n",
    "                        max_erosion_rate_sed=1e-2,\n",
    "                        max_erosion_rate_br=1e-12,\n",
    "                        bedrock_composition=[0.7, 0.3],\n",
    "                        fields_to_track='bathymetric__depth')"
   ]
  },
  {
   "cell_type": "markdown",
   "id": "33750151-1d1c-434f-81f4-b794eecd1198",
   "metadata": {},
   "source": [
    "And setup the Flexure component instead of an uplift rate map as explained [here](https://landlab.readthedocs.io/en/latest/tutorials/flexure/lots_of_loads.html):"
   ]
  },
  {
   "cell_type": "code",
   "execution_count": null,
   "id": "a02ddbe5-48d2-4ab9-9b21-40d67b16e1ff",
   "metadata": {},
   "outputs": [],
   "source": [
    "load = grid.add_zeros('lithosphere__overlying_pressure_increment', at='node', clobber=True)"
   ]
  },
  {
   "cell_type": "code",
   "execution_count": null,
   "id": "5058f796-68e7-4228-9ff2-88595fc8a315",
   "metadata": {},
   "outputs": [],
   "source": [
    "flex = Flexure(grid, eet=3000., method='flexure')"
   ]
  },
  {
   "cell_type": "markdown",
   "id": "b5c4ed7c-2a26-455a-acca-2d7aa8791ccd",
   "metadata": {},
   "source": [
    "To compute the flexure, we need to define the sediment density, here assuming that the two classes have the same density:"
   ]
  },
  {
   "cell_type": "code",
   "execution_count": null,
   "id": "d7956b98-83fc-4386-834f-ecfbbadaa725",
   "metadata": {},
   "outputs": [],
   "source": [
    "density_sed = 2650. # kg/m3"
   ]
  },
  {
   "cell_type": "markdown",
   "id": "257a12b3-2c6a-45c3-a172-fa0421c9c801",
   "metadata": {},
   "source": [
    "And we need to define arrays to store the total sediment thickness:"
   ]
  },
  {
   "cell_type": "code",
   "execution_count": null,
   "id": "aac91048-d5df-4b21-abc2-a6b6afd5a053",
   "metadata": {},
   "outputs": [],
   "source": [
    "thickness_sed = grid.add_zeros('sediments__thickness', at='node', clobber=True)\n",
    "thickness_sed[grid.core_nodes] = grid.stacked_layers.thickness\n",
    "prev_thickness_sed = thickness_sed.copy()"
   ]
  },
  {
   "cell_type": "markdown",
   "id": "0e7e6db9-3a41-47bd-85c2-b9d532105b81",
   "metadata": {},
   "source": [
    "Now we can run the simulation, adding the computation of load change at each timestep and applying that change to the topography:"
   ]
  },
  {
   "cell_type": "code",
   "execution_count": null,
   "id": "8e7bdcd4-050e-4ae0-8f7f-953f755d8e0e",
   "metadata": {},
   "outputs": [],
   "source": [
    "for i in tqdm(range(n_iterations)):\n",
    "    slc.run_one_step(timestep)\n",
    "    fa.run_one_step()\n",
    "    wdr.run_one_step(timestep)\n",
    "\n",
    "    # This looks alright, but Landlab's tutorial doesn't show how to do this step\n",
    "    thickness_sed[grid.core_nodes] = grid.stacked_layers.thickness\n",
    "    load[:] = density_sed*flex.gravity*(thickness_sed - prev_thickness_sed)\n",
    "    flex.update()\n",
    "    elevation -= grid.at_node['lithosphere_surface__elevation_increment']\n",
    "    prev_thickness_sed[:] = thickness_sed\n",
    "\n",
    "    grid.stacked_layers.fuse(time=np.mean, bathymetric__depth=np.mean)\n",
    "grid.stacked_layers.fuse(finalize=True, time=np.mean, bathymetric__depth=np.mean)"
   ]
  },
  {
   "cell_type": "markdown",
   "id": "abeceef2-5432-4484-95fc-d5140cf8aac3",
   "metadata": {},
   "source": [
    "Let's visualize the result:"
   ]
  },
  {
   "cell_type": "code",
   "execution_count": null,
   "id": "e66406ad-64ab-402b-92ff-77b548f218bc",
   "metadata": {},
   "outputs": [],
   "source": [
    "fig, ax = plt.subplots()\n",
    "\n",
    "raster_x = grid.x_of_node[grid.core_nodes].reshape(grid.cell_grid_shape)\n",
    "raster_y = grid.y_of_node[grid.core_nodes].reshape(grid.cell_grid_shape)\n",
    "raster_z = grid.at_node['topographic__elevation'][grid.core_nodes].reshape(grid.cell_grid_shape)\n",
    "\n",
    "pc = ax.pcolormesh(raster_x, raster_y, raster_z, cmap=cmocean.cm.topo,\n",
    "                   norm=mcolors.CenteredNorm(grid.at_grid['sea_level__elevation']))\n",
    "fig.colorbar(pc, ax=ax, label='Elevation (m)')\n",
    "\n",
    "ax.set(xlabel='y (m)', ylabel='y (m)', aspect='equal');"
   ]
  },
  {
   "cell_type": "code",
   "execution_count": null,
   "id": "7a976aa3-6d5c-4929-b2cf-11beeda88c4c",
   "metadata": {},
   "outputs": [],
   "source": [
    "fig, ax = plt.subplots(figsize=(10, 3.5))\n",
    "\n",
    "# Sediments\n",
    "pc = grid.plot_layers(ax, 'bathymetric__depth', cmap=cmocean.cm.deep, zorder=2)\n",
    "fig.colorbar(pc[0], ax=ax, label='Water depth (m)')\n",
    "\n",
    "raster_y = grid.y_of_node[grid.core_nodes].reshape(grid.cell_grid_shape)[:, 14]\n",
    "raster_z = grid.at_node['topographic__elevation'][grid.core_nodes].reshape(grid.cell_grid_shape)[:, 14]\n",
    "# Sea level\n",
    "fill_sea = ax.fill_between(raster_y, raster_z, grid.at_grid['sea_level__elevation'],\n",
    "                           color='#c6dbef', zorder=0)\n",
    "# Bedrock\n",
    "ymin, ymax = ax.get_ylim()\n",
    "ax.fill_between(raster_y, raster_z, ymin, color='#d9d9d9', zorder=1)\n",
    "\n",
    "ax.set(xlabel='y (m)', ylabel='z (m)', ylim=(ymin, ymax));"
   ]
  }
 ],
 "metadata": {
  "kernelspec": {
   "display_name": "Python 3 (ipykernel)",
   "language": "python",
   "name": "python3"
  },
  "language_info": {
   "codemirror_mode": {
    "name": "ipython",
    "version": 3
   },
   "file_extension": ".py",
   "mimetype": "text/x-python",
   "name": "python",
   "nbconvert_exporter": "python",
   "pygments_lexer": "ipython3",
   "version": "3.11.6"
  }
 },
 "nbformat": 4,
 "nbformat_minor": 5
}

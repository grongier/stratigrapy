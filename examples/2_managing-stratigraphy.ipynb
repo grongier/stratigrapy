{
 "cells": [
  {
   "cell_type": "markdown",
   "id": "6f506561-0a75-405b-bfa3-9945c035403a",
   "metadata": {},
   "source": [
    "<table align=\"left\">\n",
    "    <tr>\n",
    "        <td style=\"vertical-align: middle; padding-left: 0px; padding-right: 0px;\">\n",
    "            <a href=\"https://creativecommons.org/licenses/by/4.0/\">\n",
    "                <img src=\"https://licensebuttons.net/l/by/4.0/80x15.png\" />\n",
    "            </a>\n",
    "        </td>\n",
    "        <td style=\"vertical-align: middle; padding-left: 5px; padding-right: 0px;\">\n",
    "            <a href=\"https://opensource.org/licenses/MIT\">\n",
    "                <img src=\"https://img.shields.io/badge/License-MIT-green.svg\" />\n",
    "            </a>\n",
    "        </td>\n",
    "        <td style=\"vertical-align: middle; padding-left: 15px;\">\n",
    "            &copy; Guillaume Rongier\n",
    "        </td>\n",
    "    </tr>\n",
    "</table>"
   ]
  },
  {
   "cell_type": "markdown",
   "id": "fe04d3c0-3683-412f-b12e-25e5411b96b5",
   "metadata": {},
   "source": [
    "# Managing the stratigraphy"
   ]
  },
  {
   "cell_type": "markdown",
   "id": "aabe78cb-d5a1-4dfc-aad8-5e7f9edb10ea",
   "metadata": {},
   "source": [
    "This notebook starts from the basic example of the [first notebook](1_basic-example.ipynb) to show how handle the stratigraphy and the computational burden it induces in StratigraPy."
   ]
  },
  {
   "cell_type": "markdown",
   "id": "91bb5258-901f-4b8d-83b9-766f0d6ed354",
   "metadata": {},
   "source": [
    "### Imports"
   ]
  },
  {
   "cell_type": "markdown",
   "id": "47dc8f46-a9f1-4679-a0e0-960b145c2cd5",
   "metadata": {},
   "source": [
    "Let's first import all the required packages and components:"
   ]
  },
  {
   "cell_type": "code",
   "execution_count": null,
   "id": "d24cac43-3672-4140-a8d9-5bab94f67cdc",
   "metadata": {},
   "outputs": [],
   "source": [
    "import numpy as np\n",
    "from tqdm.notebook import tqdm\n",
    "\n",
    "from landlab.components import FlowDirectorMFD, FlowAccumulator\n",
    "\n",
    "from stratigrapy import RasterModelGrid\n",
    "from stratigrapy.components import CyclicSeaLevelCalculator, WaterDrivenRouter"
   ]
  },
  {
   "cell_type": "markdown",
   "id": "c1ee7053-0393-4e03-9acd-ff36a05ba456",
   "metadata": {},
   "source": [
    "## 1. Simulation with the default parameters"
   ]
  },
  {
   "cell_type": "markdown",
   "id": "9a17802f-612f-411a-9b4c-cce48cfea170",
   "metadata": {},
   "source": [
    "We'll use the same case as in the [first notebook](1_basic-example.ipynb), starting with the same simulation time:"
   ]
  },
  {
   "cell_type": "code",
   "execution_count": null,
   "id": "e5565bf5-23f7-4bdd-99c2-b811e449f396",
   "metadata": {},
   "outputs": [],
   "source": [
    "timestep = 100.\n",
    "runtime = 500000.\n",
    "n_iterations = int(runtime/timestep)"
   ]
  },
  {
   "cell_type": "markdown",
   "id": "52852376-a317-47d7-8acb-17f0e12f7a39",
   "metadata": {},
   "source": [
    "Contrary to the original case, we'll use the default values for the grid parameters, which don't pre-allocate the StackedLayers:"
   ]
  },
  {
   "cell_type": "code",
   "execution_count": null,
   "id": "d329c3f2-3457-43cb-a124-4dcf382cadab",
   "metadata": {},
   "outputs": [],
   "source": [
    "grid = RasterModelGrid((25, 30),\n",
    "                       xy_spacing=(2500., 2500.),\n",
    "                       number_of_classes=2)"
   ]
  },
  {
   "cell_type": "markdown",
   "id": "37a8e077-dff2-43b7-a724-cdd6c097ff56",
   "metadata": {},
   "source": [
    "Grid boundaries, initial topography, sources of water and sediments, and components remain the same:"
   ]
  },
  {
   "cell_type": "code",
   "execution_count": null,
   "id": "8cdf85b4-1728-4555-82c9-09499f56721e",
   "metadata": {},
   "outputs": [],
   "source": [
    "grid.set_closed_boundaries_at_grid_edges(True, True, True, False)"
   ]
  },
  {
   "cell_type": "code",
   "execution_count": null,
   "id": "e98fd7a4-1d34-43d8-9f91-032353930469",
   "metadata": {},
   "outputs": [],
   "source": [
    "elevation = grid.add_zeros('topographic__elevation', at='node', clobber=True)\n",
    "elevation += 0.003*(grid.y_of_node - 50000.)"
   ]
  },
  {
   "cell_type": "code",
   "execution_count": null,
   "id": "1333f48c-05a7-489d-a9e6-2367afbd6410",
   "metadata": {},
   "outputs": [],
   "source": [
    "idx = np.ravel_multi_index(((23, 23), (14, 15)), grid.shape)\n",
    "water_influx = grid.add_zeros('water__unit_flux_in', at='node', clobber=True)\n",
    "water_influx[idx] = 5000. # m/yr"
   ]
  },
  {
   "cell_type": "code",
   "execution_count": null,
   "id": "b50536cf-19a2-489a-ac34-583b28b1a0c4",
   "metadata": {},
   "outputs": [],
   "source": [
    "sediment_influx = grid.add_field('sediment__unit_flux_in',\n",
    "                                 np.zeros((grid.number_of_nodes, 2)),\n",
    "                                 clobber=True)\n",
    "sediment_influx[idx] = [0.7*50000., 0.3*50000.] # m3/yr"
   ]
  },
  {
   "cell_type": "code",
   "execution_count": null,
   "id": "da8952ac-738c-410b-9025-5c22020a2d2e",
   "metadata": {},
   "outputs": [],
   "source": [
    "slc = CyclicSeaLevelCalculator(grid, wavelength=[100000., 10000.], amplitude=[25., 2.5])"
   ]
  },
  {
   "cell_type": "code",
   "execution_count": null,
   "id": "e5eb51f2-e26b-409c-9d1a-ba6781b39def",
   "metadata": {},
   "outputs": [],
   "source": [
    "fd = FlowDirectorMFD(grid, partition_method='slope', diagonals=True)\n",
    "fa = FlowAccumulator(grid, flow_director=fd)"
   ]
  },
  {
   "cell_type": "code",
   "execution_count": null,
   "id": "8e58eb26-335f-41be-a2b4-f133811e3e64",
   "metadata": {},
   "outputs": [],
   "source": [
    "wdr = WaterDrivenRouter(grid,\n",
    "                        transportability_cont=[1e-8, 1e-8],\n",
    "                        transportability_mar=[4e-10, 2e-10],\n",
    "                        wave_base=15.,\n",
    "                        max_erosion_rate_sed=1e-2,\n",
    "                        max_erosion_rate_br=1e-12,\n",
    "                        bedrock_composition=[0.7, 0.3],\n",
    "                        fields_to_track='bathymetric__depth')"
   ]
  },
  {
   "cell_type": "markdown",
   "id": "6cf758b5-77d2-42c9-a956-c25f66e833ee",
   "metadata": {},
   "source": [
    "Now let's run the simulation with only the functions to run each component:"
   ]
  },
  {
   "cell_type": "code",
   "execution_count": null,
   "id": "be94a237-d195-42d5-97a8-f23f5e958c4e",
   "metadata": {},
   "outputs": [],
   "source": [
    "for i in tqdm(range(n_iterations)):\n",
    "    slc.run_one_step(timestep)\n",
    "    fa.run_one_step()\n",
    "    wdr.run_one_step(timestep)"
   ]
  },
  {
   "cell_type": "markdown",
   "id": "ad2bb106-fcc5-4c18-a747-0859500e75ff",
   "metadata": {},
   "source": [
    "The simulation takes much more time to run than in the [first notebook](1_basic-example.ipynb), and if you pay attention to the progress bar, you'll see that each iteration takes more and more time to run. Let's see how we can speed things up. "
   ]
  },
  {
   "cell_type": "markdown",
   "id": "6dec7732-b1b5-495f-b5e3-4d57bdc05d4c",
   "metadata": {},
   "source": [
    "## 2. Simulation with a pre-allocated stratigraphy"
   ]
  },
  {
   "cell_type": "markdown",
   "id": "9346ceaa-588b-46f2-bed4-2f25cd7df830",
   "metadata": {},
   "source": [
    "One reason the simulation is slow is that a new layer needs to be added at every step. This means adding a new column to the array representing the stratigraphy, which is an expensive operation. Instead, we can pre-allocated the stratigraphy using the parameter `initial_allocation` and the number of iterations that the simulation should run:"
   ]
  },
  {
   "cell_type": "code",
   "execution_count": null,
   "id": "f9712179-8f31-4490-beef-b45cdf8e43ac",
   "metadata": {},
   "outputs": [],
   "source": [
    "grid = RasterModelGrid((25, 30),\n",
    "                       xy_spacing=(2500., 2500.),\n",
    "                       number_of_classes=2,\n",
    "                       initial_allocation=n_iterations)"
   ]
  },
  {
   "cell_type": "markdown",
   "id": "ab8bbd22-5757-494b-ac72-d6afaa11dbd3",
   "metadata": {},
   "source": [
    "All the other steps remain unchanged:"
   ]
  },
  {
   "cell_type": "code",
   "execution_count": null,
   "id": "c0531302-620e-4e65-9d65-0ba6553a6555",
   "metadata": {},
   "outputs": [],
   "source": [
    "grid.set_closed_boundaries_at_grid_edges(True, True, True, False)"
   ]
  },
  {
   "cell_type": "code",
   "execution_count": null,
   "id": "301ec72c-5862-4014-9ce9-947980d8e95c",
   "metadata": {},
   "outputs": [],
   "source": [
    "elevation = grid.add_zeros('topographic__elevation', at='node', clobber=True)\n",
    "elevation += 0.003*(grid.y_of_node - 50000.)"
   ]
  },
  {
   "cell_type": "code",
   "execution_count": null,
   "id": "5898d353-4537-448d-9746-ff0b425fde98",
   "metadata": {},
   "outputs": [],
   "source": [
    "idx = np.ravel_multi_index(((23, 23), (14, 15)), grid.shape)\n",
    "water_influx = grid.add_zeros('water__unit_flux_in', at='node', clobber=True)\n",
    "water_influx[idx] = 5000. # m/yr"
   ]
  },
  {
   "cell_type": "code",
   "execution_count": null,
   "id": "0dc5bca1-b970-42cc-91ae-a99cf77c17c9",
   "metadata": {},
   "outputs": [],
   "source": [
    "sediment_influx = grid.add_field('sediment__unit_flux_in',\n",
    "                                 np.zeros((grid.number_of_nodes, 2)),\n",
    "                                 clobber=True)\n",
    "sediment_influx[idx] = [0.7*50000., 0.3*50000.] # m3/yr"
   ]
  },
  {
   "cell_type": "code",
   "execution_count": null,
   "id": "316e7d8c-7a5a-4a7e-84a2-cf9d08b3bf38",
   "metadata": {},
   "outputs": [],
   "source": [
    "slc = CyclicSeaLevelCalculator(grid, wavelength=[100000., 10000.], amplitude=[25., 2.5])"
   ]
  },
  {
   "cell_type": "code",
   "execution_count": null,
   "id": "b1dc1779-8629-478a-a31e-ae9b6c28c315",
   "metadata": {},
   "outputs": [],
   "source": [
    "fd = FlowDirectorMFD(grid, partition_method='slope', diagonals=True)\n",
    "fa = FlowAccumulator(grid, flow_director=fd)"
   ]
  },
  {
   "cell_type": "code",
   "execution_count": null,
   "id": "184e3ab7-952b-467a-828d-5918b993a123",
   "metadata": {},
   "outputs": [],
   "source": [
    "wdr = WaterDrivenRouter(grid,\n",
    "                        transportability_cont=[1e-8, 1e-8],\n",
    "                        transportability_mar=[4e-10, 2e-10],\n",
    "                        wave_base=15.,\n",
    "                        max_erosion_rate_sed=1e-2,\n",
    "                        max_erosion_rate_br=1e-12,\n",
    "                        bedrock_composition=[0.7, 0.3],\n",
    "                        fields_to_track='bathymetric__depth')"
   ]
  },
  {
   "cell_type": "code",
   "execution_count": null,
   "id": "8ecac106-edeb-4d6e-8e65-f9a2a6359611",
   "metadata": {},
   "outputs": [],
   "source": [
    "for i in tqdm(range(n_iterations)):\n",
    "    slc.run_one_step(timestep)\n",
    "    fa.run_one_step()\n",
    "    wdr.run_one_step(timestep)"
   ]
  },
  {
   "cell_type": "markdown",
   "id": "576cc273-45c7-4aa2-8996-b50aca84ee9e",
   "metadata": {},
   "source": [
    "The simulation is much faster, although it's still slowing down as it progresses. This is because we still add a new layer at each step, resulting in 5$\\,$000 layers that some operations need to iterate over, which takes time."
   ]
  },
  {
   "cell_type": "markdown",
   "id": "2dfd6603-2c16-476c-b34f-41d0c5de6af2",
   "metadata": {},
   "source": [
    "## 3. Simulation with an updated stratigraphy"
   ]
  },
  {
   "cell_type": "markdown",
   "id": "15fa0d09-bb55-4dba-b2bd-ee42b88069a3",
   "metadata": {},
   "source": [
    "Instead, we can merge steps together. Components that add layers in StratigraPy have an option to just update the top layer instead of adding a new one. We can make use of that to only add a layer every few steps, for instance by merging 100 steps together:"
   ]
  },
  {
   "cell_type": "code",
   "execution_count": null,
   "id": "2986cd16-ae90-4a3a-8dfc-93c3f50bd636",
   "metadata": {},
   "outputs": [],
   "source": [
    "update_step = 100"
   ]
  },
  {
   "cell_type": "markdown",
   "id": "9e56b23b-0903-4581-8ad8-4be53b5d39cd",
   "metadata": {},
   "source": [
    "Then we can reduce the pre-allocation in the StackedLayers:"
   ]
  },
  {
   "cell_type": "code",
   "execution_count": null,
   "id": "a2bc6c46-910d-430f-97de-8719ea76f9bf",
   "metadata": {},
   "outputs": [],
   "source": [
    "grid = RasterModelGrid((25, 30),\n",
    "                       xy_spacing=(2500., 2500.),\n",
    "                       number_of_classes=2,\n",
    "                       initial_allocation=n_iterations//update_step)"
   ]
  },
  {
   "cell_type": "markdown",
   "id": "af036894-1770-4c90-b45d-3bcbb6b5a584",
   "metadata": {},
   "source": [
    "All the other steps remain unchanged:"
   ]
  },
  {
   "cell_type": "code",
   "execution_count": null,
   "id": "f58c9ff1-66f3-47c8-bd4f-e82a5bb18470",
   "metadata": {},
   "outputs": [],
   "source": [
    "grid.set_closed_boundaries_at_grid_edges(True, True, True, False)"
   ]
  },
  {
   "cell_type": "code",
   "execution_count": null,
   "id": "ebe9c122-acdc-4c8e-abe7-72cb81f9c999",
   "metadata": {},
   "outputs": [],
   "source": [
    "elevation = grid.add_zeros('topographic__elevation', at='node', clobber=True)\n",
    "elevation += 0.003*(grid.y_of_node - 50000.)"
   ]
  },
  {
   "cell_type": "code",
   "execution_count": null,
   "id": "39b16076-a291-460b-8ca6-6b76ff6531b6",
   "metadata": {},
   "outputs": [],
   "source": [
    "idx = np.ravel_multi_index(((23, 23), (14, 15)), grid.shape)\n",
    "water_influx = grid.add_zeros('water__unit_flux_in', at='node', clobber=True)\n",
    "water_influx[idx] = 5000. # m/yr"
   ]
  },
  {
   "cell_type": "code",
   "execution_count": null,
   "id": "466b60b7-ca37-4e16-a637-ba420eee4735",
   "metadata": {},
   "outputs": [],
   "source": [
    "sediment_influx = grid.add_field('sediment__unit_flux_in',\n",
    "                                 np.zeros((grid.number_of_nodes, 2)),\n",
    "                                 clobber=True)\n",
    "sediment_influx[idx] = [0.7*50000., 0.3*50000.] # m3/yr"
   ]
  },
  {
   "cell_type": "code",
   "execution_count": null,
   "id": "4a893aa8-288d-44ee-b8c9-2d96efcc95a5",
   "metadata": {},
   "outputs": [],
   "source": [
    "slc = CyclicSeaLevelCalculator(grid, wavelength=[100000., 10000.], amplitude=[25., 2.5])"
   ]
  },
  {
   "cell_type": "code",
   "execution_count": null,
   "id": "e100f18d-6a76-44fa-a895-f6cb3e15ae03",
   "metadata": {},
   "outputs": [],
   "source": [
    "fd = FlowDirectorMFD(grid, partition_method='slope', diagonals=True)\n",
    "fa = FlowAccumulator(grid, flow_director=fd)"
   ]
  },
  {
   "cell_type": "code",
   "execution_count": null,
   "id": "43b45905-e52d-41d8-9af4-492a0a9ba27e",
   "metadata": {},
   "outputs": [],
   "source": [
    "wdr = WaterDrivenRouter(grid,\n",
    "                        transportability_cont=[1e-8, 1e-8],\n",
    "                        transportability_mar=[4e-10, 2e-10],\n",
    "                        wave_base=15.,\n",
    "                        max_erosion_rate_sed=1e-2,\n",
    "                        max_erosion_rate_br=1e-12,\n",
    "                        bedrock_composition=[0.7, 0.3],\n",
    "                        fields_to_track='bathymetric__depth')"
   ]
  },
  {
   "cell_type": "markdown",
   "id": "9c60ecbf-0f7c-4564-ac86-263c0b5dafe5",
   "metadata": {},
   "source": [
    "Except for the simulation run, where we only need to add a new layer every 100 steps:"
   ]
  },
  {
   "cell_type": "code",
   "execution_count": null,
   "id": "9274068f-abe1-4ed7-9a00-cce127a7279e",
   "metadata": {},
   "outputs": [],
   "source": [
    "for i in tqdm(range(n_iterations)):\n",
    "    slc.run_one_step(timestep)\n",
    "    fa.run_one_step()\n",
    "    update = False if i%update_step == 0 else True\n",
    "    wdr.run_one_step(timestep, update=update)"
   ]
  },
  {
   "cell_type": "markdown",
   "id": "73823884-afcc-4d14-8dee-0948863ce5f1",
   "metadata": {},
   "source": [
    "This is even faster, but it raises two issues:\n",
    "* In the current implementation, there is no way to control how layer properties are merged. Here for instance the bathymetric depth is the one from the latest step.\n",
    "* The active layer may become too thick for its composition to be representative of the true superficial composition."
   ]
  },
  {
   "cell_type": "markdown",
   "id": "08e3af6f-10e9-412b-b703-0e2adc03fa02",
   "metadata": {},
   "source": [
    "## 4. Simulation with a fused stratigraphy"
   ]
  },
  {
   "cell_type": "markdown",
   "id": "b4ad8506-b078-4039-97c2-053276bc96f1",
   "metadata": {},
   "source": [
    "Instead, we can fuse layers after they've been added, leaving the first few layers untouched to preserve the active layer. To do so, we need to adapt the grid:"
   ]
  },
  {
   "cell_type": "code",
   "execution_count": null,
   "id": "50e3cf0b-8841-48d4-8c70-1dedd627b4ad",
   "metadata": {},
   "outputs": [],
   "source": [
    "grid = RasterModelGrid((25, 30),\n",
    "                       xy_spacing=(2500., 2500.),\n",
    "                       number_of_classes=2,\n",
    "                       initial_allocation=n_iterations//update_step + update_step,\n",
    "                       number_of_layers_to_fuse=update_step,\n",
    "                       number_of_top_layers=update_step)"
   ]
  },
  {
   "cell_type": "markdown",
   "id": "b9f6ed85-d178-4672-a6bf-c58e9e80b978",
   "metadata": {},
   "source": [
    "All the other steps remain unchanged:"
   ]
  },
  {
   "cell_type": "code",
   "execution_count": null,
   "id": "ebd5a973-3530-4517-8af0-b4e2588d3124",
   "metadata": {},
   "outputs": [],
   "source": [
    "grid.set_closed_boundaries_at_grid_edges(True, True, True, False)"
   ]
  },
  {
   "cell_type": "code",
   "execution_count": null,
   "id": "fc9e3a30-9d40-4e65-ba6f-d95c94179666",
   "metadata": {},
   "outputs": [],
   "source": [
    "elevation = grid.add_zeros('topographic__elevation', at='node', clobber=True)\n",
    "elevation += 0.003*(grid.y_of_node - 50000.)"
   ]
  },
  {
   "cell_type": "code",
   "execution_count": null,
   "id": "02597060-ff63-40c9-94b0-10553bdb15d7",
   "metadata": {},
   "outputs": [],
   "source": [
    "idx = np.ravel_multi_index(((23, 23), (14, 15)), grid.shape)\n",
    "water_influx = grid.add_zeros('water__unit_flux_in', at='node', clobber=True)\n",
    "water_influx[idx] = 5000. # m/yr"
   ]
  },
  {
   "cell_type": "code",
   "execution_count": null,
   "id": "af5cc303-95a1-471b-bea3-2696f1e316d6",
   "metadata": {},
   "outputs": [],
   "source": [
    "sediment_influx = grid.add_field('sediment__unit_flux_in',\n",
    "                                 np.zeros((grid.number_of_nodes, 2)),\n",
    "                                 clobber=True)\n",
    "sediment_influx[idx] = [0.7*50000., 0.3*50000.] # m3/yr"
   ]
  },
  {
   "cell_type": "code",
   "execution_count": null,
   "id": "e150fa18-d902-4b3a-8ed2-46c8bc46caaf",
   "metadata": {},
   "outputs": [],
   "source": [
    "slc = CyclicSeaLevelCalculator(grid, wavelength=[100000., 10000.], amplitude=[25., 2.5])"
   ]
  },
  {
   "cell_type": "code",
   "execution_count": null,
   "id": "e9eabaf8-812f-47dc-ba39-0b125191dcf2",
   "metadata": {},
   "outputs": [],
   "source": [
    "fd = FlowDirectorMFD(grid, partition_method='slope', diagonals=True)\n",
    "fa = FlowAccumulator(grid, flow_director=fd)"
   ]
  },
  {
   "cell_type": "code",
   "execution_count": null,
   "id": "62002288-31e2-4ab1-b921-fdd590d5b0c9",
   "metadata": {},
   "outputs": [],
   "source": [
    "wdr = WaterDrivenRouter(grid,\n",
    "                        transportability_cont=[1e-8, 1e-8],\n",
    "                        transportability_mar=[4e-10, 2e-10],\n",
    "                        wave_base=15.,\n",
    "                        max_erosion_rate_sed=1e-2,\n",
    "                        max_erosion_rate_br=1e-12,\n",
    "                        bedrock_composition=[0.7, 0.3],\n",
    "                        fields_to_track='bathymetric__depth')"
   ]
  },
  {
   "cell_type": "markdown",
   "id": "00dddf23-0bdd-4d02-ab07-0c312a1ac1c6",
   "metadata": {},
   "source": [
    "Except for the simulation run, where we need to call the function `fuse` to fuse the layers:"
   ]
  },
  {
   "cell_type": "code",
   "execution_count": null,
   "id": "083ff8b6-f441-420f-bb9a-f9b0510f4241",
   "metadata": {},
   "outputs": [],
   "source": [
    "for i in tqdm(range(n_iterations)):\n",
    "    slc.run_one_step(timestep)\n",
    "    fa.run_one_step()\n",
    "    wdr.run_one_step(timestep)\n",
    "    grid.stacked_layers.fuse(time=np.mean, bathymetric__depth=np.mean)\n",
    "grid.stacked_layers.fuse(finalize=True, time=np.mean, bathymetric__depth=np.mean)"
   ]
  },
  {
   "cell_type": "markdown",
   "id": "c1344a48-3e36-4aa5-8775-8f2ba5d4a181",
   "metadata": {},
   "source": [
    "Note that here we can control how different properties are fused, e.g., using `np.mean`, `np.sum`, `np.min`, etc. However layers are fused as soon as they leave the top few layers defined by `number_of_top_layers`, which will lead to wrong results with some operations such as `np.median` (`np.mean` is processed internally to return the right results).\n",
    "\n",
    "To use `np.median`, we need to deactivate the continuous fusing, like so:"
   ]
  },
  {
   "cell_type": "markdown",
   "id": "6d48217c-49e5-42b2-ae2a-a961f2df0958",
   "metadata": {},
   "source": [
    "All the other steps remain unchanged:"
   ]
  },
  {
   "cell_type": "code",
   "execution_count": null,
   "id": "838f755f-0678-4a62-8445-a46171f9d41f",
   "metadata": {},
   "outputs": [],
   "source": [
    "grid.set_closed_boundaries_at_grid_edges(True, True, True, False)"
   ]
  },
  {
   "cell_type": "code",
   "execution_count": null,
   "id": "e1eca85e-2a05-4a99-8ac6-056d8bc4721d",
   "metadata": {},
   "outputs": [],
   "source": [
    "elevation = grid.add_zeros('topographic__elevation', at='node', clobber=True)\n",
    "elevation += 0.003*(grid.y_of_node - 50000.)"
   ]
  },
  {
   "cell_type": "code",
   "execution_count": null,
   "id": "c95322e7-f863-4e69-bdfa-cc0ec0c0684f",
   "metadata": {},
   "outputs": [],
   "source": [
    "idx = np.ravel_multi_index(((23, 23), (14, 15)), grid.shape)\n",
    "water_influx = grid.add_zeros('water__unit_flux_in', at='node', clobber=True)\n",
    "water_influx[idx] = 5000. # m/yr"
   ]
  },
  {
   "cell_type": "code",
   "execution_count": null,
   "id": "1a584355-9060-48fe-b5f6-66b2c274f1dc",
   "metadata": {},
   "outputs": [],
   "source": [
    "sediment_influx = grid.add_field('sediment__unit_flux_in',\n",
    "                                 np.zeros((grid.number_of_nodes, 2)),\n",
    "                                 clobber=True)\n",
    "sediment_influx[idx] = [0.7*50000., 0.3*50000.] # m3/yr"
   ]
  },
  {
   "cell_type": "code",
   "execution_count": null,
   "id": "ff65d5ea-6a97-4dc1-9b54-8c3113f9e0bf",
   "metadata": {},
   "outputs": [],
   "source": [
    "slc = CyclicSeaLevelCalculator(grid, wavelength=[100000., 10000.], amplitude=[25., 2.5])"
   ]
  },
  {
   "cell_type": "code",
   "execution_count": null,
   "id": "4fd86f8d-536d-4495-a72f-55ed6b3c0e6b",
   "metadata": {},
   "outputs": [],
   "source": [
    "fd = FlowDirectorMFD(grid, partition_method='slope', diagonals=True)\n",
    "fa = FlowAccumulator(grid, flow_director=fd)"
   ]
  },
  {
   "cell_type": "code",
   "execution_count": null,
   "id": "e8aeb426-c99c-47db-aa4e-83fdee32ced2",
   "metadata": {},
   "outputs": [],
   "source": [
    "wdr = WaterDrivenRouter(grid,\n",
    "                        transportability_cont=[1e-8, 1e-8],\n",
    "                        transportability_mar=[4e-10, 2e-10],\n",
    "                        wave_base=15.,\n",
    "                        max_erosion_rate_sed=1e-2,\n",
    "                        max_erosion_rate_br=1e-12,\n",
    "                        bedrock_composition=[0.7, 0.3],\n",
    "                        fields_to_track='bathymetric__depth')"
   ]
  },
  {
   "cell_type": "markdown",
   "id": "52e3ebfd-8b6d-44f0-bd7e-421743b92a85",
   "metadata": {},
   "source": [
    "Except for the simulation run, where we use the median for the bathymetric depth:"
   ]
  },
  {
   "cell_type": "code",
   "execution_count": null,
   "id": "fba09483-579f-43fb-b5d3-55189952acfc",
   "metadata": {},
   "outputs": [],
   "source": [
    "for i in tqdm(range(n_iterations)):\n",
    "    slc.run_one_step(timestep)\n",
    "    fa.run_one_step()\n",
    "    wdr.run_one_step(timestep)\n",
    "    grid.stacked_layers.fuse(time=np.mean, bathymetric__depth=np.median)\n",
    "grid.stacked_layers.fuse(finalize=True, time=np.mean, bathymetric__depth=np.median)"
   ]
  },
  {
   "cell_type": "markdown",
   "id": "3b2c636e-e4dd-4ba0-bcf2-fe382934a471",
   "metadata": {},
   "source": [
    "Note that with large numbers of steps merged together run time will increase."
   ]
  }
 ],
 "metadata": {
  "kernelspec": {
   "display_name": "Python 3 (ipykernel)",
   "language": "python",
   "name": "python3"
  },
  "language_info": {
   "codemirror_mode": {
    "name": "ipython",
    "version": 3
   },
   "file_extension": ".py",
   "mimetype": "text/x-python",
   "name": "python",
   "nbconvert_exporter": "python",
   "pygments_lexer": "ipython3",
   "version": "3.11.6"
  }
 },
 "nbformat": 4,
 "nbformat_minor": 5
}

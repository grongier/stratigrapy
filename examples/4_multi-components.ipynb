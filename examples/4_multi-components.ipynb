{
 "cells": [
  {
   "cell_type": "markdown",
   "id": "6f506561-0a75-405b-bfa3-9945c035403a",
   "metadata": {},
   "source": [
    "<table align=\"left\">\n",
    "    <tr>\n",
    "        <td style=\"vertical-align: middle; padding-left: 0px; padding-right: 0px;\">\n",
    "            <a href=\"https://creativecommons.org/licenses/by/4.0/\">\n",
    "                <img src=\"https://licensebuttons.net/l/by/4.0/80x15.png\" />\n",
    "            </a>\n",
    "        </td>\n",
    "        <td style=\"vertical-align: middle; padding-left: 5px; padding-right: 0px;\">\n",
    "            <a href=\"https://opensource.org/licenses/MIT\">\n",
    "                <img src=\"https://img.shields.io/badge/License-MIT-green.svg\" />\n",
    "            </a>\n",
    "        </td>\n",
    "        <td style=\"vertical-align: middle; padding-left: 15px;\">\n",
    "            &copy; Guillaume Rongier\n",
    "        </td>\n",
    "    </tr>\n",
    "</table>"
   ]
  },
  {
   "cell_type": "markdown",
   "id": "fe04d3c0-3683-412f-b12e-25e5411b96b5",
   "metadata": {},
   "source": [
    "# Using multiple components"
   ]
  },
  {
   "cell_type": "markdown",
   "id": "aabe78cb-d5a1-4dfc-aad8-5e7f9edb10ea",
   "metadata": {},
   "source": [
    "This notebook starts from the basic example of the [first notebook](1_basic-example.ipynb) to show how to manage the stratigraphy when combining multiple StratigraPy components."
   ]
  },
  {
   "cell_type": "markdown",
   "id": "91bb5258-901f-4b8d-83b9-766f0d6ed354",
   "metadata": {},
   "source": [
    "### Imports"
   ]
  },
  {
   "cell_type": "markdown",
   "id": "74121609-c2cb-459e-9d21-2c20248ec07b",
   "metadata": {},
   "source": [
    "Let's first import all the required packages and components:"
   ]
  },
  {
   "cell_type": "code",
   "execution_count": null,
   "id": "d24cac43-3672-4140-a8d9-5bab94f67cdc",
   "metadata": {},
   "outputs": [],
   "source": [
    "import numpy as np\n",
    "from tqdm.notebook import tqdm\n",
    "import matplotlib.pyplot as plt\n",
    "import matplotlib.colors as mcolors\n",
    "import cmocean\n",
    "\n",
    "from landlab.components import FlowDirectorMFD, FlowAccumulator\n",
    "\n",
    "from stratigrapy import RasterModelGrid\n",
    "from stratigrapy.components import SeaLevelCalculator, GravityDrivenDiffuser, WaterDrivenDiffuser"
   ]
  },
  {
   "cell_type": "markdown",
   "id": "c1ee7053-0393-4e03-9acd-ff36a05ba456",
   "metadata": {},
   "source": [
    "## 1. Adding gravity-driven diffusion"
   ]
  },
  {
   "cell_type": "markdown",
   "id": "b5523296-0013-4e46-b549-fcdb0dfeeb9c",
   "metadata": {},
   "source": [
    "We'll use the same case as in the [first notebook](1_basic-example.ipynb), starting with the same simulation time:"
   ]
  },
  {
   "cell_type": "code",
   "execution_count": null,
   "id": "5e6c7278-d0de-40f8-af94-78b43fe8235c",
   "metadata": {},
   "outputs": [],
   "source": [
    "timestep = 100.\n",
    "runtime = 500000.\n",
    "n_iterations = int(runtime/timestep)"
   ]
  },
  {
   "cell_type": "markdown",
   "id": "77be63ff-8c02-40b5-9156-1ce82567a868",
   "metadata": {},
   "source": [
    "Then the grid:"
   ]
  },
  {
   "cell_type": "code",
   "execution_count": null,
   "id": "25a8ea0d-4a53-4837-9300-08bd1114bb23",
   "metadata": {},
   "outputs": [],
   "source": [
    "grid = RasterModelGrid((25, 30),\n",
    "                       xy_spacing=(2500., 2500.),\n",
    "                       number_of_classes=2,\n",
    "                       initial_allocation=n_iterations//100 + 100,\n",
    "                       number_of_layers_to_fuse=100,\n",
    "                       number_of_top_layers=100,\n",
    "                       fuse_continuously=True)"
   ]
  },
  {
   "cell_type": "code",
   "execution_count": null,
   "id": "c55e12ec-63c9-415f-9ac4-cdb3e2961c89",
   "metadata": {},
   "outputs": [],
   "source": [
    "grid.set_closed_boundaries_at_grid_edges(True, True, True, False)"
   ]
  },
  {
   "cell_type": "markdown",
   "id": "f74d9b03-55af-42b1-b0b5-aa1cec0d6272",
   "metadata": {},
   "source": [
    "The initial topography:"
   ]
  },
  {
   "cell_type": "code",
   "execution_count": null,
   "id": "807cbb72-6170-4280-84b4-c1a8f1b80f51",
   "metadata": {},
   "outputs": [],
   "source": [
    "elevation = grid.add_zeros('topographic__elevation', at='node', clobber=True)\n",
    "elevation += 0.003*(grid.y_of_node - 50000.)"
   ]
  },
  {
   "cell_type": "markdown",
   "id": "99d21940-dc29-455f-a1f1-19d72f6d66ee",
   "metadata": {},
   "source": [
    "The sources of water and sediments:"
   ]
  },
  {
   "cell_type": "code",
   "execution_count": null,
   "id": "403e4e18-4435-450a-844d-11c652f0af53",
   "metadata": {},
   "outputs": [],
   "source": [
    "idx = np.ravel_multi_index(((23, 23), (14, 15)), grid.shape)\n",
    "water_influx = grid.add_zeros('water__unit_flux_in', at='node', clobber=True)\n",
    "water_influx[idx] = 5000. # m/yr"
   ]
  },
  {
   "cell_type": "code",
   "execution_count": null,
   "id": "5d21af5e-b6f8-4ce8-8207-68cf70a7b4ea",
   "metadata": {},
   "outputs": [],
   "source": [
    "sediment_influx = grid.add_field('sediment__unit_flux_in',\n",
    "                                 np.zeros((grid.number_of_nodes, 2)),\n",
    "                                 clobber=True)\n",
    "sediment_influx[idx] = [0.7*50000., 0.3*50000.] # m3/yr"
   ]
  },
  {
   "cell_type": "markdown",
   "id": "bdff274d-114a-4632-859c-e0bc8b2a4036",
   "metadata": {},
   "source": [
    "The component controlling sea level:"
   ]
  },
  {
   "cell_type": "code",
   "execution_count": null,
   "id": "fde42ce0-3bdd-4259-bf8f-dd2c0bdb4add",
   "metadata": {},
   "outputs": [],
   "source": [
    "slc = SeaLevelCalculator(grid, wavelength=[100000., 10000.], amplitude=[25., 2.5])"
   ]
  },
  {
   "cell_type": "markdown",
   "id": "73a293e6-351b-4b6e-af00-a7d6855768c5",
   "metadata": {},
   "source": [
    "The component controlling water flow:"
   ]
  },
  {
   "cell_type": "code",
   "execution_count": null,
   "id": "a833d855-e048-4761-8843-2c9d7aa61fda",
   "metadata": {},
   "outputs": [],
   "source": [
    "fd = FlowDirectorMFD(grid, partition_method='slope', diagonals=True)"
   ]
  },
  {
   "cell_type": "code",
   "execution_count": null,
   "id": "2a232636-e391-43f8-98d7-4415a451f1fa",
   "metadata": {},
   "outputs": [],
   "source": [
    "fa = FlowAccumulator(grid, flow_director=fd)"
   ]
  },
  {
   "cell_type": "markdown",
   "id": "f5d0d76d-f66e-43f0-9ec8-63534c845e61",
   "metadata": {},
   "source": [
    "The component controlling sediment transport:"
   ]
  },
  {
   "cell_type": "code",
   "execution_count": null,
   "id": "267c8297-67a2-4fa1-8c28-8ba751ba7118",
   "metadata": {},
   "outputs": [],
   "source": [
    "wdd = WaterDrivenDiffuser(grid,\n",
    "                          transportability_cont=[1e-8, 1e-8],\n",
    "                          transportability_mar=[4e-10, 2e-10],\n",
    "                          wave_base=15.,\n",
    "                          max_erosion_rate_sed=1e-2,\n",
    "                          max_erosion_rate_br=1e-12,\n",
    "                          active_layer_rate=None,\n",
    "                          bedrock_composition=[0.7, 0.3],\n",
    "                          fields_to_track='bathymetric__depth')"
   ]
  },
  {
   "cell_type": "markdown",
   "id": "8a9efb36-1ed6-4960-8765-cb6d35f74c70",
   "metadata": {},
   "source": [
    "Finally, we add a new component for gravity-driven diffusion, i.e., where sediments only moved based on the slope:"
   ]
  },
  {
   "cell_type": "code",
   "execution_count": null,
   "id": "d4078e90-44de-4310-a102-930842b71631",
   "metadata": {},
   "outputs": [],
   "source": [
    "gdd = GravityDrivenDiffuser(grid,\n",
    "                            diffusivity_cont=[1e-2, 1e-2],\n",
    "                            diffusivity_mar=[4e-3, 2e-3],\n",
    "                            wave_base=15.,\n",
    "                            max_erosion_rate=1e-2,\n",
    "                            fields_to_track='bathymetric__depth')"
   ]
  },
  {
   "cell_type": "markdown",
   "id": "3338b03d-1430-41ad-8064-e77cf8be1f93",
   "metadata": {},
   "source": [
    "We can now run the model with a slight change: we add the function to run the new diffusion component, with the option of updating the top layer instead of adding a new layer. That way we don't increase much the computational burden."
   ]
  },
  {
   "cell_type": "code",
   "execution_count": null,
   "id": "f5412c10-5821-4286-874b-54ac984a280b",
   "metadata": {},
   "outputs": [],
   "source": [
    "for i in tqdm(range(n_iterations)):\n",
    "    slc.run_one_step(timestep)\n",
    "    fa.run_one_step()\n",
    "    wdd.run_one_step(timestep)\n",
    "    gdd.run_one_step(timestep, update_compatible=True)\n",
    "    grid.stacked_layers.fuse(time=np.mean, bathymetric__depth=np.mean)\n",
    "grid.stacked_layers.fuse(finalize=True, time=np.mean, bathymetric__depth=np.mean)"
   ]
  },
  {
   "cell_type": "markdown",
   "id": "51e8f1a4-b785-4148-940f-c751511a4101",
   "metadata": {},
   "source": [
    "Let's visualize the result:"
   ]
  },
  {
   "cell_type": "code",
   "execution_count": null,
   "id": "e30c4a52-9e40-467c-830b-b1be445bdef8",
   "metadata": {},
   "outputs": [],
   "source": [
    "fig, ax = plt.subplots()\n",
    "\n",
    "raster_x = grid.x_of_node[grid.core_nodes].reshape(grid.cell_grid_shape)\n",
    "raster_y = grid.y_of_node[grid.core_nodes].reshape(grid.cell_grid_shape)\n",
    "raster_z = grid.at_node['topographic__elevation'][grid.core_nodes].reshape(grid.cell_grid_shape)\n",
    "\n",
    "pc = ax.pcolormesh(raster_x, raster_y, raster_z, cmap=cmocean.cm.topo,\n",
    "                   norm=mcolors.CenteredNorm(grid.at_grid['sea_level__elevation']))\n",
    "fig.colorbar(pc, ax=ax, label='Elevation (m)')\n",
    "\n",
    "ax.set(xlabel='y (m)', ylabel='y (m)', aspect='equal');"
   ]
  },
  {
   "cell_type": "code",
   "execution_count": null,
   "id": "17def39d-68b1-418b-bf9a-4fb1e4e85b7e",
   "metadata": {},
   "outputs": [],
   "source": [
    "fig, ax = plt.subplots(figsize=(10, 3.5))\n",
    "\n",
    "raster_y = grid.y_of_node[grid.core_nodes].reshape(grid.cell_grid_shape)[:, 14]\n",
    "raster_z = grid.at_node['topographic__elevation'][grid.core_nodes].reshape(grid.cell_grid_shape)[:, 14]\n",
    "# Sea level\n",
    "fill_sea = ax.fill_between(raster_y, raster_z, grid.at_grid['sea_level__elevation'],\n",
    "                           color='#c6dbef', zorder=0)\n",
    "# Bedrock\n",
    "ax.fill_between(raster_y, raster_z, raster_z.min(), color='#d9d9d9')\n",
    "\n",
    "# Sediments\n",
    "pc = grid.plot_layers(ax, 'bathymetric__depth', cmap=cmocean.cm.deep)\n",
    "fig.colorbar(pc[0], ax=ax, label='Water depth (m)')\n",
    "\n",
    "ax.set(xlabel='y (m)', ylabel='z (m)');"
   ]
  },
  {
   "cell_type": "markdown",
   "id": "4f9239d2-5b46-42c1-8d3f-5b97acd9f254",
   "metadata": {},
   "source": [
    "## 2. Using only gravity-driven diffusion in the marine domain"
   ]
  },
  {
   "cell_type": "markdown",
   "id": "4d50b902-3953-40cf-b6c4-817764bb75cd",
   "metadata": {},
   "source": [
    "The WaterDrivenDiffuser follows the same principle as in [Granjeon (1996)](https://theses.hal.science/tel-00648827v1): water keep flowing into the sea, although it's influence decreases with depth through a depth-dependent transportability. Other models, including [Landlab](https://landlab.csdms.io/tutorials/marine_sediment_transport/simple_submarine_diffuser_tutorial.html), use only a gravity-driven diffusion in the marine domain. Let's see how we can still mimic that behavior.\n",
    "\n",
    "Grid, initial topography, sediment and water sources, sea level variations, and water flow remain the same:"
   ]
  },
  {
   "cell_type": "code",
   "execution_count": null,
   "id": "5df36807-6b12-47a2-b565-fefbdef87ebd",
   "metadata": {},
   "outputs": [],
   "source": [
    "grid = RasterModelGrid((25, 30),\n",
    "                       xy_spacing=(2500., 2500.),\n",
    "                       number_of_classes=2,\n",
    "                       initial_allocation=n_iterations//100 + 100,\n",
    "                       number_of_layers_to_fuse=100,\n",
    "                       number_of_top_layers=100,\n",
    "                       fuse_continuously=True)"
   ]
  },
  {
   "cell_type": "code",
   "execution_count": null,
   "id": "3b6ea739-b724-4f69-b0ad-50c5f570ab69",
   "metadata": {},
   "outputs": [],
   "source": [
    "grid.set_closed_boundaries_at_grid_edges(True, True, True, False)"
   ]
  },
  {
   "cell_type": "code",
   "execution_count": null,
   "id": "2c3c7042-7d1d-4788-9d84-517ae47bc431",
   "metadata": {},
   "outputs": [],
   "source": [
    "elevation = grid.add_zeros('topographic__elevation', at='node', clobber=True)\n",
    "elevation += 0.003*(grid.y_of_node - 50000.)"
   ]
  },
  {
   "cell_type": "code",
   "execution_count": null,
   "id": "611f7d89-c5e6-4f62-82f6-f1d59d194d32",
   "metadata": {},
   "outputs": [],
   "source": [
    "idx = np.ravel_multi_index(((23, 23), (14, 15)), grid.shape)\n",
    "water_influx = grid.add_zeros('water__unit_flux_in', at='node', clobber=True)\n",
    "water_influx[idx] = 5000. # m/yr"
   ]
  },
  {
   "cell_type": "code",
   "execution_count": null,
   "id": "5c9af246-0ab0-490d-a5fd-10cba36c4eb9",
   "metadata": {},
   "outputs": [],
   "source": [
    "sediment_influx = grid.add_field('sediment__unit_flux_in',\n",
    "                                 np.zeros((grid.number_of_nodes, 2)),\n",
    "                                 clobber=True)\n",
    "sediment_influx[idx] = [0.7*50000., 0.3*50000.] # m3/yr"
   ]
  },
  {
   "cell_type": "code",
   "execution_count": null,
   "id": "52c497d2-36c9-47e4-893d-093629378f89",
   "metadata": {},
   "outputs": [],
   "source": [
    "slc = SeaLevelCalculator(grid, wavelength=[100000., 10000.], amplitude=[25., 2.5])"
   ]
  },
  {
   "cell_type": "code",
   "execution_count": null,
   "id": "2b72b906-3e00-4d7b-9db5-c242fe531b7c",
   "metadata": {},
   "outputs": [],
   "source": [
    "fd = FlowDirectorMFD(grid, partition_method='slope', diagonals=True)\n",
    "fa = FlowAccumulator(grid, flow_director=fd)"
   ]
  },
  {
   "cell_type": "markdown",
   "id": "de2a6467-5d17-4668-af00-1cacd38f9ec5",
   "metadata": {},
   "source": [
    "Let's change the water-driven diffusion to have a low wave base, which means the transportability in the marine domain decreases quickly to have little effect. Note that we still keep a low value to ensure that sediments are indeed transported into the marine domain and don't just pile up along the shore:"
   ]
  },
  {
   "cell_type": "code",
   "execution_count": null,
   "id": "54a160ad-adf5-4678-b2dc-ba532f87e700",
   "metadata": {},
   "outputs": [],
   "source": [
    "wdd = WaterDrivenDiffuser(grid,\n",
    "                          transportability_cont=[1e-8, 1e-8],\n",
    "                          transportability_mar=[4e-10, 2e-10],\n",
    "                          wave_base=0.2,\n",
    "                          max_erosion_rate_sed=1e-2,\n",
    "                          max_erosion_rate_br=1e-12,\n",
    "                          bedrock_composition=[0.7, 0.3],\n",
    "                          fields_to_track='bathymetric__depth')"
   ]
  },
  {
   "cell_type": "markdown",
   "id": "11f81b5b-800b-48f2-93ff-991bdb13ce18",
   "metadata": {},
   "source": [
    "Then we use higher diffusivity in the marine domain for the gravity-driven diffusion to reproduce a similar architecture to what we had before:"
   ]
  },
  {
   "cell_type": "code",
   "execution_count": null,
   "id": "4e153444-937b-40b7-9a4b-8cc0f65c222a",
   "metadata": {},
   "outputs": [],
   "source": [
    "gdd = GravityDrivenDiffuser(grid,\n",
    "                            diffusivity_cont=[1e-2, 1e-2],\n",
    "                            diffusivity_mar=[1, 0.5],\n",
    "                            wave_base=15.,\n",
    "                            max_erosion_rate=1e-2,\n",
    "                            fields_to_track='bathymetric__depth')"
   ]
  },
  {
   "cell_type": "markdown",
   "id": "5c8aa26d-8553-4bd8-b9b4-a5a33cdd7ca9",
   "metadata": {},
   "source": [
    "Let's run the simulation:"
   ]
  },
  {
   "cell_type": "code",
   "execution_count": null,
   "id": "7c0dd193-c3c8-4e16-a25b-3ac00b8d9cbf",
   "metadata": {},
   "outputs": [],
   "source": [
    "for i in tqdm(range(n_iterations)):\n",
    "    slc.run_one_step(timestep)\n",
    "    fa.run_one_step()\n",
    "    wdd.run_one_step(timestep)\n",
    "    gdd.run_one_step(timestep, update_compatible=True)\n",
    "    grid.stacked_layers.fuse(time=np.mean, bathymetric__depth=np.mean)\n",
    "grid.stacked_layers.fuse(finalize=True, time=np.mean, bathymetric__depth=np.mean)"
   ]
  },
  {
   "cell_type": "markdown",
   "id": "fa97c6f7-4fc4-4f55-a3e9-f7ceeae63793",
   "metadata": {},
   "source": [
    "And visualize the result:"
   ]
  },
  {
   "cell_type": "code",
   "execution_count": null,
   "id": "10effd9b-903d-4c7e-82d5-af297a99863b",
   "metadata": {},
   "outputs": [],
   "source": [
    "fig, ax = plt.subplots()\n",
    "\n",
    "raster_x = grid.x_of_node[grid.core_nodes].reshape(grid.cell_grid_shape)\n",
    "raster_y = grid.y_of_node[grid.core_nodes].reshape(grid.cell_grid_shape)\n",
    "raster_z = grid.at_node['topographic__elevation'][grid.core_nodes].reshape(grid.cell_grid_shape)\n",
    "\n",
    "pc = ax.pcolormesh(raster_x, raster_y, raster_z, cmap=cmocean.cm.topo,\n",
    "                   norm=mcolors.CenteredNorm(grid.at_grid['sea_level__elevation']))\n",
    "fig.colorbar(pc, ax=ax, label='Elevation (m)')\n",
    "\n",
    "ax.set(xlabel='y (m)', ylabel='y (m)', aspect='equal');"
   ]
  },
  {
   "cell_type": "code",
   "execution_count": null,
   "id": "51f189a7-8902-43e4-919a-00caa4be0fe5",
   "metadata": {},
   "outputs": [],
   "source": [
    "fig, ax = plt.subplots(figsize=(10, 3.5))\n",
    "\n",
    "raster_y = grid.y_of_node[grid.core_nodes].reshape(grid.cell_grid_shape)[:, 14]\n",
    "raster_z = grid.at_node['topographic__elevation'][grid.core_nodes].reshape(grid.cell_grid_shape)[:, 14]\n",
    "# Sea level\n",
    "fill_sea = ax.fill_between(raster_y, raster_z, grid.at_grid['sea_level__elevation'],\n",
    "                           color='#c6dbef', zorder=0)\n",
    "# Bedrock\n",
    "ax.fill_between(raster_y, raster_z, raster_z.min(), color='#d9d9d9')\n",
    "\n",
    "# Sediments\n",
    "pc = grid.plot_layers(ax, 'bathymetric__depth', cmap=cmocean.cm.deep)\n",
    "fig.colorbar(pc[0], ax=ax, label='Water depth (m)')\n",
    "\n",
    "ax.set(xlabel='y (m)', ylabel='z (m)');"
   ]
  }
 ],
 "metadata": {
  "kernelspec": {
   "display_name": "Python 3 (ipykernel)",
   "language": "python",
   "name": "python3"
  },
  "language_info": {
   "codemirror_mode": {
    "name": "ipython",
    "version": 3
   },
   "file_extension": ".py",
   "mimetype": "text/x-python",
   "name": "python",
   "nbconvert_exporter": "python",
   "pygments_lexer": "ipython3",
   "version": "3.11.6"
  }
 },
 "nbformat": 4,
 "nbformat_minor": 5
}

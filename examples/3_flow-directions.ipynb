{
 "cells": [
  {
   "cell_type": "markdown",
   "id": "6f506561-0a75-405b-bfa3-9945c035403a",
   "metadata": {},
   "source": [
    "<table align=\"left\">\n",
    "    <tr>\n",
    "        <td style=\"vertical-align: middle; padding-left: 0px; padding-right: 0px;\">\n",
    "            <a href=\"https://creativecommons.org/licenses/by/4.0/\">\n",
    "                <img src=\"https://licensebuttons.net/l/by/4.0/80x15.png\" />\n",
    "            </a>\n",
    "        </td>\n",
    "        <td style=\"vertical-align: middle; padding-left: 5px; padding-right: 0px;\">\n",
    "            <a href=\"https://opensource.org/licenses/MIT\">\n",
    "                <img src=\"https://img.shields.io/badge/License-MIT-green.svg\" />\n",
    "            </a>\n",
    "        </td>\n",
    "        <td style=\"vertical-align: middle; padding-left: 15px;\">\n",
    "            &copy; Guillaume Rongier\n",
    "        </td>\n",
    "    </tr>\n",
    "</table>"
   ]
  },
  {
   "cell_type": "markdown",
   "id": "fe04d3c0-3683-412f-b12e-25e5411b96b5",
   "metadata": {},
   "source": [
    "# Using different flow directions"
   ]
  },
  {
   "cell_type": "markdown",
   "id": "aabe78cb-d5a1-4dfc-aad8-5e7f9edb10ea",
   "metadata": {},
   "source": [
    "This notebook starts from the basic example of the [first notebook](1_basic-example.ipynb) to show how to use Landlab's flow directors with StratigraPy."
   ]
  },
  {
   "cell_type": "markdown",
   "id": "91bb5258-901f-4b8d-83b9-766f0d6ed354",
   "metadata": {},
   "source": [
    "### Imports"
   ]
  },
  {
   "cell_type": "markdown",
   "id": "f900f89b-ac70-44d4-8a88-ab6927352052",
   "metadata": {},
   "source": [
    "Let's first import all the required packages and components:"
   ]
  },
  {
   "cell_type": "code",
   "execution_count": null,
   "id": "d24cac43-3672-4140-a8d9-5bab94f67cdc",
   "metadata": {},
   "outputs": [],
   "source": [
    "import numpy as np\n",
    "from tqdm.notebook import tqdm\n",
    "import matplotlib.pyplot as plt\n",
    "import matplotlib.colors as mcolors\n",
    "import cmocean\n",
    "\n",
    "from landlab.components import FlowDirectorSteepest, FlowDirectorDINF, FlowAccumulator\n",
    "\n",
    "from stratigrapy import RasterModelGrid\n",
    "from stratigrapy.components import CyclicSeaLevelCalculator, WaterDrivenRouter"
   ]
  },
  {
   "cell_type": "markdown",
   "id": "c1ee7053-0393-4e03-9acd-ff36a05ba456",
   "metadata": {},
   "source": [
    "## 1. Steepest-path flow direction"
   ]
  },
  {
   "cell_type": "markdown",
   "id": "a124ffc3-2c58-4505-9e9d-3bbf3aeb17d8",
   "metadata": {},
   "source": [
    "We'll use the same case as in the [first notebook](1_basic-example.ipynb), starting with the same simulation time:"
   ]
  },
  {
   "cell_type": "code",
   "execution_count": null,
   "id": "f3b46bc8-6740-4bed-a538-ff7b8ac8a3bb",
   "metadata": {},
   "outputs": [],
   "source": [
    "timestep = 100.\n",
    "runtime = 500000.\n",
    "n_iterations = int(runtime/timestep)"
   ]
  },
  {
   "cell_type": "markdown",
   "id": "6701dbd2-4c73-4826-82ba-abac40d9a739",
   "metadata": {},
   "source": [
    "Then the grid:"
   ]
  },
  {
   "cell_type": "code",
   "execution_count": null,
   "id": "291aef9c-666d-43d4-a9cb-0b84fdcfc8e0",
   "metadata": {},
   "outputs": [],
   "source": [
    "grid = RasterModelGrid((25, 30),\n",
    "                       xy_spacing=(2500., 2500.),\n",
    "                       number_of_classes=2,\n",
    "                       initial_allocation=n_iterations//100 + 100,\n",
    "                       number_of_layers_to_fuse=100,\n",
    "                       number_of_top_layers=100,\n",
    "                       fuse_continuously=True)"
   ]
  },
  {
   "cell_type": "code",
   "execution_count": null,
   "id": "8ae0e965-0556-45c4-be1d-c883501040cc",
   "metadata": {},
   "outputs": [],
   "source": [
    "grid.set_closed_boundaries_at_grid_edges(True, True, True, False)"
   ]
  },
  {
   "cell_type": "markdown",
   "id": "48a53484-50da-4b7d-b068-290c70071205",
   "metadata": {},
   "source": [
    "The initial topography:"
   ]
  },
  {
   "cell_type": "code",
   "execution_count": null,
   "id": "fb8eb9eb-757e-4b96-b3c3-cc529d559d1a",
   "metadata": {},
   "outputs": [],
   "source": [
    "elevation = grid.add_zeros('topographic__elevation', at='node', clobber=True)\n",
    "elevation += 0.003*(grid.y_of_node - 50000.)"
   ]
  },
  {
   "cell_type": "markdown",
   "id": "42ec43fa-7356-41f6-8551-7712d5ba8796",
   "metadata": {},
   "source": [
    "The sources of water and sediments:"
   ]
  },
  {
   "cell_type": "code",
   "execution_count": null,
   "id": "5f1bee22-7d67-4f28-81e1-aa95f673c852",
   "metadata": {},
   "outputs": [],
   "source": [
    "idx = np.ravel_multi_index(((23, 23), (14, 15)), grid.shape)\n",
    "water_influx = grid.add_zeros('water__unit_flux_in', at='node', clobber=True)\n",
    "water_influx[idx] = 5000. # m/yr"
   ]
  },
  {
   "cell_type": "code",
   "execution_count": null,
   "id": "2031602a-f783-4d82-b358-4765cb209605",
   "metadata": {},
   "outputs": [],
   "source": [
    "sediment_influx = grid.add_field('sediment__unit_flux_in',\n",
    "                                 np.zeros((grid.number_of_nodes, 2)),\n",
    "                                 clobber=True)\n",
    "sediment_influx[idx] = [0.7*50000., 0.3*50000.] # m3/yr"
   ]
  },
  {
   "cell_type": "markdown",
   "id": "66586c0c-4541-4f98-a88e-1d0d7fb09766",
   "metadata": {},
   "source": [
    "The component controlling sea level:"
   ]
  },
  {
   "cell_type": "code",
   "execution_count": null,
   "id": "03822e03-54a8-47a7-880a-053eed260c40",
   "metadata": {},
   "outputs": [],
   "source": [
    "slc = CyclicSeaLevelCalculator(grid, wavelength=[100000., 10000.], amplitude=[25., 2.5])"
   ]
  },
  {
   "cell_type": "markdown",
   "id": "4727e6b2-bcc6-4d6b-a087-29ae3d555705",
   "metadata": {},
   "source": [
    "The only change compared to the orginal cases: we use a steepest-path flow director instead of a multiple-path flow director."
   ]
  },
  {
   "cell_type": "code",
   "execution_count": null,
   "id": "c070036b-53fa-4902-bfd3-1a44a12b2514",
   "metadata": {},
   "outputs": [],
   "source": [
    "fd = FlowDirectorSteepest(grid)"
   ]
  },
  {
   "cell_type": "code",
   "execution_count": null,
   "id": "50df9904-decb-4d9f-bfd5-af3326b21b62",
   "metadata": {},
   "outputs": [],
   "source": [
    "fa = FlowAccumulator(grid, flow_director=fd)"
   ]
  },
  {
   "cell_type": "markdown",
   "id": "a09cc9f6-d23e-4775-9374-9764e59ee883",
   "metadata": {},
   "source": [
    "Finally, the component controlling sediment transport:"
   ]
  },
  {
   "cell_type": "code",
   "execution_count": null,
   "id": "25d16a63-1bea-41b0-918e-e2130cafcb11",
   "metadata": {},
   "outputs": [],
   "source": [
    "wdr = WaterDrivenRouter(grid,\n",
    "                        transportability_cont=[1e-8, 1e-8],\n",
    "                        transportability_mar=[4e-10, 2e-10],\n",
    "                        wave_base=15.,\n",
    "                        max_erosion_rate_sed=1e-2,\n",
    "                        max_erosion_rate_br=1e-12,\n",
    "                        bedrock_composition=[0.7, 0.3],\n",
    "                        fields_to_track='bathymetric__depth')"
   ]
  },
  {
   "cell_type": "markdown",
   "id": "c69a7d53-9ecf-4e5b-bca5-7e30e0b76a86",
   "metadata": {},
   "source": [
    "We can now run the model:"
   ]
  },
  {
   "cell_type": "code",
   "execution_count": null,
   "id": "02a52d8a-a15a-46d9-9a34-d60e715a9ac4",
   "metadata": {},
   "outputs": [],
   "source": [
    "for i in tqdm(range(n_iterations)):\n",
    "    slc.run_one_step(timestep)\n",
    "    fa.run_one_step()\n",
    "    wdr.run_one_step(timestep)\n",
    "    grid.stacked_layers.fuse(time=np.mean, bathymetric__depth=np.mean)\n",
    "grid.stacked_layers.fuse(finalize=True, time=np.mean, bathymetric__depth=np.mean)"
   ]
  },
  {
   "cell_type": "markdown",
   "id": "7958b291-faf2-4dbe-ba99-06a80b090bbf",
   "metadata": {},
   "source": [
    "And visualize the result:"
   ]
  },
  {
   "cell_type": "code",
   "execution_count": null,
   "id": "e30c4a52-9e40-467c-830b-b1be445bdef8",
   "metadata": {},
   "outputs": [],
   "source": [
    "fig, ax = plt.subplots()\n",
    "\n",
    "raster_x = grid.x_of_node[grid.core_nodes].reshape(grid.cell_grid_shape)\n",
    "raster_y = grid.y_of_node[grid.core_nodes].reshape(grid.cell_grid_shape)\n",
    "raster_z = grid.at_node['topographic__elevation'][grid.core_nodes].reshape(grid.cell_grid_shape)\n",
    "\n",
    "pc = ax.pcolormesh(raster_x, raster_y, raster_z, cmap=cmocean.cm.topo,\n",
    "                   norm=mcolors.CenteredNorm(grid.at_grid['sea_level__elevation']))\n",
    "fig.colorbar(pc, ax=ax, label='Elevation (m)')\n",
    "\n",
    "ax.set(xlabel='x (m)', ylabel='y (m)', aspect='equal');"
   ]
  },
  {
   "cell_type": "code",
   "execution_count": null,
   "id": "17def39d-68b1-418b-bf9a-4fb1e4e85b7e",
   "metadata": {},
   "outputs": [],
   "source": [
    "fig, ax = plt.subplots(figsize=(10, 3.5))\n",
    "\n",
    "# Sediments\n",
    "pc = grid.plot_layers(ax, 'bathymetric__depth', cmap=cmocean.cm.deep, zorder=2)\n",
    "fig.colorbar(pc[0], ax=ax, label='Water depth (m)')\n",
    "\n",
    "raster_y = grid.y_of_node[grid.core_nodes].reshape(grid.cell_grid_shape)[:, 14]\n",
    "raster_z = grid.at_node['topographic__elevation'][grid.core_nodes].reshape(grid.cell_grid_shape)[:, 14]\n",
    "# Sea level\n",
    "fill_sea = ax.fill_between(raster_y, raster_z, grid.at_grid['sea_level__elevation'],\n",
    "                           color='#c6dbef', zorder=0)\n",
    "# Bedrock\n",
    "ymin, ymax = ax.get_ylim()\n",
    "ax.fill_between(raster_y, raster_z, ymin, color='#d9d9d9', zorder=1)\n",
    "\n",
    "ax.set(xlabel='y (m)', ylabel='z (m)', ylim=(ymin, ymax));"
   ]
  },
  {
   "cell_type": "markdown",
   "id": "56266022-b507-440d-8784-df14be2908a1",
   "metadata": {},
   "source": [
    "## 2. D-infinity flow direction"
   ]
  },
  {
   "cell_type": "markdown",
   "id": "f802c75f-af92-4007-8ae1-f302dc257e3f",
   "metadata": {},
   "source": [
    "We can just follow the same principle with the other flow directors available in Landlab, for instance with the `FlowDirectorDINF`, this time grouping all the necessary steps into a single cell:"
   ]
  },
  {
   "cell_type": "code",
   "execution_count": null,
   "id": "3e01d481-b6d5-45ad-b896-6b945d38d250",
   "metadata": {},
   "outputs": [],
   "source": [
    "# Define the number of iterations\n",
    "timestep = 100.\n",
    "runtime = 500000.\n",
    "n_iterations = int(runtime/timestep)\n",
    "\n",
    "# Define the grid\n",
    "grid = RasterModelGrid((25, 30),\n",
    "                       xy_spacing=(2500., 2500.),\n",
    "                       number_of_classes=2,\n",
    "                       initial_allocation=n_iterations//100 + 100,\n",
    "                       number_of_layers_to_fuse=100,\n",
    "                       number_of_top_layers=100,\n",
    "                       fuse_continuously=True)\n",
    "grid.set_closed_boundaries_at_grid_edges(True, True, True, False)\n",
    "\n",
    "# Define the initial topography\n",
    "elevation = grid.add_zeros('topographic__elevation', at='node', clobber=True)\n",
    "elevation += 0.003*(grid.y_of_node - 50000.)\n",
    "\n",
    "# Define the sources of water and sediments\n",
    "idx = np.ravel_multi_index(((23, 23), (14, 15)), grid.shape)\n",
    "water_influx = grid.add_zeros('water__unit_flux_in', at='node', clobber=True)\n",
    "water_influx[idx] = 5000. # m/yr\n",
    "sediment_influx = grid.add_field('sediment__unit_flux_in',\n",
    "                                 np.zeros((grid.number_of_nodes, 2)),\n",
    "                                 clobber=True)\n",
    "sediment_influx[idx] = [0.7*50000., 0.3*50000.] # m3/yr\n",
    "\n",
    "# Define the components for sea level variation, water flow, and sediment transport\n",
    "slc = CyclicSeaLevelCalculator(grid, wavelength=[100000., 10000.], amplitude=[25., 2.5])\n",
    "fd = FlowDirectorDINF(grid)\n",
    "fa = FlowAccumulator(grid, flow_director=fd)\n",
    "wdr = WaterDrivenRouter(grid,\n",
    "                        transportability_cont=[1e-8, 1e-8],\n",
    "                        transportability_mar=[4e-10, 2e-10],\n",
    "                        wave_base=15.,\n",
    "                        max_erosion_rate_sed=1e-2,\n",
    "                        max_erosion_rate_br=1e-12,\n",
    "                        bedrock_composition=[0.7, 0.3],\n",
    "                        fields_to_track='bathymetric__depth')\n",
    "\n",
    "# Run the simulation\n",
    "for i in tqdm(range(n_iterations)):\n",
    "    slc.run_one_step(timestep)\n",
    "    fa.run_one_step()\n",
    "    wdr.run_one_step(timestep)\n",
    "    grid.stacked_layers.fuse(time=np.mean, bathymetric__depth=np.mean)\n",
    "grid.stacked_layers.fuse(finalize=True, time=np.mean, bathymetric__depth=np.mean)"
   ]
  },
  {
   "cell_type": "markdown",
   "id": "51fe521d-e4ec-4b46-9acd-6d691262af8d",
   "metadata": {},
   "source": [
    "And again we can visualize the result:"
   ]
  },
  {
   "cell_type": "code",
   "execution_count": null,
   "id": "91167e4f-8795-44a2-9b68-f86ba76583c9",
   "metadata": {},
   "outputs": [],
   "source": [
    "fig, ax = plt.subplots()\n",
    "\n",
    "raster_x = grid.x_of_node[grid.core_nodes].reshape(grid.cell_grid_shape)\n",
    "raster_y = grid.y_of_node[grid.core_nodes].reshape(grid.cell_grid_shape)\n",
    "raster_z = grid.at_node['topographic__elevation'][grid.core_nodes].reshape(grid.cell_grid_shape)\n",
    "\n",
    "pc = ax.pcolormesh(raster_x, raster_y, raster_z, cmap=cmocean.cm.topo,\n",
    "                   norm=mcolors.CenteredNorm(grid.at_grid['sea_level__elevation']))\n",
    "fig.colorbar(pc, ax=ax, label='Elevation (m)')\n",
    "\n",
    "ax.set(xlabel='x (m)', ylabel='y (m)', aspect='equal');"
   ]
  },
  {
   "cell_type": "code",
   "execution_count": null,
   "id": "d8751243-31c7-491b-afe8-de7f90b04a61",
   "metadata": {},
   "outputs": [],
   "source": [
    "fig, ax = plt.subplots(figsize=(10, 3.5))\n",
    "\n",
    "# Sediments\n",
    "pc = grid.plot_layers(ax, 'bathymetric__depth', cmap=cmocean.cm.deep, zorder=2)\n",
    "fig.colorbar(pc[0], ax=ax, label='Water depth (m)')\n",
    "\n",
    "raster_y = grid.y_of_node[grid.core_nodes].reshape(grid.cell_grid_shape)[:, 14]\n",
    "raster_z = grid.at_node['topographic__elevation'][grid.core_nodes].reshape(grid.cell_grid_shape)[:, 14]\n",
    "# Sea level\n",
    "fill_sea = ax.fill_between(raster_y, raster_z, grid.at_grid['sea_level__elevation'],\n",
    "                           color='#c6dbef', zorder=0)\n",
    "# Bedrock\n",
    "ymin, ymax = ax.get_ylim()\n",
    "ax.fill_between(raster_y, raster_z, ymin, color='#d9d9d9', zorder=1)\n",
    "\n",
    "ax.set(xlabel='y (m)', ylabel='z (m)', ylim=(ymin, ymax));"
   ]
  }
 ],
 "metadata": {
  "kernelspec": {
   "display_name": "Python 3 (ipykernel)",
   "language": "python",
   "name": "python3"
  },
  "language_info": {
   "codemirror_mode": {
    "name": "ipython",
    "version": 3
   },
   "file_extension": ".py",
   "mimetype": "text/x-python",
   "name": "python",
   "nbconvert_exporter": "python",
   "pygments_lexer": "ipython3",
   "version": "3.11.6"
  }
 },
 "nbformat": 4,
 "nbformat_minor": 5
}

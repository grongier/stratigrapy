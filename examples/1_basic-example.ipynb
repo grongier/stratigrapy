{
 "cells": [
  {
   "cell_type": "markdown",
   "id": "6f506561-0a75-405b-bfa3-9945c035403a",
   "metadata": {},
   "source": [
    "<table align=\"left\">\n",
    "    <tr>\n",
    "        <td style=\"vertical-align: middle; padding-left: 0px; padding-right: 0px;\">\n",
    "            <a href=\"https://creativecommons.org/licenses/by/4.0/\">\n",
    "                <img src=\"https://licensebuttons.net/l/by/4.0/80x15.png\" />\n",
    "            </a>\n",
    "        </td>\n",
    "        <td style=\"vertical-align: middle; padding-left: 5px; padding-right: 0px;\">\n",
    "            <a href=\"https://opensource.org/licenses/MIT\">\n",
    "                <img src=\"https://img.shields.io/badge/License-MIT-green.svg\" />\n",
    "            </a>\n",
    "        </td>\n",
    "        <td style=\"vertical-align: middle; padding-left: 15px;\">\n",
    "            &copy; Guillaume Rongier\n",
    "        </td>\n",
    "    </tr>\n",
    "</table>"
   ]
  },
  {
   "cell_type": "markdown",
   "id": "fe04d3c0-3683-412f-b12e-25e5411b96b5",
   "metadata": {},
   "source": [
    "# Basic StratigraPy example"
   ]
  },
  {
   "cell_type": "markdown",
   "id": "aabe78cb-d5a1-4dfc-aad8-5e7f9edb10ea",
   "metadata": {},
   "source": [
    "This notebook shows a basic example of simulating some deltaic deposits following the principles defined by [Granjeon (1996)](https://theses.hal.science/tel-00648827v1) using StratigraPy."
   ]
  },
  {
   "cell_type": "markdown",
   "id": "91bb5258-901f-4b8d-83b9-766f0d6ed354",
   "metadata": {},
   "source": [
    "### Imports"
   ]
  },
  {
   "cell_type": "markdown",
   "id": "a9e66810-105a-43ed-bc9b-7c208b3ddf26",
   "metadata": {},
   "source": [
    "Let's first import all the required packages and components:"
   ]
  },
  {
   "cell_type": "code",
   "execution_count": null,
   "id": "d24cac43-3672-4140-a8d9-5bab94f67cdc",
   "metadata": {},
   "outputs": [],
   "source": [
    "import numpy as np\n",
    "from tqdm.notebook import tqdm\n",
    "import matplotlib.pyplot as plt\n",
    "import matplotlib.colors as mcolors\n",
    "import cmocean\n",
    "import pyvista as pv\n",
    "\n",
    "from landlab.components import FlowDirectorMFD, FlowAccumulator\n",
    "\n",
    "from stratigrapy import RasterModelGrid\n",
    "from stratigrapy.components import SeaLevelCalculator, WaterDrivenRouter\n",
    "from stratigrapy.plot import extract_tie_centered_layers"
   ]
  },
  {
   "cell_type": "markdown",
   "id": "c1ee7053-0393-4e03-9acd-ff36a05ba456",
   "metadata": {},
   "source": [
    "## 1. Setup and simulation"
   ]
  },
  {
   "cell_type": "markdown",
   "id": "81a1a24d-2270-4ab0-a91b-9f3f397eff24",
   "metadata": {},
   "source": [
    "StratigraPy is built on [Landlab](https://landlab.csdms.io/#) and follows the same principles: we need to setup a [grid](https://landlab.csdms.io/user_guide/grid.html) whose fields are iteratively modified by [components](https://landlab.csdms.io/user_guide/components.html). A key element of a grid added by StratigraPy is a StackedLayers, which record the stratigraphy and its changes. All the components of StratigraPy rely on this StackedLayers, and components from Landlab might not be compatible with StratigraPy because they can't access the StackedLayers.\n",
    "\n",
    "Let's start by defining our grid. We'll run sediment erosion, transport, and deposition over 500$\\,$000 years with a time step of 100 years:"
   ]
  },
  {
   "cell_type": "code",
   "execution_count": null,
   "id": "f4ae53f1-42ef-40eb-8674-88260907993e",
   "metadata": {},
   "outputs": [],
   "source": [
    "timestep = 100.\n",
    "runtime = 500000.\n",
    "n_iterations = int(runtime/timestep)"
   ]
  },
  {
   "cell_type": "markdown",
   "id": "11f7d12f-1929-426e-9a73-45eedcc0c1e3",
   "metadata": {},
   "source": [
    "This will lead to 5$\\,$000 iterations. We use this information to pre-allocate the StackedLayers when creating a raster grid using the parameter `initial_allocation`:"
   ]
  },
  {
   "cell_type": "code",
   "execution_count": null,
   "id": "e66ba105-97ee-4719-8339-c5ef0440b41e",
   "metadata": {},
   "outputs": [],
   "source": [
    "grid = RasterModelGrid((25, 30),\n",
    "                       xy_spacing=(2500., 2500.),\n",
    "                       number_of_classes=2,\n",
    "                       initial_allocation=n_iterations//100 + 100,\n",
    "                       number_of_layers_to_fuse=100,\n",
    "                       number_of_top_layers=100)"
   ]
  },
  {
   "cell_type": "markdown",
   "id": "aa4f7503-b546-4e7d-b071-b3b6588ac040",
   "metadata": {},
   "source": [
    "By default, some components from StratigraPy adds a new layer in the stack at each iteration, which quickly becomes computationally expensive. Instead, we'll fuse iterations together to only have 50 layers in our stack using the parameters `number_of_layers_to_fuse` and `number_of_top_layers` (for more details about this process, see [the second notebook](./2_managing-stratigraphy)). We will simulate two classes of sediments, which we need to already set up in the StackedLayers using `number_of_classes`.\n",
    "\n",
    "Now that we have a grid, we can define the boundary conditions, leaving only the bottom boundary open:"
   ]
  },
  {
   "cell_type": "code",
   "execution_count": null,
   "id": "b3d6a46b-2400-4f82-a95d-e6067a467bcd",
   "metadata": {},
   "outputs": [],
   "source": [
    "grid.set_closed_boundaries_at_grid_edges(True, True, True, False)"
   ]
  },
  {
   "cell_type": "markdown",
   "id": "37f607c4-d177-45de-be8d-3eefb20224d3",
   "metadata": {},
   "source": [
    "Adding fields to the grid is exactly the same as [in Landlab](https://landlab.csdms.io/user_guide/grid.html#adding-data-to-a-landlab-grid-element-using-fields). We first add the initial topography as a sloped surface:"
   ]
  },
  {
   "cell_type": "code",
   "execution_count": null,
   "id": "e097caef-ecda-48c4-89be-7525562c2eb3",
   "metadata": {},
   "outputs": [],
   "source": [
    "elevation = grid.add_zeros('topographic__elevation', at='node', clobber=True)\n",
    "elevation += 0.003*(grid.y_of_node - 50000.)"
   ]
  },
  {
   "cell_type": "markdown",
   "id": "2d5d6438-b72f-4d5d-ac52-bcbc989879f1",
   "metadata": {},
   "source": [
    "And visualize it:"
   ]
  },
  {
   "cell_type": "code",
   "execution_count": null,
   "id": "726df1b8-b89e-45c7-ab50-995266b8b376",
   "metadata": {},
   "outputs": [],
   "source": [
    "grid.imshow('topographic__elevation', var_name='Elevation', var_units='m', grid_units=['m', 'm'])"
   ]
  },
  {
   "cell_type": "markdown",
   "id": "c3c7936d-5169-4027-b0fc-871fcd21b1fd",
   "metadata": {},
   "source": [
    "We can add a source of water at the top of the grid, spanning over two cells:"
   ]
  },
  {
   "cell_type": "code",
   "execution_count": null,
   "id": "0c46021f-0885-4599-983a-7d74f99a7d97",
   "metadata": {},
   "outputs": [],
   "source": [
    "yx_source = [(23, 23), (14, 15)]\n",
    "idx = np.ravel_multi_index(yx_source, grid.shape)\n",
    "water_influx = grid.add_zeros('water__unit_flux_in', at='node', clobber=True)\n",
    "water_influx[idx] = 5000. # m/yr"
   ]
  },
  {
   "cell_type": "markdown",
   "id": "07f88017-e581-4dca-aabd-7f9d14132152",
   "metadata": {},
   "source": [
    "This water influx field will be multiplied by the drainage area to get the discharge, so it is in m/yr instead of m$^3$/yr. Let's visualize it:"
   ]
  },
  {
   "cell_type": "code",
   "execution_count": null,
   "id": "7e0aaa71-27cb-43b9-b7db-8e8ca9cd58a3",
   "metadata": {},
   "outputs": [],
   "source": [
    "grid.imshow('water__unit_flux_in', var_name='Water influx', var_units='m/yr', grid_units=['m', 'm'], cmap='Blues')"
   ]
  },
  {
   "cell_type": "markdown",
   "id": "bd966005-13a9-406c-a292-15374dd0223e",
   "metadata": {},
   "source": [
    "Our source of water is also a source of sediments, with 70% of the first class and 30% of the second:"
   ]
  },
  {
   "cell_type": "code",
   "execution_count": null,
   "id": "4adc1d3f-b843-4d91-ad1e-9a345218ca0a",
   "metadata": {},
   "outputs": [],
   "source": [
    "sediment_influx = grid.add_field('sediment__unit_flux_in',\n",
    "                                 np.zeros((grid.number_of_nodes, 2)),\n",
    "                                 clobber=True)\n",
    "sediment_influx[idx] = [0.7*50000., 0.3*50000.] # m3/yr"
   ]
  },
  {
   "cell_type": "markdown",
   "id": "9f40e318-faf6-42d5-b285-28b6e3c7dd4c",
   "metadata": {},
   "source": [
    "Contrary to the water, we direclty have a flux of sediment in m$^3$/yr.\n",
    "\n",
    "Now we can move to defining the components that will update those fields and the stratigraphy. We start with the sea level, which is defined as two sine curves with different wavelengths and amplitutes added together:"
   ]
  },
  {
   "cell_type": "code",
   "execution_count": null,
   "id": "2262ef5a-b2be-4e41-b3e8-8fdf9b3248a6",
   "metadata": {},
   "outputs": [],
   "source": [
    "slc = SeaLevelCalculator(grid, wavelength=[100000., 10000.], amplitude=[25., 2.5])"
   ]
  },
  {
   "cell_type": "markdown",
   "id": "417422cc-ae4e-431c-8b29-57c419e5f784",
   "metadata": {},
   "source": [
    "We also need components to compute the discharge, which are just the regular components from Landlab:"
   ]
  },
  {
   "cell_type": "code",
   "execution_count": null,
   "id": "700b4108-0cfd-41f8-978f-575c83b17fa6",
   "metadata": {},
   "outputs": [],
   "source": [
    "fd = FlowDirectorMFD(grid, partition_method='slope', diagonals=True)"
   ]
  },
  {
   "cell_type": "code",
   "execution_count": null,
   "id": "e54bd125-9e4d-47d5-900d-cf2092328d5f",
   "metadata": {},
   "outputs": [],
   "source": [
    "fa = FlowAccumulator(grid, flow_director=fd)"
   ]
  },
  {
   "cell_type": "markdown",
   "id": "b6b6f5e9-9719-4b88-82d9-9b6a3b797a62",
   "metadata": {},
   "source": [
    "Finally, we need a component for sediment transport, which is based on the stream power law following [Granjeon (1996)](https://theses.hal.science/tel-00648827v1):"
   ]
  },
  {
   "cell_type": "code",
   "execution_count": null,
   "id": "5f6b5943-b961-4998-ab01-670bf824bdba",
   "metadata": {},
   "outputs": [],
   "source": [
    "wdd = WaterDrivenRouter(grid,\n",
    "                          transportability_cont=[1e-8, 1e-8],\n",
    "                          transportability_mar=[4e-10, 2e-10],\n",
    "                          wave_base=15.,\n",
    "                          max_erosion_rate_sed=1e-2,\n",
    "                          max_erosion_rate_br=1e-12,\n",
    "                          bedrock_composition=[0.7, 0.3],\n",
    "                          fields_to_track='bathymetric__depth')"
   ]
  },
  {
   "cell_type": "markdown",
   "id": "a4b5f1e2-dfb8-493d-a624-41510adf6c64",
   "metadata": {},
   "source": [
    "This component also tracks the field `bathymetric__depth` from the grid so that it is recorded in the stratigraphy.\n",
    "\n",
    "Similarly to Landlab, each component from StratigraPy has a function `run_one_step` to call at each iteration to run the simulation, while the function `fuse` of the StackedLayers fuse the iterations togethers so that they fit in a reduced number of stratigraphic layers:"
   ]
  },
  {
   "cell_type": "code",
   "execution_count": null,
   "id": "02a52d8a-a15a-46d9-9a34-d60e715a9ac4",
   "metadata": {},
   "outputs": [],
   "source": [
    "time = np.empty(n_iterations)\n",
    "sea_level = np.empty(n_iterations)\n",
    "for i in tqdm(range(n_iterations)):\n",
    "    slc.run_one_step(timestep)\n",
    "    time[i] = slc._time\n",
    "    sea_level[i] = grid.at_grid['sea_level__elevation']\n",
    "    fa.run_one_step()\n",
    "    wdd.run_one_step(timestep)\n",
    "    grid.stacked_layers.fuse(time=np.mean, bathymetric__depth=np.mean)\n",
    "grid.stacked_layers.fuse(finalize=True, time=np.mean, bathymetric__depth=np.mean)"
   ]
  },
  {
   "cell_type": "markdown",
   "id": "d4e6257a-3f9b-4dd8-bdfb-19aaee2619aa",
   "metadata": {},
   "source": [
    "In that loop, we've also recorded the sea level variations, which can now plot:"
   ]
  },
  {
   "cell_type": "code",
   "execution_count": null,
   "id": "b023d6c4-8a31-4afa-8a57-ec61cbcfea8d",
   "metadata": {},
   "outputs": [],
   "source": [
    "fig, ax = plt.subplots(figsize=(10, 3))\n",
    "ax.plot(time, sea_level)\n",
    "ax.set(xlabel='Time (yr)', ylabel='Sea level (m)');"
   ]
  },
  {
   "cell_type": "markdown",
   "id": "4ec04c7e-fc37-4248-b2fc-37544a383aef",
   "metadata": {},
   "source": [
    "Now let's have a look at the final topography:"
   ]
  },
  {
   "cell_type": "code",
   "execution_count": null,
   "id": "e30c4a52-9e40-467c-830b-b1be445bdef8",
   "metadata": {},
   "outputs": [],
   "source": [
    "fig, ax = plt.subplots()\n",
    "\n",
    "raster_x = grid.x_of_node[grid.core_nodes].reshape(grid.cell_grid_shape)\n",
    "raster_y = grid.y_of_node[grid.core_nodes].reshape(grid.cell_grid_shape)\n",
    "raster_z = grid.at_node['topographic__elevation'][grid.core_nodes].reshape(grid.cell_grid_shape)\n",
    "\n",
    "pc = ax.pcolormesh(raster_x, raster_y, raster_z, cmap=cmocean.cm.topo,\n",
    "                   norm=mcolors.CenteredNorm(grid.at_grid['sea_level__elevation']))\n",
    "fig.colorbar(pc, ax=ax, label='Elevation (m)')\n",
    "\n",
    "ax.set(xlabel='y (m)', ylabel='y (m)', aspect='equal');"
   ]
  },
  {
   "cell_type": "markdown",
   "id": "8a33ecc9-ec86-4f46-af08-375e69f9910d",
   "metadata": {},
   "source": [
    "## 2. 2D visualization"
   ]
  },
  {
   "cell_type": "markdown",
   "id": "27ffc681-e381-48d1-baa9-7a98bddd5f3d",
   "metadata": {},
   "source": [
    "The raster grid in StratigraPy has a function `plot_layers`, which we can use the visualize cross sections through the stratigraphy using [matplotlib](https://matplotlib.org/), for instance for the fraction of the second sediment class in the middle of the grid along the y-axis:"
   ]
  },
  {
   "cell_type": "code",
   "execution_count": null,
   "id": "8f025386-be9d-43bd-aabd-bc988bf77671",
   "metadata": {},
   "outputs": [],
   "source": [
    "fig, ax = plt.subplots(figsize=(10, 3.5))\n",
    "\n",
    "raster_y = grid.y_of_node[grid.core_nodes].reshape(grid.cell_grid_shape)[:, 14]\n",
    "raster_z = grid.at_node['topographic__elevation'][grid.core_nodes].reshape(grid.cell_grid_shape)[:, 14]\n",
    "# Sea level\n",
    "fill_sea = ax.fill_between(raster_y, raster_z, grid.at_grid['sea_level__elevation'],\n",
    "                           color='#c6dbef', zorder=0)\n",
    "# Bedrock\n",
    "ax.fill_between(raster_y, raster_z, raster_z.min(), color='#d9d9d9')\n",
    "\n",
    "# Sediments\n",
    "pc = grid.plot_layers(ax, 'composition', i_class=1, mask_wedges=True, cmap='pink')\n",
    "fig.colorbar(pc[0], ax=ax, label='Fraction of the second sediment class')\n",
    "\n",
    "ax.set(xlabel='y (m)', ylabel='z (m)');"
   ]
  },
  {
   "cell_type": "markdown",
   "id": "75831655-c3d4-4e78-8107-870bf2566182",
   "metadata": {},
   "source": [
    "And we can do the same along the x-axis:"
   ]
  },
  {
   "cell_type": "code",
   "execution_count": null,
   "id": "11eafbd8-093d-4c61-aeaf-09d165bddbfe",
   "metadata": {},
   "outputs": [],
   "source": [
    "fig, ax = plt.subplots(figsize=(10, 3.5))\n",
    "\n",
    "raster_x = grid.x_of_node[grid.core_nodes].reshape(grid.cell_grid_shape)[11]\n",
    "raster_z = grid.at_node['topographic__elevation'][grid.core_nodes].reshape(grid.cell_grid_shape)[11]\n",
    "# Sea level\n",
    "fill_sea = ax.fill_between(raster_x, raster_z, grid.at_grid['sea_level__elevation'],\n",
    "                           color='#c6dbef', zorder=0)\n",
    "\n",
    "# Sediments\n",
    "pc = grid.plot_layers(ax, 'composition', i_x=None, i_y='middle', i_class=1, mask_wedges=True, cmap='pink')\n",
    "fig.colorbar(pc[0], ax=ax, label='Fraction of the second sediment class')\n",
    "\n",
    "ax.set(xlabel='x (m)', ylabel='z (m)');"
   ]
  },
  {
   "cell_type": "markdown",
   "id": "933a7545-5b8b-4b83-8d48-1ba8b86d12ac",
   "metadata": {},
   "source": [
    "Or plot the fraction of the first sediment class at the surface:"
   ]
  },
  {
   "cell_type": "code",
   "execution_count": null,
   "id": "aa3e60da-9641-4271-ab74-f2363407bbe4",
   "metadata": {},
   "outputs": [],
   "source": [
    "fig, ax = plt.subplots()\n",
    "\n",
    "pc = grid.plot_layers(ax, 'composition', i_x=None, i_layer='top', i_class=0,\n",
    "                      shading='nearest', cmap='pink')\n",
    "fig.colorbar(pc, ax=ax, label='Fraction of the first sediment class')\n",
    "\n",
    "ax.set(xlabel='y (m)', ylabel='y (m)', aspect='equal');"
   ]
  },
  {
   "cell_type": "markdown",
   "id": "f0a41eb4-761a-4aba-bf08-4f548bfa1d55",
   "metadata": {},
   "source": [
    "We can also plot any field tracked by the components. Time is always tracked by default:"
   ]
  },
  {
   "cell_type": "code",
   "execution_count": null,
   "id": "793e62b8-47c9-4dea-a53d-62cf0a99a992",
   "metadata": {},
   "outputs": [],
   "source": [
    "fig, ax = plt.subplots(figsize=(10, 3.5))\n",
    "\n",
    "raster_y = grid.y_of_node[grid.core_nodes].reshape(grid.cell_grid_shape)[:, 14]\n",
    "raster_z = grid.at_node['topographic__elevation'][grid.core_nodes].reshape(grid.cell_grid_shape)[:, 14]\n",
    "# Sea level\n",
    "fill_sea = ax.fill_between(raster_y, raster_z, grid.at_grid['sea_level__elevation'],\n",
    "                           color='#c6dbef', zorder=0)\n",
    "# Bedrock\n",
    "ax.fill_between(raster_y, raster_z, raster_z.min(), color='#d9d9d9')\n",
    "\n",
    "# Sediments\n",
    "pc = grid.plot_layers(ax, 'time')\n",
    "fig.colorbar(pc[0], ax=ax, label='Deposition time (yr)')\n",
    "\n",
    "ax.set(xlabel='y (m)', ylabel='z (m)');"
   ]
  },
  {
   "cell_type": "markdown",
   "id": "f6172d94-b5b1-41ab-a70c-ad9ab2337f9b",
   "metadata": {},
   "source": [
    "And here we also asked to track the bathymetry:"
   ]
  },
  {
   "cell_type": "code",
   "execution_count": null,
   "id": "17def39d-68b1-418b-bf9a-4fb1e4e85b7e",
   "metadata": {},
   "outputs": [],
   "source": [
    "fig, ax = plt.subplots(figsize=(10, 3.5))\n",
    "\n",
    "raster_y = grid.y_of_node[grid.core_nodes].reshape(grid.cell_grid_shape)[:, 14]\n",
    "raster_z = grid.at_node['topographic__elevation'][grid.core_nodes].reshape(grid.cell_grid_shape)[:, 14]\n",
    "# Sea level\n",
    "fill_sea = ax.fill_between(raster_y, raster_z, grid.at_grid['sea_level__elevation'],\n",
    "                           color='#c6dbef', zorder=0)\n",
    "# Bedrock\n",
    "ax.fill_between(raster_y, raster_z, raster_z.min(), color='#d9d9d9')\n",
    "\n",
    "# Sediments\n",
    "pc = grid.plot_layers(ax, 'bathymetric__depth', cmap=cmocean.cm.deep)\n",
    "fig.colorbar(pc[0], ax=ax, label='Water depth (m)')\n",
    "\n",
    "ax.set(xlabel='y (m)', ylabel='z (m)');"
   ]
  },
  {
   "cell_type": "markdown",
   "id": "7ac31ff8-5b9f-4588-9a2e-22a39d89baf5",
   "metadata": {},
   "source": [
    "StratigraPy's visualization abilities are still rough, and don't render erosion quite properly for instance, but can still be used to analyze simulation results."
   ]
  },
  {
   "cell_type": "markdown",
   "id": "831e1c64-8f47-4df1-b70a-538d8c473fb4",
   "metadata": {},
   "source": [
    "## 3. 3D visualization"
   ]
  },
  {
   "cell_type": "markdown",
   "id": "52f37ee0-cd11-480e-90c3-1dc810adfed8",
   "metadata": {},
   "source": [
    "We can also visualize the stratigraphy in 3D using PyVista, which takes a more indirect path. We first need to call the function `extract_tie_centered_layers`, which prepares the right inputs for PyVista's class `StructuredGrid`:"
   ]
  },
  {
   "cell_type": "code",
   "execution_count": null,
   "id": "b24562bb-744e-4f05-a0d2-58bccb24c3e0",
   "metadata": {},
   "outputs": [],
   "source": [
    "x, y, z, layers = extract_tie_centered_layers(grid, 'bathymetric__depth', axis=2)"
   ]
  },
  {
   "cell_type": "markdown",
   "id": "2aa8bf13-efda-419a-a104-951f2712a28a",
   "metadata": {},
   "source": [
    "Then we can visualize the full stratigraphy:"
   ]
  },
  {
   "cell_type": "code",
   "execution_count": null,
   "id": "aa0df6d5-98bf-44d5-bcbc-03922203ecef",
   "metadata": {},
   "outputs": [],
   "source": [
    "p = pv.Plotter()\n",
    "\n",
    "for l in range(len(layers)):\n",
    "    mesh = pv.StructuredGrid(x[l:l + 2], y[l:l + 2], z[l:l + 2])\n",
    "    mesh['Water depth (m)'] = np.tile(layers[l], (2, 1, 1)).T.ravel()\n",
    "    p.add_mesh(mesh, scalars='Water depth (m)', cmap=cmocean.cm.deep, show_edges=True)\n",
    "\n",
    "p.set_scale(zscale=150)\n",
    "p.show()"
   ]
  },
  {
   "cell_type": "markdown",
   "id": "80afbd65-2c52-41c5-89c9-330c13cd13ed",
   "metadata": {},
   "source": [
    "Or sections through it:"
   ]
  },
  {
   "cell_type": "code",
   "execution_count": null,
   "id": "8a4fbdbc-6717-4f96-84d5-8cbfa6d7fbd6",
   "metadata": {},
   "outputs": [],
   "source": [
    "p = pv.Plotter()\n",
    "\n",
    "for l in range(len(layers)):\n",
    "    mesh = pv.StructuredGrid(x[l:l + 2], y[l:l + 2], z[l:l + 2])\n",
    "    mesh['Water depth (m)'] = np.tile(layers[l], (2, 1, 1)).T.ravel()\n",
    "    p.add_mesh(mesh.slice_along_axis(n=10, axis='x'), scalars='Water depth (m)',\n",
    "               clim=[np.nanmin(layers), np.nanmax(layers)], cmap=cmocean.cm.deep)\n",
    "    p.add_mesh(mesh.slice_along_axis(n=10, axis='y'), scalars='Water depth (m)',\n",
    "               clim=[np.nanmin(layers), np.nanmax(layers)], cmap=cmocean.cm.deep)\n",
    "\n",
    "p.set_scale(zscale=150)\n",
    "p.show()"
   ]
  }
 ],
 "metadata": {
  "kernelspec": {
   "display_name": "Python 3 (ipykernel)",
   "language": "python",
   "name": "python3"
  },
  "language_info": {
   "codemirror_mode": {
    "name": "ipython",
    "version": 3
   },
   "file_extension": ".py",
   "mimetype": "text/x-python",
   "name": "python",
   "nbconvert_exporter": "python",
   "pygments_lexer": "ipython3",
   "version": "3.11.6"
  }
 },
 "nbformat": 4,
 "nbformat_minor": 5
}

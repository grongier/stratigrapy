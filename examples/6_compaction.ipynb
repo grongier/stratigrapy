{
 "cells": [
  {
   "cell_type": "markdown",
   "id": "6f506561-0a75-405b-bfa3-9945c035403a",
   "metadata": {},
   "source": [
    "<table align=\"left\">\n",
    "    <tr>\n",
    "        <td style=\"vertical-align: middle; padding-left: 0px; padding-right: 0px;\">\n",
    "            <a href=\"https://creativecommons.org/licenses/by/4.0/\">\n",
    "                <img src=\"https://licensebuttons.net/l/by/4.0/80x15.png\" />\n",
    "            </a>\n",
    "        </td>\n",
    "        <td style=\"vertical-align: middle; padding-left: 5px; padding-right: 0px;\">\n",
    "            <a href=\"https://opensource.org/licenses/MIT\">\n",
    "                <img src=\"https://img.shields.io/badge/License-MIT-green.svg\" />\n",
    "            </a>\n",
    "        </td>\n",
    "        <td style=\"vertical-align: middle; padding-left: 15px;\">\n",
    "            &copy; Guillaume Rongier\n",
    "        </td>\n",
    "    </tr>\n",
    "</table>"
   ]
  },
  {
   "cell_type": "markdown",
   "id": "fe04d3c0-3683-412f-b12e-25e5411b96b5",
   "metadata": {},
   "source": [
    "# Adding sediment compaction"
   ]
  },
  {
   "cell_type": "markdown",
   "id": "aabe78cb-d5a1-4dfc-aad8-5e7f9edb10ea",
   "metadata": {},
   "source": [
    "This notebook starts from the basic example of the [first notebook](1_basic-example.ipynb) to show how to use the component managing sediment compaction."
   ]
  },
  {
   "cell_type": "markdown",
   "id": "91bb5258-901f-4b8d-83b9-766f0d6ed354",
   "metadata": {},
   "source": [
    "### Imports"
   ]
  },
  {
   "cell_type": "markdown",
   "id": "f1ea66c5-571c-4610-89c3-67b978995260",
   "metadata": {},
   "source": [
    "Let's first import all the required packages and components:"
   ]
  },
  {
   "cell_type": "code",
   "execution_count": null,
   "id": "d24cac43-3672-4140-a8d9-5bab94f67cdc",
   "metadata": {},
   "outputs": [],
   "source": [
    "import numpy as np\n",
    "from tqdm.notebook import tqdm\n",
    "import matplotlib.pyplot as plt\n",
    "import matplotlib.colors as mcolors\n",
    "import cmocean\n",
    "import pyvista as pv\n",
    "\n",
    "from landlab.components import FlowDirectorMFD, FlowAccumulator\n",
    "\n",
    "from stratigrapy import RasterModelGrid\n",
    "from stratigrapy.components import CyclicSeaLevelCalculator, WaterDrivenRouter, SedimentCompactor\n",
    "from stratigrapy.plot import extract_tie_centered_layers"
   ]
  },
  {
   "cell_type": "markdown",
   "id": "c1ee7053-0393-4e03-9acd-ff36a05ba456",
   "metadata": {},
   "source": [
    "## 1. Compaction during simulation"
   ]
  },
  {
   "cell_type": "markdown",
   "id": "28235163-7f39-41ae-a6b6-f67d48e857f6",
   "metadata": {},
   "source": [
    "We'll use the same case as in the [first notebook](1_basic-example.ipynb), starting with the same simulation time:"
   ]
  },
  {
   "cell_type": "code",
   "execution_count": null,
   "id": "e18ebf98-79ec-4232-870b-e070af7ae0d3",
   "metadata": {},
   "outputs": [],
   "source": [
    "timestep = 100.\n",
    "runtime = 500000.\n",
    "n_iterations = int(runtime/timestep)"
   ]
  },
  {
   "cell_type": "markdown",
   "id": "8be2176b-59cc-4841-b70f-48d25fd9585f",
   "metadata": {},
   "source": [
    "Then the grid:"
   ]
  },
  {
   "cell_type": "code",
   "execution_count": null,
   "id": "af86904a-8908-4dac-8b87-39080964600a",
   "metadata": {},
   "outputs": [],
   "source": [
    "grid = RasterModelGrid((25, 30),\n",
    "                       xy_spacing=(2500., 2500.),\n",
    "                       number_of_classes=2,\n",
    "                       initial_allocation=n_iterations//100 + 100,\n",
    "                       number_of_layers_to_fuse=100,\n",
    "                       number_of_top_layers=100,\n",
    "                       fuse_continuously=True)"
   ]
  },
  {
   "cell_type": "code",
   "execution_count": null,
   "id": "e8a105c6-89db-4cc5-9403-03aa252723c5",
   "metadata": {},
   "outputs": [],
   "source": [
    "grid.set_closed_boundaries_at_grid_edges(True, True, True, False)"
   ]
  },
  {
   "cell_type": "markdown",
   "id": "996412ad-4d7e-41f0-8449-7693d7a6e5bc",
   "metadata": {},
   "source": [
    "The initial topography:"
   ]
  },
  {
   "cell_type": "code",
   "execution_count": null,
   "id": "aae68da8-65ec-46c7-9a12-b74264e56239",
   "metadata": {},
   "outputs": [],
   "source": [
    "elevation = grid.add_zeros('topographic__elevation', at='node', clobber=True)\n",
    "elevation += 0.003*(grid.y_of_node - 50000.)"
   ]
  },
  {
   "cell_type": "markdown",
   "id": "0581e1ea-1ee0-448e-a6c2-995e219d9359",
   "metadata": {},
   "source": [
    "The sources of water and sediments:"
   ]
  },
  {
   "cell_type": "code",
   "execution_count": null,
   "id": "a4f01df1-ce88-4c29-884e-54fbcdc561af",
   "metadata": {},
   "outputs": [],
   "source": [
    "idx = np.ravel_multi_index(((23, 23), (14, 15)), grid.shape)\n",
    "water_influx = grid.add_zeros('water__unit_flux_in', at='node', clobber=True)\n",
    "water_influx[idx] = 5000. # m/yr"
   ]
  },
  {
   "cell_type": "code",
   "execution_count": null,
   "id": "c05f186c-8099-4c76-95f6-c01fc549e87b",
   "metadata": {},
   "outputs": [],
   "source": [
    "sediment_influx = grid.add_field('sediment__unit_flux_in',\n",
    "                                 np.zeros((grid.number_of_nodes, 2)),\n",
    "                                 clobber=True)\n",
    "sediment_influx[idx] = [0.7*50000., 0.3*50000.] # m3/yr"
   ]
  },
  {
   "cell_type": "markdown",
   "id": "03a610ff-32d3-41bf-b09c-ded6b24a6dba",
   "metadata": {},
   "source": [
    "The component controlling sea level:"
   ]
  },
  {
   "cell_type": "code",
   "execution_count": null,
   "id": "1aaf19dd-401c-4db9-b0fa-c2c8c95e93f8",
   "metadata": {},
   "outputs": [],
   "source": [
    "slc = CyclicSeaLevelCalculator(grid, wavelength=[100000., 10000.], amplitude=[25., 2.5])"
   ]
  },
  {
   "cell_type": "markdown",
   "id": "05d695a1-cc81-417f-be9a-1a4cee2d5615",
   "metadata": {},
   "source": [
    "The component controlling water flow:"
   ]
  },
  {
   "cell_type": "code",
   "execution_count": null,
   "id": "3a876986-0e4a-43a5-ae26-1f4632308215",
   "metadata": {},
   "outputs": [],
   "source": [
    "fd = FlowDirectorMFD(grid, partition_method='slope', diagonals=True)"
   ]
  },
  {
   "cell_type": "code",
   "execution_count": null,
   "id": "dbf87d51-a2a9-455a-ba24-4e69a62d93b3",
   "metadata": {},
   "outputs": [],
   "source": [
    "fa = FlowAccumulator(grid, flow_director=fd)"
   ]
  },
  {
   "cell_type": "markdown",
   "id": "8d759071-ca30-4077-86cc-bd73cc3f568f",
   "metadata": {},
   "source": [
    "Then we can define the component for sediment compaction:"
   ]
  },
  {
   "cell_type": "code",
   "execution_count": null,
   "id": "4a47ee28-19ce-4354-ac0d-7b099ca18211",
   "metadata": {},
   "outputs": [],
   "source": [
    "sc = SedimentCompactor(grid, initial_porosity=[0.6, 0.4], efolding_thickness=[1500., 2000.])"
   ]
  },
  {
   "cell_type": "markdown",
   "id": "a02c9a26-60e1-45b2-a3b1-9500b530accb",
   "metadata": {},
   "source": [
    "And the component controlling sediment transport, in which we need to add the sediment initial porosity throught the parameter `porosity` and an extra field to track, `sediment__porosity`, which is created by SedimentCompactor:"
   ]
  },
  {
   "cell_type": "code",
   "execution_count": null,
   "id": "74b92400-a9ba-4eb5-b7b9-7ae302ce2c95",
   "metadata": {},
   "outputs": [],
   "source": [
    "wdr = WaterDrivenRouter(grid,\n",
    "                        transportability_cont=[1e-8, 1e-8],\n",
    "                        transportability_mar=[4e-10, 2e-10],\n",
    "                        wave_base=15.,\n",
    "                        porosity=[0.6, 0.4],\n",
    "                        max_erosion_rate_sed=1e-2,\n",
    "                        max_erosion_rate_br=1e-12,\n",
    "                        bedrock_composition=[0.7, 0.3],\n",
    "                        fields_to_track=['bathymetric__depth', 'sediment__porosity'])"
   ]
  },
  {
   "cell_type": "markdown",
   "id": "7a865ec0-a5ae-41c7-9c47-8ac551419b50",
   "metadata": {},
   "source": [
    "Now we can run the simulation, adding the function to run the compaction and fusing the porosity with a mean weighted by layer thickness:"
   ]
  },
  {
   "cell_type": "code",
   "execution_count": null,
   "id": "02a52d8a-a15a-46d9-9a34-d60e715a9ac4",
   "metadata": {},
   "outputs": [],
   "source": [
    "for i in tqdm(range(n_iterations)):\n",
    "    slc.run_one_step(timestep)\n",
    "    fa.run_one_step()\n",
    "    wdr.run_one_step(timestep)\n",
    "    sc.run_one_step()\n",
    "    grid.stacked_layers.fuse(time=np.mean, bathymetric__depth=np.mean, sediment__porosity='weighted_mean')\n",
    "grid.stacked_layers.fuse(finalize=True, time=np.mean, bathymetric__depth=np.mean, sediment__porosity='weighted_mean')"
   ]
  },
  {
   "cell_type": "markdown",
   "id": "f5137f71-c138-4402-904e-e609271eef52",
   "metadata": {},
   "source": [
    "Note that compaction significantly slows down the simulation. Let's visualize the result:"
   ]
  },
  {
   "cell_type": "code",
   "execution_count": null,
   "id": "e30c4a52-9e40-467c-830b-b1be445bdef8",
   "metadata": {},
   "outputs": [],
   "source": [
    "fig, ax = plt.subplots()\n",
    "\n",
    "raster_x = grid.x_of_node[grid.core_nodes].reshape(grid.cell_grid_shape)\n",
    "raster_y = grid.y_of_node[grid.core_nodes].reshape(grid.cell_grid_shape)\n",
    "raster_z = grid.at_node['topographic__elevation'][grid.core_nodes].reshape(grid.cell_grid_shape)\n",
    "\n",
    "pc = ax.pcolormesh(raster_x, raster_y, raster_z, cmap=cmocean.cm.topo,\n",
    "                   norm=mcolors.CenteredNorm(grid.at_grid['sea_level__elevation']))\n",
    "fig.colorbar(pc, ax=ax, label='Elevation (m)')\n",
    "\n",
    "ax.set(xlabel='x (m)', ylabel='y (m)', aspect='equal');"
   ]
  },
  {
   "cell_type": "code",
   "execution_count": null,
   "id": "c35b9921-c0cf-4d9d-b84d-7af1f882ec6a",
   "metadata": {},
   "outputs": [],
   "source": [
    "fig, ax = plt.subplots(figsize=(10, 3.5))\n",
    "\n",
    "# Sediments\n",
    "pc = grid.plot_layers(ax, 'composition', i_class=0, mask_wedges=True, cmap='pink', zorder=2)\n",
    "fig.colorbar(pc[0], ax=ax, label='Fraction of the first sediment class')\n",
    "\n",
    "raster_y = grid.y_of_node[grid.core_nodes].reshape(grid.cell_grid_shape)[:, 14]\n",
    "raster_z = grid.at_node['topographic__elevation'][grid.core_nodes].reshape(grid.cell_grid_shape)[:, 14]\n",
    "# Sea level\n",
    "fill_sea = ax.fill_between(raster_y, raster_z, grid.at_grid['sea_level__elevation'],\n",
    "                           color='#c6dbef', zorder=0)\n",
    "# Bedrock\n",
    "ymin, ymax = ax.get_ylim()\n",
    "ax.fill_between(raster_y, raster_z, ymin, color='#d9d9d9', zorder=1)\n",
    "\n",
    "ax.set(xlabel='y (m)', ylabel='z (m)', ylim=(ymin, ymax));"
   ]
  },
  {
   "cell_type": "markdown",
   "id": "5b4059d1-aa8d-4650-a896-10b0299a6286",
   "metadata": {},
   "source": [
    "We can also visualize the overall sediment porosity, using the keyword 'weighted_mean' for the parameter `i_class` to account for the fraction of each sediment class:"
   ]
  },
  {
   "cell_type": "code",
   "execution_count": null,
   "id": "60f06a9b-b66e-4c54-891a-1aced08d8e3b",
   "metadata": {},
   "outputs": [],
   "source": [
    "fig, ax = plt.subplots(figsize=(10, 3.5))\n",
    "\n",
    "# Sediments\n",
    "pc = grid.plot_layers(ax, 'sediment__porosity', i_class='weighted_mean',\n",
    "                      mask_wedges=True, mask_value=0., cmap='cividis', zorder=2)\n",
    "fig.colorbar(pc[0], ax=ax, label='Porosity')\n",
    "\n",
    "raster_y = grid.y_of_node[grid.core_nodes].reshape(grid.cell_grid_shape)[:, 14]\n",
    "raster_z = grid.at_node['topographic__elevation'][grid.core_nodes].reshape(grid.cell_grid_shape)[:, 14]\n",
    "# Sea level\n",
    "fill_sea = ax.fill_between(raster_y, raster_z, grid.at_grid['sea_level__elevation'],\n",
    "                           color='#c6dbef', zorder=0)\n",
    "# Bedrock\n",
    "ymin, ymax = ax.get_ylim()\n",
    "ax.fill_between(raster_y, raster_z, ymin, color='#d9d9d9', zorder=1)\n",
    "\n",
    "ax.set(xlabel='y (m)', ylabel='z (m)', ylim=(ymin, ymax));"
   ]
  },
  {
   "cell_type": "markdown",
   "id": "ac79de39-ab31-4d3c-85d9-e41985c47946",
   "metadata": {},
   "source": [
    "We can do the same to visualize the sediment porosity at the surface:"
   ]
  },
  {
   "cell_type": "code",
   "execution_count": null,
   "id": "44f9927a-ae4d-4b5c-98c2-2fd63a5c976e",
   "metadata": {},
   "outputs": [],
   "source": [
    "fig, ax = plt.subplots()\n",
    "\n",
    "pc = grid.plot_layers(ax, 'sediment__porosity', i_x=None, i_layer='top',\n",
    "                      i_class='weighted_mean', mask_value=0.,\n",
    "                      shading='nearest', cmap='cividis')\n",
    "fig.colorbar(pc, ax=ax, label='Fraction of first lithology')\n",
    "\n",
    "ax.set(xlabel='x (m)', ylabel='y (m)', aspect='equal');"
   ]
  },
  {
   "cell_type": "markdown",
   "id": "ef9f936b-d592-4a4e-a6c8-bca42329c9fa",
   "metadata": {},
   "source": [
    "## 2. Compaction after simulation"
   ]
  },
  {
   "cell_type": "markdown",
   "id": "32431a89-1f82-41b4-82c1-2b5d7fccf627",
   "metadata": {},
   "source": [
    "As noted by by [Granjeon (1996)](https://theses.hal.science/tel-00648827v1), compaction near the surface leads to few changes compared to the case without compaction (most of the visible changes here come from taking the sediment porosity into account during sediment transport and deposition). But the component can also be used to adjust the stratigraphy to greater depths. For instance, let's consider that the delta gets convered by a kilometer of sediments made of 70% of the first class and 20% of the second, and add that layer to the stratigraphy:"
   ]
  },
  {
   "cell_type": "code",
   "execution_count": null,
   "id": "e5c1ec91-cab5-4aeb-9870-5f5a0d0ba3c3",
   "metadata": {},
   "outputs": [],
   "source": [
    "grid.stacked_layers.add([0.7*1000., 0.3*1000.],\n",
    "                        time=5100000.,\n",
    "                        bathymetric__depth=0.,\n",
    "                        sediment__porosity=[0.6, 0.4])"
   ]
  },
  {
   "cell_type": "markdown",
   "id": "5b6d942b-ce12-4d06-8c94-fcf98f1edf4b",
   "metadata": {},
   "source": [
    "Now let's run the compaction only:"
   ]
  },
  {
   "cell_type": "code",
   "execution_count": null,
   "id": "1978a1fe-2d7a-4752-bd5c-6115d1d3d7ef",
   "metadata": {},
   "outputs": [],
   "source": [
    "sc.run_one_step()"
   ]
  },
  {
   "cell_type": "markdown",
   "id": "a8a715e6-d07f-481d-a658-df0a8da4ef8f",
   "metadata": {},
   "source": [
    "And let's remove that extra layer to make visualization easier:"
   ]
  },
  {
   "cell_type": "code",
   "execution_count": null,
   "id": "961592ff-b532-483e-8201-70ace7ef217c",
   "metadata": {},
   "outputs": [],
   "source": [
    "grid.at_node['topographic__elevation'][grid.core_nodes] -= grid.stacked_layers.layer_thickness[-1]"
   ]
  },
  {
   "cell_type": "code",
   "execution_count": null,
   "id": "cdff5de6-1829-4924-91fc-1bab33af8c4a",
   "metadata": {},
   "outputs": [],
   "source": [
    "grid.stacked_layers.remove_last_layers()"
   ]
  },
  {
   "cell_type": "markdown",
   "id": "c6566780-deab-44fb-a7ee-a8558cadd1bf",
   "metadata": {},
   "source": [
    "Now we can clearly see the impact of the compaction:"
   ]
  },
  {
   "cell_type": "code",
   "execution_count": null,
   "id": "c9cd5ec9-b82d-45fb-8d35-57aaa5cf8365",
   "metadata": {},
   "outputs": [],
   "source": [
    "fig, ax = plt.subplots(figsize=(10, 3.5))\n",
    "\n",
    "# Sediments\n",
    "pc = grid.plot_layers(ax, 'composition', i_class=0, mask_wedges=True, cmap='pink', zorder=2)\n",
    "fig.colorbar(pc[0], ax=ax, label='Fraction of the first sediment class')\n",
    "\n",
    "raster_y = grid.y_of_node[grid.core_nodes].reshape(grid.cell_grid_shape)[:, 14]\n",
    "raster_z = grid.at_node['topographic__elevation'][grid.core_nodes].reshape(grid.cell_grid_shape)[:, 14]\n",
    "# Overburden\n",
    "ymin, ymax = ax.get_ylim()\n",
    "ax.fill_between(raster_y, raster_z, ymax, color='0.97', zorder=0)\n",
    "# Bedrock\n",
    "ax.fill_between(raster_y, raster_z, ymin, color='#d9d9d9', zorder=1)\n",
    "\n",
    "ax.set(xlabel='y (m)', ylabel='z (m)', ylim=(ymin, ymax));"
   ]
  },
  {
   "cell_type": "markdown",
   "id": "d49ff283-40fd-4a85-a526-f7ad181b6df8",
   "metadata": {},
   "source": [
    "Visualizing the porosity shows a layer of high porosity at depth, which comes from layer fusing and the fact that porosity in each layer is computed at the center of a layer:"
   ]
  },
  {
   "cell_type": "code",
   "execution_count": null,
   "id": "6c826cb3-54f3-4b76-a718-cbde791d1943",
   "metadata": {},
   "outputs": [],
   "source": [
    "fig, ax = plt.subplots(figsize=(10, 3.5))\n",
    "\n",
    "# Sediments\n",
    "pc = grid.plot_layers(ax, 'sediment__porosity', i_class='weighted_mean',\n",
    "                      mask_wedges=True, mask_value=0., cmap='cividis', zorder=2)\n",
    "fig.colorbar(pc[0], ax=ax, label='Porosity')\n",
    "\n",
    "raster_y = grid.y_of_node[grid.core_nodes].reshape(grid.cell_grid_shape)[:, 14]\n",
    "raster_z = grid.at_node['topographic__elevation'][grid.core_nodes].reshape(grid.cell_grid_shape)[:, 14]\n",
    "# Overburden\n",
    "ymin, ymax = ax.get_ylim()\n",
    "ax.fill_between(raster_y, raster_z, ymax, color='0.97', zorder=0)\n",
    "# Bedrock\n",
    "ax.fill_between(raster_y, raster_z, ymin, color='#d9d9d9', zorder=1)\n",
    "\n",
    "ax.set(xlabel='y (m)', ylabel='z (m)', ylim=(ymin, ymax));"
   ]
  }
 ],
 "metadata": {
  "kernelspec": {
   "display_name": "Python 3 (ipykernel)",
   "language": "python",
   "name": "python3"
  },
  "language_info": {
   "codemirror_mode": {
    "name": "ipython",
    "version": 3
   },
   "file_extension": ".py",
   "mimetype": "text/x-python",
   "name": "python",
   "nbconvert_exporter": "python",
   "pygments_lexer": "ipython3",
   "version": "3.11.6"
  }
 },
 "nbformat": 4,
 "nbformat_minor": 5
}

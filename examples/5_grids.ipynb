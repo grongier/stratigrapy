{
 "cells": [
  {
   "cell_type": "markdown",
   "id": "6f506561-0a75-405b-bfa3-9945c035403a",
   "metadata": {},
   "source": [
    "<table align=\"left\">\n",
    "    <tr>\n",
    "        <td style=\"vertical-align: middle; padding-left: 0px; padding-right: 0px;\">\n",
    "            <a href=\"https://creativecommons.org/licenses/by/4.0/\">\n",
    "                <img src=\"https://licensebuttons.net/l/by/4.0/80x15.png\" />\n",
    "            </a>\n",
    "        </td>\n",
    "        <td style=\"vertical-align: middle; padding-left: 5px; padding-right: 0px;\">\n",
    "            <a href=\"https://opensource.org/licenses/MIT\">\n",
    "                <img src=\"https://img.shields.io/badge/License-MIT-green.svg\" />\n",
    "            </a>\n",
    "        </td>\n",
    "        <td style=\"vertical-align: middle; padding-left: 15px;\">\n",
    "            &copy; Guillaume Rongier\n",
    "        </td>\n",
    "    </tr>\n",
    "</table>"
   ]
  },
  {
   "cell_type": "markdown",
   "id": "fe04d3c0-3683-412f-b12e-25e5411b96b5",
   "metadata": {},
   "source": [
    "# Using different grid types"
   ]
  },
  {
   "cell_type": "markdown",
   "id": "aabe78cb-d5a1-4dfc-aad8-5e7f9edb10ea",
   "metadata": {},
   "source": [
    "This notebook starts from the basic example of the [first notebook](1_basic-example.ipynb) to show how to use different grid types with StratigraPy."
   ]
  },
  {
   "cell_type": "markdown",
   "id": "91bb5258-901f-4b8d-83b9-766f0d6ed354",
   "metadata": {},
   "source": [
    "### Imports"
   ]
  },
  {
   "cell_type": "markdown",
   "id": "15622406-d97e-43d4-bd31-ca2aece728cd",
   "metadata": {},
   "source": [
    "Let's first import all the required packages and components:"
   ]
  },
  {
   "cell_type": "code",
   "execution_count": null,
   "id": "d24cac43-3672-4140-a8d9-5bab94f67cdc",
   "metadata": {},
   "outputs": [],
   "source": [
    "import numpy as np\n",
    "from scipy.spatial import KDTree\n",
    "from tqdm.notebook import tqdm\n",
    "import matplotlib.pyplot as plt\n",
    "import matplotlib.colors as mcolors\n",
    "import cmocean\n",
    "\n",
    "from landlab.components import FlowDirectorSteepest, FlowDirectorMFD, FlowAccumulator\n",
    "\n",
    "from stratigrapy import RasterModelGrid, FramedVoronoiGrid, HexModelGrid\n",
    "from stratigrapy.components import SeaLevelCalculator, WaterDrivenRouter"
   ]
  },
  {
   "cell_type": "markdown",
   "id": "c1ee7053-0393-4e03-9acd-ff36a05ba456",
   "metadata": {},
   "source": [
    "## 1. Hexagonal grid"
   ]
  },
  {
   "cell_type": "markdown",
   "id": "877549af-1a3a-4f7d-9fcb-ad4c6f4b91e2",
   "metadata": {},
   "source": [
    "We'll use the same case as in the [first notebook](1_basic-example.ipynb), starting with the same simulation time:"
   ]
  },
  {
   "cell_type": "code",
   "execution_count": null,
   "id": "6e22f304-766a-4c97-b297-2f3c4df19a9b",
   "metadata": {},
   "outputs": [],
   "source": [
    "timestep = 100.\n",
    "runtime = 500000.\n",
    "n_iterations = int(runtime/timestep)"
   ]
  },
  {
   "cell_type": "markdown",
   "id": "0545a929-0217-4608-b93b-dd3657f7272f",
   "metadata": {},
   "source": [
    "Then we simply need to change to grid type from a raster to a hexagonal grid:"
   ]
  },
  {
   "cell_type": "code",
   "execution_count": null,
   "id": "a5c746ad-1e67-4e26-9687-e5706921ad0f",
   "metadata": {},
   "outputs": [],
   "source": [
    "grid = HexModelGrid((25, 30),\n",
    "                    spacing=2500.,\n",
    "                    number_of_classes=2,\n",
    "                    initial_allocation=n_iterations//100 + 100,\n",
    "                    number_of_layers_to_fuse=100,\n",
    "                    number_of_top_layers=100,\n",
    "                    fuse_continuously=True)"
   ]
  },
  {
   "cell_type": "markdown",
   "id": "c51d7161-c97a-4f2b-b098-fcc0eb0f5020",
   "metadata": {},
   "source": [
    "Defining the boundary conditions is more complicated than with a raster grid, because Landlab doesn't have a simple function like ` set_closed_boundaries_at_grid_edges` for other grid types. So we need to identify the node to close manually:"
   ]
  },
  {
   "cell_type": "code",
   "execution_count": null,
   "id": "ca6c1d31-8f2c-460d-9996-939d8ca45cb3",
   "metadata": {},
   "outputs": [],
   "source": [
    "is_closed = np.zeros(grid.number_of_nodes)\n",
    "is_closed[\n",
    "    (grid.status_at_node != grid.BC_NODE_IS_CORE) & (\n",
    "        # Left border\n",
    "        (grid.x_of_node < 16000.) |\n",
    "        # Right border\n",
    "        (grid.x_of_node > 84000) |\n",
    "        # Top border\n",
    "        (grid.y_of_node > 50000.)\n",
    "    )\n",
    "] = 1"
   ]
  },
  {
   "cell_type": "markdown",
   "id": "ea5279f3-c32f-4814-a613-3a18a14090a1",
   "metadata": {},
   "source": [
    "And close them:"
   ]
  },
  {
   "cell_type": "code",
   "execution_count": null,
   "id": "05aeaeb8-1a6e-4320-8f19-e981cd2c5551",
   "metadata": {},
   "outputs": [],
   "source": [
    "grid.set_nodata_nodes_to_closed(is_closed.ravel(), 1)"
   ]
  },
  {
   "cell_type": "markdown",
   "id": "a333ab3c-ef49-470e-8a4c-11eadc314ba3",
   "metadata": {},
   "source": [
    "Setting the initial elevation remain the same:"
   ]
  },
  {
   "cell_type": "code",
   "execution_count": null,
   "id": "b6cf0d2f-5e63-4572-8e84-7590d93ffb22",
   "metadata": {},
   "outputs": [],
   "source": [
    "elevation = grid.add_zeros('topographic__elevation', at='node', clobber=True)\n",
    "elevation += 0.003*(grid.y_of_node - 50000.)"
   ]
  },
  {
   "cell_type": "markdown",
   "id": "4d84d9c7-1481-4308-b218-0f4746a51003",
   "metadata": {},
   "source": [
    "However, we cannot find the right water and sediment sources based on grid indexes, so let's use a kd-tree instead:"
   ]
  },
  {
   "cell_type": "code",
   "execution_count": null,
   "id": "e683467f-319f-46e6-b850-38ab041435e5",
   "metadata": {},
   "outputs": [],
   "source": [
    "kdtree = KDTree(grid.xy_of_node)\n",
    "_, idx = kdtree.query([(grid.x_of_node.max()/2. - 2500., 50000.),\n",
    "                       (grid.x_of_node.max()/2. + 2500., 50000.)])"
   ]
  },
  {
   "cell_type": "markdown",
   "id": "ec6e12dc-fd6b-4be9-84b4-2715721af10c",
   "metadata": {},
   "source": [
    "All the steps after that remain unchanged, except for the flow director, which needs to follow the steepest path for non-raster grid:"
   ]
  },
  {
   "cell_type": "code",
   "execution_count": null,
   "id": "a4a4b19f-6605-4d8a-9cb7-be5aa20d900f",
   "metadata": {},
   "outputs": [],
   "source": [
    "water_influx = grid.add_zeros('water__unit_flux_in', at='node', clobber=True)\n",
    "water_influx[idx] = 5000. # m/yr"
   ]
  },
  {
   "cell_type": "code",
   "execution_count": null,
   "id": "cb75f97b-0026-430f-b380-de9ab102842c",
   "metadata": {},
   "outputs": [],
   "source": [
    "sediment_influx = grid.add_field('sediment__unit_flux_in',\n",
    "                                 np.zeros((grid.number_of_nodes, 2)),\n",
    "                                 clobber=True)\n",
    "sediment_influx[idx] = [0.7*50000., 0.3*50000.] # m3/yr"
   ]
  },
  {
   "cell_type": "code",
   "execution_count": null,
   "id": "b78f6d31-4d39-4518-90eb-dd384d3e8262",
   "metadata": {},
   "outputs": [],
   "source": [
    "slc = SeaLevelCalculator(grid, wavelength=[100000., 10000.], amplitude=[25., 2.5])"
   ]
  },
  {
   "cell_type": "code",
   "execution_count": null,
   "id": "b24d9ec4-43bc-49f6-8c6b-468c2936fcb9",
   "metadata": {},
   "outputs": [],
   "source": [
    "fd = FlowDirectorSteepest(grid)\n",
    "fa = FlowAccumulator(grid, flow_director=fd)"
   ]
  },
  {
   "cell_type": "code",
   "execution_count": null,
   "id": "2f89dc67-542a-4a81-8b98-d410d512009c",
   "metadata": {},
   "outputs": [],
   "source": [
    "wdr = WaterDrivenRouter(grid,\n",
    "                        transportability_cont=[1e-8, 1e-8],\n",
    "                        transportability_mar=[4e-10, 2e-10],\n",
    "                        wave_base=15.,\n",
    "                        max_erosion_rate_sed=1e-2,\n",
    "                        max_erosion_rate_br=1e-12,\n",
    "                        bedrock_composition=[0.7, 0.3],\n",
    "                        fields_to_track='bathymetric__depth')"
   ]
  },
  {
   "cell_type": "code",
   "execution_count": null,
   "id": "e392b438-62fb-4b74-96b1-2e7bf18c0349",
   "metadata": {},
   "outputs": [],
   "source": [
    "for i in tqdm(range(n_iterations)):\n",
    "    slc.run_one_step(timestep)\n",
    "    fa.run_one_step()\n",
    "    wdr.run_one_step(timestep)\n",
    "    grid.stacked_layers.fuse(time=np.mean, bathymetric__depth=np.mean)\n",
    "grid.stacked_layers.fuse(finalize=True, time=np.mean, bathymetric__depth=np.mean)"
   ]
  },
  {
   "cell_type": "markdown",
   "id": "ced3a339-ca00-40aa-9ed4-5a632586c837",
   "metadata": {},
   "source": [
    "StratigraPy doesn't include tools to visualize the stratigraphy of non-raster grids. However, we can use Landlab's tools to visualize the final topography:"
   ]
  },
  {
   "cell_type": "code",
   "execution_count": null,
   "id": "3f5ab8c5-f1e3-40f1-b80b-04bc48a7539e",
   "metadata": {},
   "outputs": [],
   "source": [
    "grid.imshow('topographic__elevation', var_name='Elevation', var_units='m', grid_units=['m', 'm'])"
   ]
  },
  {
   "cell_type": "markdown",
   "id": "a5950768-d313-4fc1-9174-d91881e34fa3",
   "metadata": {},
   "source": [
    "And transfer the properties at the surface from the StackedLayers to the grid, for instance the fraction of the first sediment class at the surface:"
   ]
  },
  {
   "cell_type": "code",
   "execution_count": null,
   "id": "32958718-c5cd-480d-bf6b-ee53d2cb0607",
   "metadata": {},
   "outputs": [],
   "source": [
    "surface_composition = np.zeros(grid.number_of_nodes)\n",
    "surface_composition[grid.core_nodes] = grid.stacked_layers.get_surface_composition()[:, 0]\n",
    "\n",
    "_ = grid.add_field('sediment__surface_composition', surface_composition, clobber=True)"
   ]
  },
  {
   "cell_type": "code",
   "execution_count": null,
   "id": "4db71265-5b6e-46de-ad1a-4422049690cb",
   "metadata": {},
   "outputs": [],
   "source": [
    "grid.imshow('sediment__surface_composition',\n",
    "            var_name='Fraction of the second sediment class',\n",
    "            grid_units=['m', 'm'])"
   ]
  },
  {
   "cell_type": "markdown",
   "id": "63abe972-04a9-4404-9b53-5edde62a9164",
   "metadata": {},
   "source": [
    "## 2. Voronoi grid"
   ]
  },
  {
   "cell_type": "markdown",
   "id": "66af218f-eaf8-4d8d-9a6a-893d31218cd2",
   "metadata": {},
   "source": [
    "We can repeat the operation with the other grid types available in StratigraPy, which are modified to include a StackedLayers (Landlab's grids are not directly compatible with StratigraPy), for instance the Voronoi grid:"
   ]
  },
  {
   "cell_type": "code",
   "execution_count": null,
   "id": "0e1d82b4-4fc3-4f79-a224-ed8b79922223",
   "metadata": {},
   "outputs": [],
   "source": [
    "# Define the number of iterations\n",
    "timestep = 100.\n",
    "runtime = 500000.\n",
    "n_iterations = int(runtime/timestep)\n",
    "\n",
    "# Define the grid\n",
    "grid = FramedVoronoiGrid((25, 30),\n",
    "                         xy_spacing=(2500., 2500.),\n",
    "                         number_of_classes=2,\n",
    "                         initial_allocation=n_iterations//100 + 100,\n",
    "                         number_of_layers_to_fuse=100,\n",
    "                         number_of_top_layers=100,\n",
    "                         fuse_continuously=True)\n",
    "is_closed = np.zeros(grid.number_of_nodes)\n",
    "is_closed[\n",
    "    # Left border\n",
    "    ((grid.x_of_node < grid.x_of_node.min() + 1000.) & (grid.y_of_node > grid.y_of_node.min() + 1000.)) |\n",
    "    # Right border\n",
    "    ((grid.x_of_node > grid.x_of_node.max() - 1000.) & (grid.y_of_node > grid.y_of_node.min() + 1000.)) |\n",
    "    # Top border\n",
    "    (grid.y_of_node > grid.y_of_node.max() - 1000.)\n",
    "] = 1\n",
    "grid.set_nodata_nodes_to_closed(is_closed.ravel(), 1)\n",
    "\n",
    "# Define the initial topography\n",
    "elevation = grid.add_zeros('topographic__elevation', at='node', clobber=True)\n",
    "elevation += 0.003*(grid.y_of_node - 50000.)\n",
    "\n",
    "# Define the sources of water and sediments\n",
    "kdtree = KDTree(grid.xy_of_node)\n",
    "_, idx = kdtree.query([(grid.x_of_node.max()/2. - 2500., 58000.),\n",
    "                       (grid.x_of_node.max()/2. + 2500., 58000.)])\n",
    "water_influx = grid.add_zeros('water__unit_flux_in', at='node', clobber=True)\n",
    "water_influx[idx] = 5000. # m/yr\n",
    "sediment_influx = grid.add_field('sediment__unit_flux_in',\n",
    "                                 np.zeros((grid.number_of_nodes, 2)),\n",
    "                                 clobber=True)\n",
    "sediment_influx[idx] = [0.7*50000., 0.3*50000.] # m3/yr\n",
    "\n",
    "# Define the components for sea level variation, water flow, and sediment transport\n",
    "slc = SeaLevelCalculator(grid, wavelength=[100000., 10000.], amplitude=[25., 2.5])\n",
    "fd = FlowDirectorSteepest(grid)\n",
    "fa = FlowAccumulator(grid, flow_director=fd)\n",
    "wdr = WaterDrivenRouter(grid,\n",
    "                        transportability_cont=[1e-8, 1e-8],\n",
    "                        transportability_mar=[4e-10, 2e-10],\n",
    "                        wave_base=15.,\n",
    "                        max_erosion_rate_sed=1e-2,\n",
    "                        max_erosion_rate_br=1e-12,\n",
    "                        bedrock_composition=[0.7, 0.3],\n",
    "                        fields_to_track='bathymetric__depth')\n",
    "\n",
    "# Run the simulation\n",
    "for i in tqdm(range(n_iterations)):\n",
    "    slc.run_one_step(timestep)\n",
    "    fa.run_one_step()\n",
    "    wdr.run_one_step(timestep)\n",
    "    grid.stacked_layers.fuse(time=np.mean, bathymetric__depth=np.mean)\n",
    "grid.stacked_layers.fuse(finalize=True, time=np.mean, bathymetric__depth=np.mean)"
   ]
  },
  {
   "cell_type": "markdown",
   "id": "468f3eea-235d-4cde-af78-57bbea009b83",
   "metadata": {},
   "source": [
    "With the same options regarding visualization:"
   ]
  },
  {
   "cell_type": "code",
   "execution_count": null,
   "id": "dc63e211-eb64-4b27-af7f-aec9bce63816",
   "metadata": {},
   "outputs": [],
   "source": [
    "grid.imshow('topographic__elevation', var_name='Elevation', var_units='m', grid_units=['m', 'm'])"
   ]
  },
  {
   "cell_type": "code",
   "execution_count": null,
   "id": "2d71ae04-0f42-46e8-a450-0be8ae2f0029",
   "metadata": {},
   "outputs": [],
   "source": [
    "surface_composition = np.zeros(grid.number_of_nodes)\n",
    "surface_composition[grid.core_nodes] = grid.stacked_layers.get_surface_composition()[:, 0]\n",
    "\n",
    "_ = grid.add_field('sediment__surface_composition', surface_composition, clobber=True)"
   ]
  },
  {
   "cell_type": "code",
   "execution_count": null,
   "id": "ae67c87b-bf65-4d77-9efb-23f6383691c0",
   "metadata": {},
   "outputs": [],
   "source": [
    "grid.imshow('sediment__surface_composition',\n",
    "            var_name='Fraction of the second sediment class',\n",
    "            grid_units=['m', 'm'])"
   ]
  }
 ],
 "metadata": {
  "kernelspec": {
   "display_name": "Python 3 (ipykernel)",
   "language": "python",
   "name": "python3"
  },
  "language_info": {
   "codemirror_mode": {
    "name": "ipython",
    "version": 3
   },
   "file_extension": ".py",
   "mimetype": "text/x-python",
   "name": "python",
   "nbconvert_exporter": "python",
   "pygments_lexer": "ipython3",
   "version": "3.11.6"
  }
 },
 "nbformat": 4,
 "nbformat_minor": 5
}

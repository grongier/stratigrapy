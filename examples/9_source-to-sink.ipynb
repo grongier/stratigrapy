{
 "cells": [
  {
   "cell_type": "markdown",
   "id": "3855380e-e2d3-4519-9384-5264de7961f1",
   "metadata": {},
   "source": [
    "<table align=\"left\">\n",
    "    <tr>\n",
    "        <td style=\"vertical-align: middle; padding-left: 0px; padding-right: 0px;\">\n",
    "            <a href=\"https://creativecommons.org/licenses/by/4.0/\">\n",
    "                <img src=\"https://licensebuttons.net/l/by/4.0/80x15.png\" />\n",
    "            </a>\n",
    "        </td>\n",
    "        <td style=\"vertical-align: middle; padding-left: 5px; padding-right: 0px;\">\n",
    "            <a href=\"https://opensource.org/licenses/MIT\">\n",
    "                <img src=\"https://img.shields.io/badge/License-MIT-green.svg\" />\n",
    "            </a>\n",
    "        </td>\n",
    "        <td style=\"vertical-align: middle; padding-left: 15px;\">\n",
    "            &copy; Guillaume Rongier\n",
    "        </td>\n",
    "    </tr>\n",
    "</table>"
   ]
  },
  {
   "cell_type": "markdown",
   "id": "2899d0ed-5429-43c0-925b-e1b0260edddb",
   "metadata": {},
   "source": [
    "# Source-to-sink simulation"
   ]
  },
  {
   "cell_type": "markdown",
   "id": "d4639c65-498c-4113-9403-3a64eec20731",
   "metadata": {},
   "source": [
    "This notebook builds upon the [delta example](https://github.com/badlands-model/badlands-workshop/tree/master/examples/delta) from [Badlands](https://badlands.readthedocs.io/en/latest/index.html) to show how to do source-to-sink simulations with StratigraPy."
   ]
  },
  {
   "cell_type": "markdown",
   "id": "d7aef9db-b95f-4ae6-8861-190864e1e769",
   "metadata": {},
   "source": [
    "### Imports"
   ]
  },
  {
   "cell_type": "markdown",
   "id": "5c374596-9a44-479f-85c6-237d94f85ec1",
   "metadata": {},
   "source": [
    "Let's first import all the required packages and components:"
   ]
  },
  {
   "cell_type": "code",
   "execution_count": null,
   "id": "30bf6793-bb8f-4ab4-bc74-1c4e42e0cd79",
   "metadata": {},
   "outputs": [],
   "source": [
    "import numpy as np\n",
    "from scipy.ndimage import gaussian_filter\n",
    "from tqdm.notebook import tqdm\n",
    "import matplotlib.pyplot as plt\n",
    "import matplotlib.colors as mcolors\n",
    "import cmocean\n",
    "\n",
    "from landlab.components import FlowDirectorD8, FlowDirectorMFD, FlowAccumulator\n",
    "\n",
    "from stratigrapy import RasterModelGrid\n",
    "from stratigrapy.components import SeaLevelCalculator, GravityDrivenRouter, WaterDrivenRouter"
   ]
  },
  {
   "cell_type": "markdown",
   "id": "a495d928-650b-4fe3-aaaf-ae1a7e972231",
   "metadata": {},
   "source": [
    "### Functions"
   ]
  },
  {
   "cell_type": "markdown",
   "id": "79f64f62-065d-4220-9dc6-6732462d60ac",
   "metadata": {},
   "source": [
    "And define a function to generate the initial topography:"
   ]
  },
  {
   "cell_type": "code",
   "execution_count": null,
   "id": "89fc85f4-136d-4168-b63f-087d7cda6fc4",
   "metadata": {},
   "outputs": [],
   "source": [
    "def dome(x, y, center, axis_length, base):\n",
    "    \"\"\"\n",
    "    Generates a dome-like topography.\n",
    "\n",
    "    Based on https://github.com/badlands-model/badlands-companion/blob/master/badlands_companion/toolGeo.py\n",
    "\n",
    "    Parameters\n",
    "    ----------\n",
    "    x : float or np.ndarray\n",
    "        Coordinates along the x axis where to compute the elevation.\n",
    "    y : float or np.ndarray\n",
    "        Coordinates along the y axis where to compute the elevation.\n",
    "    center : array-like of shape (2,)\n",
    "        x and y coordinates of the center of the dome.\n",
    "    axis_length : array-like of shape (3,)\n",
    "        Length of the dome along the x, y, and z axes.\n",
    "    base : float\n",
    "        Base elevation of the dome.\n",
    "\n",
    "    Returns\n",
    "    -------\n",
    "    elevation : np.ndarray\n",
    "        Elevation of the dome at the x and y coordinates.\n",
    "    \"\"\"\n",
    "    if isinstance(axis_length, (int, float)):\n",
    "        axis_length = (axis_length, axis_length, axis_length)\n",
    "\n",
    "    distance = (x - center[0])**2 / axis_length[0]**2 + (y - center[1])**2 / axis_length[1]**2\n",
    "\n",
    "    elevation = np.zeros_like(x)\n",
    "    elevation[distance < 1.] = base + axis_length[2]*np.sqrt(1. - distance[distance < 1.])\n",
    "\n",
    "    return elevation"
   ]
  },
  {
   "cell_type": "markdown",
   "id": "c80bd87d-f50d-4f9d-8fec-d629bc92a384",
   "metadata": {},
   "source": [
    "## 1. Diffusive model"
   ]
  },
  {
   "cell_type": "markdown",
   "id": "696aff18-b342-4b87-b80d-c8f174437a08",
   "metadata": {},
   "source": [
    "We'll use the same time setting as before, with a simulation time of 500$\\,$000 years and timesteps of 100 years:"
   ]
  },
  {
   "cell_type": "code",
   "execution_count": null,
   "id": "5e6c7278-d0de-40f8-af94-78b43fe8235c",
   "metadata": {},
   "outputs": [],
   "source": [
    "timestep = 100.\n",
    "runtime = 500000.\n",
    "n_iterations = int(runtime/timestep)"
   ]
  },
  {
   "cell_type": "markdown",
   "id": "455dc828-cfbf-4372-8845-3afd8d286f2d",
   "metadata": {},
   "source": [
    "Then we define the grid:"
   ]
  },
  {
   "cell_type": "code",
   "execution_count": null,
   "id": "25a8ea0d-4a53-4837-9300-08bd1114bb23",
   "metadata": {},
   "outputs": [],
   "source": [
    "grid = RasterModelGrid((49, 49),\n",
    "                       xy_spacing=(500., 500.),\n",
    "                       number_of_classes=3,\n",
    "                       initial_allocation=n_iterations//100 + 100,\n",
    "                       number_of_layers_to_fuse=100,\n",
    "                       number_of_top_layers=100)"
   ]
  },
  {
   "cell_type": "markdown",
   "id": "82878f6e-d910-4040-8d3d-0c7567475b31",
   "metadata": {},
   "source": [
    "The initial dome-like topography:"
   ]
  },
  {
   "cell_type": "code",
   "execution_count": null,
   "id": "059e8079-be20-4374-b4d0-7ade93816683",
   "metadata": {},
   "outputs": [],
   "source": [
    "elevation = grid.add_zeros('topographic__elevation', at='node', clobber=True)\n",
    "elevation[:] = dome(grid.x_of_node,\n",
    "                    grid.y_of_node,\n",
    "                    (12000., 12000.),\n",
    "                    (4000., 4000., 3000.),\n",
    "                    -1000.)\n",
    "elevation[elevation < 0.] = 0.\n",
    "elevation[:] = gaussian_filter(elevation.reshape(grid.shape), 1.6).ravel()\n",
    "elevation += dome(grid.x_of_node,\n",
    "                  grid.y_of_node,\n",
    "                  (12000., 12000.),\n",
    "                  (20000., 20000., 3000.),\n",
    "                  -2980.)"
   ]
  },
  {
   "cell_type": "markdown",
   "id": "cde58d41-fc45-41fd-9b6c-f12ba8a984a5",
   "metadata": {},
   "source": [
    "The component controlling sea level:"
   ]
  },
  {
   "cell_type": "code",
   "execution_count": null,
   "id": "fde42ce0-3bdd-4259-bf8f-dd2c0bdb4add",
   "metadata": {},
   "outputs": [],
   "source": [
    "slc = SeaLevelCalculator(grid,\n",
    "                         wavelength=280000.,\n",
    "                         time_shift=140000.,\n",
    "                         amplitude=80.)"
   ]
  },
  {
   "cell_type": "markdown",
   "id": "3da03763-a89e-43e6-aa3a-7c84ddc323e1",
   "metadata": {},
   "source": [
    "Finally, we start with the component for gravity-driven diffusion, i.e., where sediments only move based on the slope:"
   ]
  },
  {
   "cell_type": "code",
   "execution_count": null,
   "id": "d4078e90-44de-4310-a102-930842b71631",
   "metadata": {},
   "outputs": [],
   "source": [
    "gdd = GravityDrivenRouter(grid,\n",
    "                          diffusivity_cont=[6e-2, 4e-2, 2e-2],\n",
    "                          diffusivity_mar=[4e-1, 2e-1, 1e-1],\n",
    "                          wave_base=20.,\n",
    "                          max_erosion_rate_sed=1e-2,\n",
    "                          max_erosion_rate_br=1e-2,\n",
    "                          bedrock_composition=[0.55, 0.3, 0.15],\n",
    "                          fields_to_track='bathymetric__depth')"
   ]
  },
  {
   "cell_type": "markdown",
   "id": "b8d999b0-999c-48fd-b9eb-595242573b66",
   "metadata": {},
   "source": [
    "We can now run the simulation:"
   ]
  },
  {
   "cell_type": "code",
   "execution_count": null,
   "id": "f5412c10-5821-4286-874b-54ac984a280b",
   "metadata": {},
   "outputs": [],
   "source": [
    "for i in tqdm(range(n_iterations)):\n",
    "    slc.run_one_step(timestep)\n",
    "    gdd.run_one_step(timestep)\n",
    "    grid.stacked_layers.fuse(time=np.mean, bathymetric__depth=np.mean)\n",
    "grid.stacked_layers.fuse(finalize=True, time=np.mean, bathymetric__depth=np.mean)"
   ]
  },
  {
   "cell_type": "markdown",
   "id": "606621c2-1eb5-4d28-b02a-901e5eb4e7d4",
   "metadata": {},
   "source": [
    "And visualize the result:"
   ]
  },
  {
   "cell_type": "code",
   "execution_count": null,
   "id": "e30c4a52-9e40-467c-830b-b1be445bdef8",
   "metadata": {},
   "outputs": [],
   "source": [
    "fig, ax = plt.subplots()\n",
    "\n",
    "raster_x = grid.x_of_node[grid.core_nodes].reshape(grid.cell_grid_shape)\n",
    "raster_y = grid.y_of_node[grid.core_nodes].reshape(grid.cell_grid_shape)\n",
    "raster_z = grid.at_node['topographic__elevation'][grid.core_nodes].reshape(grid.cell_grid_shape)\n",
    "\n",
    "pc = ax.pcolormesh(raster_x, raster_y, raster_z, cmap=cmocean.cm.topo,\n",
    "                   norm=mcolors.CenteredNorm(grid.at_grid['sea_level__elevation']))\n",
    "fig.colorbar(pc, ax=ax, label='Elevation (m)')\n",
    "\n",
    "ax.set(xlabel='y (m)', ylabel='y (m)', aspect='equal');"
   ]
  },
  {
   "cell_type": "code",
   "execution_count": null,
   "id": "17def39d-68b1-418b-bf9a-4fb1e4e85b7e",
   "metadata": {},
   "outputs": [],
   "source": [
    "fig, ax = plt.subplots(figsize=(10, 3))\n",
    "\n",
    "# Sediments\n",
    "pc = grid.plot_layers(ax, 'bathymetric__depth', cmap=cmocean.cm.deep, zorder=2)\n",
    "fig.colorbar(pc[0], ax=ax, label='Water depth (m)')\n",
    "\n",
    "raster_y = grid.y_of_node[grid.core_nodes].reshape(grid.cell_grid_shape)[:, 23]\n",
    "raster_z = grid.at_node['topographic__elevation'][grid.core_nodes].reshape(grid.cell_grid_shape)[:, 23]\n",
    "# Sea level\n",
    "fill_sea = ax.fill_between(raster_y, raster_z, grid.at_grid['sea_level__elevation'],\n",
    "                           color='#c6dbef', zorder=0)\n",
    "# Bedrock\n",
    "ymin, ymax = ax.get_ylim()\n",
    "ax.fill_between(raster_y, raster_z, ymin, color='#d9d9d9', zorder=1)\n",
    "\n",
    "ax.set(xlabel='y (m)', ylabel='z (m)', ylim=(ymin, ymax));"
   ]
  },
  {
   "cell_type": "code",
   "execution_count": null,
   "id": "2fb8f11a-eea9-497d-912a-9db379183af4",
   "metadata": {},
   "outputs": [],
   "source": [
    "fig, ax = plt.subplots(figsize=(10, 3))\n",
    "\n",
    "# Sediments\n",
    "pc = grid.plot_layers(ax, 'time', cmap='viridis', zorder=2)\n",
    "fig.colorbar(pc[0], ax=ax, label='Deposition time (yr)')\n",
    "\n",
    "raster_y = grid.y_of_node[grid.core_nodes].reshape(grid.cell_grid_shape)[:, 23]\n",
    "raster_z = grid.at_node['topographic__elevation'][grid.core_nodes].reshape(grid.cell_grid_shape)[:, 23]\n",
    "# Sea level\n",
    "fill_sea = ax.fill_between(raster_y, raster_z, grid.at_grid['sea_level__elevation'],\n",
    "                           color='#c6dbef', zorder=0)\n",
    "# Bedrock\n",
    "ymin, ymax = ax.get_ylim()\n",
    "ax.fill_between(raster_y, raster_z, ymin, color='#d9d9d9', zorder=1)\n",
    "\n",
    "ax.set(xlabel='y (m)', ylabel='z (m)', ylim=(ymin, ymax));"
   ]
  },
  {
   "cell_type": "code",
   "execution_count": null,
   "id": "4e1fc990-4534-4168-805f-e22615ab44f6",
   "metadata": {},
   "outputs": [],
   "source": [
    "fig, ax = plt.subplots(figsize=(10, 3))\n",
    "\n",
    "# Sediments\n",
    "pc = grid.plot_layers(ax, 'composition', i_class=0, mask_wedges=True, cmap='pink', zorder=2)\n",
    "fig.colorbar(pc[0], ax=ax, label='Fraction of the first sediment class')\n",
    "\n",
    "raster_y = grid.y_of_node[grid.core_nodes].reshape(grid.cell_grid_shape)[:, 23]\n",
    "raster_z = grid.at_node['topographic__elevation'][grid.core_nodes].reshape(grid.cell_grid_shape)[:, 23]\n",
    "# Sea level\n",
    "fill_sea = ax.fill_between(raster_y, raster_z, grid.at_grid['sea_level__elevation'],\n",
    "                           color='#c6dbef', zorder=0)\n",
    "# Bedrock\n",
    "ymin, ymax = ax.get_ylim()\n",
    "ax.fill_between(raster_y, raster_z, ymin, color='#d9d9d9', zorder=1)\n",
    "\n",
    "ax.set(xlabel='y (m)', ylabel='z (m)', ylim=(ymin, ymax));"
   ]
  },
  {
   "cell_type": "markdown",
   "id": "8fb25b90-c2b0-401b-aa9b-b74165869928",
   "metadata": {},
   "source": [
    "## 2. Transport-limited model"
   ]
  },
  {
   "cell_type": "markdown",
   "id": "c32dde11-a5c6-461c-bb36-fdea2c63dd79",
   "metadata": {},
   "source": [
    "Let's do the same but with a water-driven component this time, switching from a linear-diffusion to a transport-limited model for sediment transport. The first steps remain the same, same grid and initial topography:"
   ]
  },
  {
   "cell_type": "code",
   "execution_count": null,
   "id": "6cf6f5f4-362c-44b1-b272-6c41cefe4700",
   "metadata": {},
   "outputs": [],
   "source": [
    "grid = RasterModelGrid((49, 49),\n",
    "                       xy_spacing=(500., 500.),\n",
    "                       number_of_classes=3,\n",
    "                       initial_allocation=n_iterations//100 + 100,\n",
    "                       number_of_layers_to_fuse=100,\n",
    "                       number_of_top_layers=100)"
   ]
  },
  {
   "cell_type": "code",
   "execution_count": null,
   "id": "e125726e-e813-4f1f-95e0-4ae1c8583535",
   "metadata": {},
   "outputs": [],
   "source": [
    "elevation = grid.add_zeros('topographic__elevation', at='node', clobber=True)\n",
    "elevation[:] = dome(grid.x_of_node,\n",
    "                    grid.y_of_node,\n",
    "                    (12000., 12000.),\n",
    "                    (4000., 4000., 3000.),\n",
    "                    -1000.)\n",
    "elevation[elevation < 0.] = 0.\n",
    "elevation[:] = gaussian_filter(elevation.reshape(grid.shape), 1.6).ravel()\n",
    "elevation += dome(grid.x_of_node,\n",
    "                  grid.y_of_node,\n",
    "                  (12000., 12000.),\n",
    "                  (20000., 20000., 3000.),\n",
    "                  -2980.)"
   ]
  },
  {
   "cell_type": "markdown",
   "id": "53bff980-900c-4d48-a3f7-7ea47f1ed7e4",
   "metadata": {},
   "source": [
    "This time we need to add precipitation as source of water. Here, we use a simple setting, with uniform precipitation of 1 m/yr:"
   ]
  },
  {
   "cell_type": "code",
   "execution_count": null,
   "id": "685085c8-c948-4f0b-9cac-6fec41b141f7",
   "metadata": {},
   "outputs": [],
   "source": [
    "water_influx = grid.add_ones('water__unit_flux_in', at='node', clobber=True) # m/yr"
   ]
  },
  {
   "cell_type": "markdown",
   "id": "e4e0b946-f283-41fb-8b40-dc3a01119482",
   "metadata": {},
   "source": [
    "The component controlling sea level remains the same as before:"
   ]
  },
  {
   "cell_type": "code",
   "execution_count": null,
   "id": "4d169a24-dc40-4116-9753-15f9e7ae1fd0",
   "metadata": {},
   "outputs": [],
   "source": [
    "slc = SeaLevelCalculator(grid,\n",
    "                         wavelength=280000.,\n",
    "                         time_shift=140000.,\n",
    "                         amplitude=80.)"
   ]
  },
  {
   "cell_type": "markdown",
   "id": "a1acf506-62d4-4776-bdab-7c8f61eab37b",
   "metadata": {},
   "source": [
    "We need to add components to compute the discharge:"
   ]
  },
  {
   "cell_type": "code",
   "execution_count": null,
   "id": "b1bde59d-05de-4a7b-8562-5e8e28787086",
   "metadata": {},
   "outputs": [],
   "source": [
    "fd = FlowDirectorD8(grid)"
   ]
  },
  {
   "cell_type": "code",
   "execution_count": null,
   "id": "72046a81-134d-4bbf-b4f3-c66d35cee732",
   "metadata": {},
   "outputs": [],
   "source": [
    "fa = FlowAccumulator(grid, flow_director=fd)"
   ]
  },
  {
   "cell_type": "markdown",
   "id": "b0e1fd42-8790-4f90-a43d-197acd1efcaf",
   "metadata": {},
   "source": [
    "And the component for water-driven diffusion, i.e., the transport-limited model:"
   ]
  },
  {
   "cell_type": "code",
   "execution_count": null,
   "id": "8179f458-247a-4ab9-a757-ae95fabba812",
   "metadata": {},
   "outputs": [],
   "source": [
    "wdr = WaterDrivenRouter(grid,\n",
    "                        transportability_cont=[6e-8, 4e-8, 2e-8],\n",
    "                        transportability_mar=[4e-7, 2e-7, 1e-7],\n",
    "                        wave_base=20.,\n",
    "                        max_erosion_rate_sed=1e-2,\n",
    "                        max_erosion_rate_br=1e-2,\n",
    "                        bedrock_composition=[0.55, 0.3, 0.15],\n",
    "                        fields_to_track='bathymetric__depth')"
   ]
  },
  {
   "cell_type": "markdown",
   "id": "063c5b73-83d9-41aa-935c-f09958fa417e",
   "metadata": {},
   "source": [
    "We can now run the simulation:"
   ]
  },
  {
   "cell_type": "code",
   "execution_count": null,
   "id": "18b52b48-3a71-484b-9e00-375181771c64",
   "metadata": {},
   "outputs": [],
   "source": [
    "for i in tqdm(range(n_iterations)):\n",
    "    slc.run_one_step(timestep)\n",
    "    fa.run_one_step()\n",
    "    wdr.run_one_step(timestep)\n",
    "    grid.stacked_layers.fuse(time=np.mean, bathymetric__depth=np.mean)\n",
    "grid.stacked_layers.fuse(finalize=True, time=np.mean, bathymetric__depth=np.mean)"
   ]
  },
  {
   "cell_type": "markdown",
   "id": "ac9d2e32-6576-414b-8002-308de918b6f4",
   "metadata": {},
   "source": [
    "And visualize the result:"
   ]
  },
  {
   "cell_type": "code",
   "execution_count": null,
   "id": "c64db350-d509-4c4a-85f7-07a774c3cc83",
   "metadata": {},
   "outputs": [],
   "source": [
    "fig, ax = plt.subplots()\n",
    "\n",
    "raster_x = grid.x_of_node[grid.core_nodes].reshape(grid.cell_grid_shape)\n",
    "raster_y = grid.y_of_node[grid.core_nodes].reshape(grid.cell_grid_shape)\n",
    "raster_z = grid.at_node['topographic__elevation'][grid.core_nodes].reshape(grid.cell_grid_shape)\n",
    "\n",
    "pc = ax.pcolormesh(raster_x, raster_y, raster_z, cmap=cmocean.cm.topo,\n",
    "                   norm=mcolors.CenteredNorm(grid.at_grid['sea_level__elevation']))\n",
    "fig.colorbar(pc, ax=ax, label='Elevation (m)')\n",
    "\n",
    "ax.set(xlabel='y (m)', ylabel='y (m)', aspect='equal');"
   ]
  },
  {
   "cell_type": "code",
   "execution_count": null,
   "id": "10bbcbfe-1da4-4659-b170-4f7b9f506a17",
   "metadata": {},
   "outputs": [],
   "source": [
    "fig, ax = plt.subplots(figsize=(10, 3.75))\n",
    "\n",
    "# Sediments\n",
    "pc = grid.plot_layers(ax, 'bathymetric__depth', cmap=cmocean.cm.deep, zorder=2)\n",
    "fig.colorbar(pc[0], ax=ax, label='Water depth (m)')\n",
    "\n",
    "raster_y = grid.y_of_node[grid.core_nodes].reshape(grid.cell_grid_shape)[:, 23]\n",
    "raster_z = grid.at_node['topographic__elevation'][grid.core_nodes].reshape(grid.cell_grid_shape)[:, 23]\n",
    "# Sea level\n",
    "fill_sea = ax.fill_between(raster_y, raster_z, grid.at_grid['sea_level__elevation'],\n",
    "                           color='#c6dbef', zorder=0)\n",
    "# Bedrock\n",
    "ymin, ymax = ax.get_ylim()\n",
    "ax.fill_between(raster_y, raster_z, ymin, color='#d9d9d9', zorder=1)\n",
    "\n",
    "ax.set(xlabel='y (m)', ylabel='z (m)', ylim=(ymin, ymax));"
   ]
  },
  {
   "cell_type": "code",
   "execution_count": null,
   "id": "14ae1067-c23b-4450-8a28-570259722f9e",
   "metadata": {},
   "outputs": [],
   "source": [
    "fig, ax = plt.subplots(figsize=(10, 3.75))\n",
    "\n",
    "# Sediments\n",
    "pc = grid.plot_layers(ax, 'time', cmap='viridis', zorder=2)\n",
    "fig.colorbar(pc[0], ax=ax, label='Deposition time (yr)')\n",
    "\n",
    "raster_y = grid.y_of_node[grid.core_nodes].reshape(grid.cell_grid_shape)[:, 23]\n",
    "raster_z = grid.at_node['topographic__elevation'][grid.core_nodes].reshape(grid.cell_grid_shape)[:, 23]\n",
    "# Sea level\n",
    "fill_sea = ax.fill_between(raster_y, raster_z, grid.at_grid['sea_level__elevation'],\n",
    "                           color='#c6dbef', zorder=0)\n",
    "# Bedrock\n",
    "ymin, ymax = ax.get_ylim()\n",
    "ax.fill_between(raster_y, raster_z, ymin, color='#d9d9d9', zorder=1)\n",
    "\n",
    "ax.set(xlabel='y (m)', ylabel='z (m)', ylim=(ymin, ymax));"
   ]
  },
  {
   "cell_type": "code",
   "execution_count": null,
   "id": "d931d19c-e2da-4eea-aa68-ee916d8d67a6",
   "metadata": {},
   "outputs": [],
   "source": [
    "fig, ax = plt.subplots(figsize=(10, 3.75))\n",
    "\n",
    "# Sediments\n",
    "pc = grid.plot_layers(ax, 'composition', i_class=0, mask_wedges=True, cmap='pink', zorder=2)\n",
    "fig.colorbar(pc[0], ax=ax, label='Fraction of the first sediment class')\n",
    "\n",
    "raster_y = grid.y_of_node[grid.core_nodes].reshape(grid.cell_grid_shape)[:, 23]\n",
    "raster_z = grid.at_node['topographic__elevation'][grid.core_nodes].reshape(grid.cell_grid_shape)[:, 23]\n",
    "# Sea level\n",
    "fill_sea = ax.fill_between(raster_y, raster_z, grid.at_grid['sea_level__elevation'],\n",
    "                           color='#c6dbef', zorder=0)\n",
    "# Bedrock\n",
    "ymin, ymax = ax.get_ylim()\n",
    "ax.fill_between(raster_y, raster_z, ymin, color='#d9d9d9', zorder=1)\n",
    "\n",
    "ax.set(xlabel='y (m)', ylabel='z (m)', ylim=(ymin, ymax));"
   ]
  }
 ],
 "metadata": {
  "kernelspec": {
   "display_name": "Python 3 (ipykernel)",
   "language": "python",
   "name": "python3"
  },
  "language_info": {
   "codemirror_mode": {
    "name": "ipython",
    "version": 3
   },
   "file_extension": ".py",
   "mimetype": "text/x-python",
   "name": "python",
   "nbconvert_exporter": "python",
   "pygments_lexer": "ipython3",
   "version": "3.11.6"
  }
 },
 "nbformat": 4,
 "nbformat_minor": 5
}

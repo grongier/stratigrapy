{
 "cells": [
  {
   "cell_type": "markdown",
   "id": "3855380e-e2d3-4519-9384-5264de7961f1",
   "metadata": {},
   "source": [
    "<table align=\"left\">\n",
    "    <tr>\n",
    "        <td style=\"vertical-align: middle; padding-left: 0px; padding-right: 0px;\">\n",
    "            <a href=\"https://creativecommons.org/licenses/by/4.0/\">\n",
    "                <img src=\"https://licensebuttons.net/l/by/4.0/80x15.png\" />\n",
    "            </a>\n",
    "        </td>\n",
    "        <td style=\"vertical-align: middle; padding-left: 5px; padding-right: 0px;\">\n",
    "            <a href=\"https://opensource.org/licenses/MIT\">\n",
    "                <img src=\"https://img.shields.io/badge/License-MIT-green.svg\" />\n",
    "            </a>\n",
    "        </td>\n",
    "        <td style=\"vertical-align: middle; padding-left: 15px;\">\n",
    "            &copy; Guillaume Rongier\n",
    "        </td>\n",
    "    </tr>\n",
    "</table>"
   ]
  },
  {
   "cell_type": "markdown",
   "id": "2899d0ed-5429-43c0-925b-e1b0260edddb",
   "metadata": {},
   "source": [
    "# Comparison with Landlab's components"
   ]
  },
  {
   "cell_type": "markdown",
   "id": "d4639c65-498c-4113-9403-3a64eec20731",
   "metadata": {},
   "source": [
    "This notebook builds upon a simple example to compare the behavior of StratigraPy's components together and with those of Landlab, as a very rough validation of StratigraPy."
   ]
  },
  {
   "cell_type": "markdown",
   "id": "d7aef9db-b95f-4ae6-8861-190864e1e769",
   "metadata": {},
   "source": [
    "### Imports"
   ]
  },
  {
   "cell_type": "markdown",
   "id": "5c374596-9a44-479f-85c6-237d94f85ec1",
   "metadata": {},
   "source": [
    "Let's first import all the required packages and components:"
   ]
  },
  {
   "cell_type": "code",
   "execution_count": null,
   "id": "30bf6793-bb8f-4ab4-bc74-1c4e42e0cd79",
   "metadata": {},
   "outputs": [],
   "source": [
    "import numpy as np\n",
    "from tqdm.notebook import tqdm\n",
    "import matplotlib as mpl\n",
    "import matplotlib.pyplot as plt\n",
    "\n",
    "from landlab.components import FlowDirectorSteepest, FlowAccumulator\n",
    "from landlab.components import LinearDiffuser, AreaSlopeTransporter, SpaceLargeScaleEroder\n",
    "\n",
    "from stratigrapy import RasterModelGrid\n",
    "from stratigrapy.components import GravityDrivenDiffuser, GravityDrivenRouter\n",
    "from stratigrapy.components import WaterDrivenDiffuser, WaterDrivenRouter, FluxDrivenRouter"
   ]
  },
  {
   "cell_type": "markdown",
   "id": "c80bd87d-f50d-4f9d-8fec-d629bc92a384",
   "metadata": {},
   "source": [
    "## 1. Linear diffusion model"
   ]
  },
  {
   "cell_type": "markdown",
   "id": "00147788-9adc-4c51-b199-cad318e1a1c0",
   "metadata": {},
   "source": [
    "We'll use the same simple setting throughout the notebook: a triangular hill being eroded. Let's start by defining the simulation time and time step: "
   ]
  },
  {
   "cell_type": "code",
   "execution_count": null,
   "id": "de52b4a9-2b81-4fb1-a426-92ff7f2cacb6",
   "metadata": {},
   "outputs": [],
   "source": [
    "timestep = 100.\n",
    "runtime = 500000.\n",
    "n_iterations = int(runtime/timestep)\n",
    "save_step = 1000"
   ]
  },
  {
   "cell_type": "markdown",
   "id": "b94e394e-7cfd-4057-bfbf-afdd5ca15fa9",
   "metadata": {},
   "source": [
    "We keep the time step small because, contrary to Landlab, StratigraPy's components don't have an adaptive scheme based on the Courant–Friedrichs–Lewy condition. During the runs, we'll save the topography every `save_step` to compare the evolution of the hill with different models. Let's start with a simple linear diffusion from Landlab. First, we define the grid:"
   ]
  },
  {
   "cell_type": "code",
   "execution_count": null,
   "id": "1ecd957c-5eb4-4143-a510-8a332670e457",
   "metadata": {},
   "outputs": [],
   "source": [
    "grid = RasterModelGrid((3, 49), xy_spacing=(500., 500.))\n",
    "grid.set_closed_boundaries_at_grid_edges(False, True, False, True)"
   ]
  },
  {
   "cell_type": "markdown",
   "id": "1f69562e-2484-45f3-b4aa-9047d4ca3b3e",
   "metadata": {},
   "source": [
    "Then the initial triangular topography:"
   ]
  },
  {
   "cell_type": "code",
   "execution_count": null,
   "id": "b712f29f-f3e3-4bf3-be6c-57d33f1ea41b",
   "metadata": {},
   "outputs": [],
   "source": [
    "elevation = grid.add_zeros('topographic__elevation', at='node', clobber=True)\n",
    "elevation[grid.x_of_node < 12000.] = 1000.*(grid.x_of_node[grid.x_of_node < 12000.])/12000.\n",
    "elevation[grid.x_of_node >= 12000.] = 1000. - 1000.*(grid.x_of_node[grid.x_of_node >= 12000.] - 12000.)/12000."
   ]
  },
  {
   "cell_type": "markdown",
   "id": "17083218-906b-4b48-b6ba-e9682b03c3bd",
   "metadata": {},
   "source": [
    "Let's define the diffusion component:"
   ]
  },
  {
   "cell_type": "code",
   "execution_count": null,
   "id": "cc46e7a7-2c31-4399-9bc3-cd9871aac40f",
   "metadata": {},
   "outputs": [],
   "source": [
    "ld = LinearDiffuser(grid, linear_diffusivity=2e2)"
   ]
  },
  {
   "cell_type": "markdown",
   "id": "05f4ac92-8562-4d29-8f4a-2a590a71a093",
   "metadata": {},
   "source": [
    "Run the simulation while saving the topography at specific iterations:"
   ]
  },
  {
   "cell_type": "code",
   "execution_count": null,
   "id": "7890a4eb-77ee-420c-8075-c5fb543bc223",
   "metadata": {},
   "outputs": [],
   "source": [
    "elevations_ld = np.empty((grid.shape[1], n_iterations//save_step))\n",
    "for i in tqdm(range(n_iterations)):\n",
    "    if i%save_step == 0:\n",
    "        elevations_ld[:, i//save_step] = elevation.reshape(grid.shape)[1]\n",
    "    ld.run_one_step(timestep)"
   ]
  },
  {
   "cell_type": "markdown",
   "id": "0767d79e-bc72-4aee-b978-ce2cb25abe9e",
   "metadata": {},
   "source": [
    "And visualize our base case:"
   ]
  },
  {
   "cell_type": "code",
   "execution_count": null,
   "id": "0cd17eaa-0fa7-45a1-b3ff-236bf677946f",
   "metadata": {},
   "outputs": [],
   "source": [
    "fig, ax = plt.subplots()\n",
    "\n",
    "# Plot the results from Landlab\n",
    "cmap = mpl.colormaps['Wistia']\n",
    "colors = cmap(np.linspace(0, 1, elevations_ld.shape[1]))[:, np.newaxis]\n",
    "for i in range(elevations_ld.shape[1]):\n",
    "    ax.scatter(grid.x_of_node.reshape(grid.shape)[1], elevations_ld[:, i],\n",
    "               c=colors[i], s=20, ec='k', lw=0.5)\n",
    "\n",
    "ax.set(xlabel='x (m)', ylabel='z (m)');"
   ]
  },
  {
   "cell_type": "markdown",
   "id": "8556d3ad-6d44-4f48-9f5b-c08b0f6c6a7a",
   "metadata": {},
   "source": [
    "Now let's repeat the same operations but with StratigraPy's components. The grid and initial topography remains the same:"
   ]
  },
  {
   "cell_type": "code",
   "execution_count": null,
   "id": "3c989f26-b5c4-4cb8-9089-3049562be4ab",
   "metadata": {},
   "outputs": [],
   "source": [
    "grid = RasterModelGrid((3, 49),\n",
    "                       xy_spacing=(500., 500.),\n",
    "                       number_of_classes=1,\n",
    "                       initial_allocation=1,\n",
    "                       number_of_top_layers=0)\n",
    "grid.set_closed_boundaries_at_grid_edges(False, True, False, True)"
   ]
  },
  {
   "cell_type": "code",
   "execution_count": null,
   "id": "158d1ca5-8010-4ae3-b2df-f0ea83d7331d",
   "metadata": {},
   "outputs": [],
   "source": [
    "elevation = grid.add_zeros('topographic__elevation', at='node', clobber=True)\n",
    "elevation[grid.x_of_node < 12000.] = 1000.*(grid.x_of_node[grid.x_of_node < 12000.])/12000.\n",
    "elevation[grid.x_of_node >= 12000.] = 1000. - 1000.*(grid.x_of_node[grid.x_of_node >= 12000.] - 12000.)/12000."
   ]
  },
  {
   "cell_type": "markdown",
   "id": "6b414cfe-04e4-454a-8d17-9c4d05b28101",
   "metadata": {},
   "source": [
    "StratigraPy's components operate in the continental and marine domain, so we need to define a bathymetry, here equal to 0 m because our setting is fully continental:"
   ]
  },
  {
   "cell_type": "code",
   "execution_count": null,
   "id": "3b629abe-2863-4888-9a1a-344386640d6e",
   "metadata": {},
   "outputs": [],
   "source": [
    "bathymetry = grid.add_zeros('bathymetric__depth', at='node', clobber=True)"
   ]
  },
  {
   "cell_type": "markdown",
   "id": "e6124047-a3c6-4500-848a-c94394494c6c",
   "metadata": {},
   "source": [
    "Then we can setup StratigraPy's linear diffusion model, without limit on erosion to mimic Landlab's component:"
   ]
  },
  {
   "cell_type": "code",
   "execution_count": null,
   "id": "2991e4c3-5f2d-45e5-af6c-611e7a8f7520",
   "metadata": {},
   "outputs": [],
   "source": [
    "gdd = GravityDrivenDiffuser(grid,\n",
    "                            diffusivity_cont=2e2,\n",
    "                            max_erosion_rate_sed=np.inf,\n",
    "                            max_erosion_rate_br=1e8)"
   ]
  },
  {
   "cell_type": "markdown",
   "id": "722c645b-9973-4545-bf48-b68ba923ad77",
   "metadata": {},
   "source": [
    "Now we run the simulation just like before: "
   ]
  },
  {
   "cell_type": "code",
   "execution_count": null,
   "id": "07159940-30a7-46f3-b656-b91b482bcf8a",
   "metadata": {},
   "outputs": [],
   "source": [
    "elevations_gdd = np.empty((grid.shape[1], n_iterations//save_step))\n",
    "for i in tqdm(range(n_iterations)):\n",
    "    if i%save_step == 0:\n",
    "        elevations_gdd[:, i//save_step] = elevation.reshape(grid.shape)[1]\n",
    "    gdd.run_one_step(timestep, update=True)"
   ]
  },
  {
   "cell_type": "markdown",
   "id": "9282eb6a-90bf-43e8-af59-0ccec02b82c5",
   "metadata": {},
   "source": [
    "And we can compare the result with Landlab's:"
   ]
  },
  {
   "cell_type": "code",
   "execution_count": null,
   "id": "76774db8-43a3-4b18-84eb-1e8eb1cf18dc",
   "metadata": {},
   "outputs": [],
   "source": [
    "fig, ax = plt.subplots()\n",
    "\n",
    "# Plot the results from Landlab\n",
    "cmap = mpl.colormaps['Wistia']\n",
    "colors = cmap(np.linspace(0, 1, elevations_ld.shape[1]))[:, np.newaxis]\n",
    "for i in range(elevations_ld.shape[1]):\n",
    "    ax.scatter(grid.x_of_node.reshape(grid.shape)[1], elevations_ld[:, i],\n",
    "               c=colors[i], s=20, ec='k', lw=0.5, label='Landlab')\n",
    "# Plot the results from StratigraPy\n",
    "ax.plot(grid.x_of_node.reshape(grid.shape)[1], elevations_gdd,\n",
    "        c='k', lw=0.5, label='GravityDrivenDiffuser')\n",
    "\n",
    "handles, labels = ax.get_legend_handles_labels()\n",
    "legend = dict(zip(labels, handles))\n",
    "ax.legend(legend.values(), legend.keys())\n",
    "ax.set(xlabel='x (m)', ylabel='z (m)');"
   ]
  },
  {
   "cell_type": "markdown",
   "id": "756cbf32-48aa-44eb-9a96-f1f608214bea",
   "metadata": {},
   "source": [
    "Both Landlab's *LinearDiffuser* and StratigraPy's *GravityDrivenDiffuser* are based on a time-explicit finite-volume scheme. Let's compare with StratigraPy's *GravityDrivenRouter*, which uses a routing scheme to simulate sediment erosion and deposition. The code is the same as before, except that we need to multiply the diffusivity by the face width to make the two approaches equivalent (here we're using a regular structured grid so all the cells have the same face width, which is equal to the spacing):"
   ]
  },
  {
   "cell_type": "code",
   "execution_count": null,
   "id": "3179bf3d-d579-4ddc-8b60-2b4cf2638ea8",
   "metadata": {},
   "outputs": [],
   "source": [
    "grid = RasterModelGrid((3, 49),\n",
    "                       xy_spacing=(500., 500.),\n",
    "                       number_of_classes=1,\n",
    "                       initial_allocation=1,\n",
    "                       number_of_top_layers=0)\n",
    "grid.set_closed_boundaries_at_grid_edges(False, True, False, True)\n",
    "\n",
    "elevation = grid.add_zeros('topographic__elevation', at='node', clobber=True)\n",
    "elevation[grid.x_of_node < 12000.] = 1000.*(grid.x_of_node[grid.x_of_node < 12000.])/12000.\n",
    "elevation[grid.x_of_node >= 12000.] = 1000. - 1000.*(grid.x_of_node[grid.x_of_node >= 12000.] - 12000.)/12000.\n",
    "\n",
    "bathymetry = grid.add_zeros('bathymetric__depth', at='node', clobber=True)\n",
    "\n",
    "gdr = GravityDrivenRouter(grid,\n",
    "                          diffusivity_cont=2e2/grid.spacing[0],\n",
    "                          max_erosion_rate_sed=np.inf,\n",
    "                          max_erosion_rate_br=1e8)\n",
    "\n",
    "elevations_gdr = np.empty((grid.shape[1], n_iterations//save_step))\n",
    "for i in tqdm(range(n_iterations)):\n",
    "    if i%save_step == 0:\n",
    "        elevations_gdr[:, i//save_step] = elevation.reshape(grid.shape)[1]\n",
    "    gdr.run_one_step(timestep, update=True)"
   ]
  },
  {
   "cell_type": "markdown",
   "id": "82f001d0-5e12-4985-b283-c56b6f230ebe",
   "metadata": {},
   "source": [
    "And we can compare the result with Landlab's:"
   ]
  },
  {
   "cell_type": "code",
   "execution_count": null,
   "id": "d1a533ac-72c0-45e7-bd1b-0afc753d273c",
   "metadata": {},
   "outputs": [],
   "source": [
    "fig, ax = plt.subplots()\n",
    "\n",
    "# Plot the results from Landlab\n",
    "cmap = mpl.colormaps['Wistia']\n",
    "colors = cmap(np.linspace(0, 1, elevations_ld.shape[1]))[:, np.newaxis]\n",
    "for i in range(elevations_ld.shape[1]):\n",
    "    ax.scatter(grid.x_of_node.reshape(grid.shape)[1], elevations_ld[:, i],\n",
    "               c=colors[i], s=20, ec='k', lw=0.5, label='Landlab')\n",
    "# Plot the results from StratigraPy\n",
    "ax.plot(grid.x_of_node.reshape(grid.shape)[1], elevations_gdr,\n",
    "        c='k', lw=0.5, label='GravityDrivenRouter')\n",
    "\n",
    "handles, labels = ax.get_legend_handles_labels()\n",
    "legend = dict(zip(labels, handles))\n",
    "ax.legend(legend.values(), legend.keys())\n",
    "ax.set(xlabel='x (m)', ylabel='z (m)');"
   ]
  },
  {
   "cell_type": "markdown",
   "id": "129f1e01-174b-44ec-b004-28b9564c34f7",
   "metadata": {},
   "source": [
    "We cannot check the multi-sediment-class case, but we can at least check that two sediment classes with the same parameter values lead to the same result:"
   ]
  },
  {
   "cell_type": "code",
   "execution_count": null,
   "id": "45b857cc-e8df-4f60-b5fe-d47422fa667b",
   "metadata": {},
   "outputs": [],
   "source": [
    "grid = RasterModelGrid((3, 49),\n",
    "                       xy_spacing=(500., 500.),\n",
    "                       number_of_classes=2,\n",
    "                       initial_allocation=1,\n",
    "                       number_of_top_layers=0)\n",
    "grid.set_closed_boundaries_at_grid_edges(False, True, False, True)\n",
    "\n",
    "elevation = grid.add_zeros('topographic__elevation', at='node', clobber=True)\n",
    "elevation[grid.x_of_node < 12000.] = 1000.*(grid.x_of_node[grid.x_of_node < 12000.])/12000.\n",
    "elevation[grid.x_of_node >= 12000.] = 1000. - 1000.*(grid.x_of_node[grid.x_of_node >= 12000.] - 12000.)/12000.\n",
    "\n",
    "bathymetry = grid.add_zeros('bathymetric__depth', at='node', clobber=True)\n",
    "\n",
    "gdr = GravityDrivenRouter(grid,\n",
    "                          diffusivity_cont=[2e2/grid.spacing[0], 2e2/grid.spacing[0]],\n",
    "                          max_erosion_rate_sed=np.inf,\n",
    "                          bedrock_composition=[0.5, 0.5],\n",
    "                          max_erosion_rate_br=1e8)\n",
    "\n",
    "elevations_gdr = np.empty((grid.shape[1], n_iterations//save_step))\n",
    "for i in tqdm(range(n_iterations)):\n",
    "    if i%save_step == 0:\n",
    "        elevations_gdr[:, i//save_step] = elevation.reshape(grid.shape)[1]\n",
    "    gdr.run_one_step(timestep, update=True)"
   ]
  },
  {
   "cell_type": "markdown",
   "id": "7948704a-8750-43c3-a331-8dfb075ae14f",
   "metadata": {},
   "source": [
    "And indeed it does:"
   ]
  },
  {
   "cell_type": "code",
   "execution_count": null,
   "id": "804db1e4-1e28-4627-aec0-dafa2ad69f3c",
   "metadata": {},
   "outputs": [],
   "source": [
    "fig, ax = plt.subplots()\n",
    "\n",
    "# Plot the results from Landlab\n",
    "cmap = mpl.colormaps['Wistia']\n",
    "colors = cmap(np.linspace(0, 1, elevations_ld.shape[1]))[:, np.newaxis]\n",
    "for i in range(elevations_ld.shape[1]):\n",
    "    ax.scatter(grid.x_of_node.reshape(grid.shape)[1], elevations_ld[:, i],\n",
    "               c=colors[i], s=20, ec='k', lw=0.5, label='Landlab')\n",
    "# Plot the results from StratigraPy\n",
    "ax.plot(grid.x_of_node.reshape(grid.shape)[1], elevations_gdr,\n",
    "        c='k', lw=0.5, label='GravityDrivenRouter')\n",
    "\n",
    "handles, labels = ax.get_legend_handles_labels()\n",
    "legend = dict(zip(labels, handles))\n",
    "ax.legend(legend.values(), legend.keys())\n",
    "ax.set(xlabel='x (m)', ylabel='z (m)');"
   ]
  },
  {
   "cell_type": "markdown",
   "id": "5213c02e-dc87-4068-8d00-90d6ccb38360",
   "metadata": {},
   "source": [
    "## 2. Non-linear diffusion model"
   ]
  },
  {
   "cell_type": "markdown",
   "id": "c4edb4af-fa65-4538-b422-47c0fe8078a1",
   "metadata": {},
   "source": [
    "Landlab's non-linear component implements a slightly different method, so instead we will compare the two components from StratigraPy together, to check that the two solving schemes lead to similar outputs. Let's start with *GravityDrivenDiffuser*, which uses the finite-volume approach and will be our base case:"
   ]
  },
  {
   "cell_type": "code",
   "execution_count": null,
   "id": "9515bd4a-ceb3-49fd-bce0-4b14a3dad561",
   "metadata": {},
   "outputs": [],
   "source": [
    "grid = RasterModelGrid((3, 49),\n",
    "                       xy_spacing=(500., 500.),\n",
    "                       number_of_classes=1,\n",
    "                       initial_allocation=1,\n",
    "                       number_of_top_layers=0)\n",
    "grid.set_closed_boundaries_at_grid_edges(False, True, False, True)\n",
    "\n",
    "elevation = grid.add_zeros('topographic__elevation', at='node', clobber=True)\n",
    "elevation[grid.x_of_node < 12000.] = 1000.*(grid.x_of_node[grid.x_of_node < 12000.])/12000.\n",
    "elevation[grid.x_of_node >= 12000.] = 1000. - 1000.*(grid.x_of_node[grid.x_of_node >= 12000.] - 12000.)/12000.\n",
    "\n",
    "bathymetry = grid.add_zeros('bathymetric__depth', at='node', clobber=True)\n",
    "\n",
    "gdd = GravityDrivenDiffuser(grid,\n",
    "                            diffusivity_cont=2e2,\n",
    "                            critical_angle_cont=10.,\n",
    "                            critical_angle_mar=10.,\n",
    "                            max_erosion_rate_sed=np.inf,\n",
    "                            max_erosion_rate_br=1e8)\n",
    "\n",
    "elevations_gdd = np.empty((grid.shape[1], n_iterations//save_step))\n",
    "for i in tqdm(range(n_iterations)):\n",
    "    if i%save_step == 0:\n",
    "        elevations_gdd[:, i//save_step] = elevation.reshape(grid.shape)[1]\n",
    "    gdd.run_one_step(timestep, update=True)"
   ]
  },
  {
   "cell_type": "code",
   "execution_count": null,
   "id": "9a00c928-0149-459f-a36f-c1fe031387bf",
   "metadata": {},
   "outputs": [],
   "source": [
    "fig, ax = plt.subplots()\n",
    "\n",
    "# Plot the results from GravityDrivenDiffuser\n",
    "cmap = mpl.colormaps['Wistia']\n",
    "colors = cmap(np.linspace(0, 1, elevations_gdd.shape[1]))[:, np.newaxis]\n",
    "for i in range(elevations_gdd.shape[1]):\n",
    "    ax.scatter(grid.x_of_node.reshape(grid.shape)[1], elevations_gdd[:, i],\n",
    "               c=colors[i], s=20, ec='k', lw=0.5)\n",
    "\n",
    "ax.set(xlabel='x (m)', ylabel='z (m)');"
   ]
  },
  {
   "cell_type": "markdown",
   "id": "b928c1e5-4bbc-456a-9460-742f691df0ba",
   "metadata": {},
   "source": [
    "Now let's setup and run a *GravityDrivenRouter*, which uses the routing scheme:"
   ]
  },
  {
   "cell_type": "code",
   "execution_count": null,
   "id": "9bf82501-dd68-43e8-9f63-9d8417c60b99",
   "metadata": {},
   "outputs": [],
   "source": [
    "grid = RasterModelGrid((3, 49),\n",
    "                       xy_spacing=(500., 500.),\n",
    "                       number_of_classes=1,\n",
    "                       initial_allocation=1,\n",
    "                       number_of_top_layers=0)\n",
    "grid.set_closed_boundaries_at_grid_edges(False, True, False, True)\n",
    "\n",
    "elevation = grid.add_zeros('topographic__elevation', at='node', clobber=True)\n",
    "elevation[grid.x_of_node < 12000.] = 1000.*(grid.x_of_node[grid.x_of_node < 12000.])/12000.\n",
    "elevation[grid.x_of_node >= 12000.] = 1000. - 1000.*(grid.x_of_node[grid.x_of_node >= 12000.] - 12000.)/12000.\n",
    "\n",
    "bathymetry = grid.add_zeros('bathymetric__depth', at='node', clobber=True)\n",
    "\n",
    "gdr = GravityDrivenRouter(grid,\n",
    "                          diffusivity_cont=2e2/grid.spacing[0],\n",
    "                          critical_angle_cont=10.,\n",
    "                          critical_angle_mar=10.,\n",
    "                          max_erosion_rate_sed=np.inf,\n",
    "                          max_erosion_rate_br=1e8)\n",
    "\n",
    "elevations_gdr = np.empty((grid.shape[1], n_iterations//save_step))\n",
    "for i in tqdm(range(n_iterations)):\n",
    "    if i%save_step == 0:\n",
    "        elevations_gdr[:, i//save_step] = elevation.reshape(grid.shape)[1]\n",
    "    gdr.run_one_step(timestep, update=True)"
   ]
  },
  {
   "cell_type": "markdown",
   "id": "8de24696-a610-4568-a61a-48bb4ce46aa1",
   "metadata": {},
   "source": [
    "Now we can compare the two:"
   ]
  },
  {
   "cell_type": "code",
   "execution_count": null,
   "id": "6b0cdd46-4514-47ea-b204-14c466cbd07c",
   "metadata": {},
   "outputs": [],
   "source": [
    "fig, ax = plt.subplots()\n",
    "\n",
    "# Plot the results from GravityDrivenDiffuser\n",
    "cmap = mpl.colormaps['Wistia']\n",
    "colors = cmap(np.linspace(0, 1, elevations_gdd.shape[1]))[:, np.newaxis]\n",
    "for i in range(elevations_gdd.shape[1]):\n",
    "    ax.scatter(grid.x_of_node.reshape(grid.shape)[1], elevations_gdd[:, i],\n",
    "               c=colors[i], s=20, ec='k', lw=0.5, label=\"GravityDrivenDiffuser\")\n",
    "# Plot the results from WaterDrivenRouter\n",
    "ax.plot(grid.x_of_node.reshape(grid.shape)[1], elevations_gdr,\n",
    "        c='k', lw=0.5, label='GravityDrivenRouter')\n",
    "\n",
    "handles, labels = ax.get_legend_handles_labels()\n",
    "legend = dict(zip(labels, handles))\n",
    "ax.legend(legend.values(), legend.keys())\n",
    "ax.set(xlabel='x (m)', ylabel='z (m)');"
   ]
  },
  {
   "cell_type": "markdown",
   "id": "35514d99-4514-478a-bc15-835d431fafef",
   "metadata": {},
   "source": [
    "Here the critical angles are defined to show a difference with the linear case, not to be plausible. Reducing those angles to 5&#176; lead to unstable results with *GravityDrivenDiffuser* but not with *GravityDrivenRouter*. It is possible to get stable results with *GravityDrivenDiffuser* by reducing the time step. [Carretier et al. (2016)](https://doi.org/10.5194/esurf-4-237-2016) noted that the routing scheme is indeed more stable than the time-explicit finite-volume one."
   ]
  },
  {
   "cell_type": "markdown",
   "id": "c1364ca9-c795-41a0-8161-1784afd6041b",
   "metadata": {},
   "source": [
    "## 3. Transport-limited model"
   ]
  },
  {
   "cell_type": "markdown",
   "id": "457b0300-84f2-4d8c-bdc6-00b43e680acb",
   "metadata": {},
   "source": [
    "Now we can move from gravity-driven to water-driven models, starting with a transport-limited model. Again we begin by setting up and running Landlab's component with the same configuration as before:"
   ]
  },
  {
   "cell_type": "code",
   "execution_count": null,
   "id": "62b6f04c-836c-465b-9638-95a42084b517",
   "metadata": {},
   "outputs": [],
   "source": [
    "grid = RasterModelGrid((3, 49),\n",
    "                       xy_spacing=(500., 500.),\n",
    "                       number_of_classes=2,\n",
    "                       initial_allocation=1,\n",
    "                       number_of_top_layers=0)\n",
    "grid.set_closed_boundaries_at_grid_edges(False, True, False, True)\n",
    "\n",
    "elevation = grid.add_zeros('topographic__elevation', at='node', clobber=True)\n",
    "elevation[grid.x_of_node < 12000.] = 1000.*(grid.x_of_node[grid.x_of_node < 12000.])/12000.\n",
    "elevation[grid.x_of_node >= 12000.] = 1000. - 1000.*(grid.x_of_node[grid.x_of_node >= 12000.] - 12000.)/12000.\n",
    "\n",
    "water_influx = grid.add_ones('water__unit_flux_in', at='node', clobber=True) # m/yr\n",
    "\n",
    "fd = FlowDirectorSteepest(grid)\n",
    "fa = FlowAccumulator(grid, flow_director=fd)\n",
    "\n",
    "ast = AreaSlopeTransporter(grid,\n",
    "                          transport_coefficient=8e-5*grid.spacing[0],\n",
    "                          area_exponent=1.,\n",
    "                          slope_exponent=1.)\n",
    "\n",
    "elevations_ast = np.empty((grid.shape[1], n_iterations//save_step))\n",
    "for i in tqdm(range(n_iterations)):\n",
    "    if i%save_step == 0:\n",
    "        elevations_ast[:, i//save_step] = elevation.reshape(grid.shape)[1]\n",
    "    fa.run_one_step()\n",
    "    ast.run_one_step(timestep)"
   ]
  },
  {
   "cell_type": "markdown",
   "id": "823fbb64-dbf7-4eb0-a4b8-789254ee6712",
   "metadata": {},
   "source": [
    "Let's visualize our base case:"
   ]
  },
  {
   "cell_type": "code",
   "execution_count": null,
   "id": "112a0f4b-1fcc-424c-95bc-6881dbd679ed",
   "metadata": {},
   "outputs": [],
   "source": [
    "fig, ax = plt.subplots()\n",
    "\n",
    "# Plot the results from Landlab\n",
    "cmap = mpl.colormaps['Wistia']\n",
    "colors = cmap(np.linspace(0, 1, elevations_ast.shape[1]))[:, np.newaxis]\n",
    "for i in range(elevations_ast.shape[1]):\n",
    "    ax.scatter(grid.x_of_node.reshape(grid.shape)[1], elevations_ast[:, i],\n",
    "               c=colors[i], s=20, ec='k', lw=0.5)\n",
    "\n",
    "ax.set(xlabel='x (m)', ylabel='z (m)');"
   ]
  },
  {
   "cell_type": "markdown",
   "id": "cc33d06f-e3d3-461a-b5bc-44f260bdcf2b",
   "metadata": {},
   "source": [
    "As before, we'll look at two components from StratigraPy that implement different ways of solving the same equations. Let's start with the finite-volume approach:"
   ]
  },
  {
   "cell_type": "code",
   "execution_count": null,
   "id": "3ec9f94a-b855-4053-80c8-3043f2c4e272",
   "metadata": {},
   "outputs": [],
   "source": [
    "grid = RasterModelGrid((3, 49),\n",
    "                       xy_spacing=(500., 500.),\n",
    "                       number_of_classes=1,\n",
    "                       initial_allocation=1,\n",
    "                       number_of_top_layers=0)\n",
    "grid.set_closed_boundaries_at_grid_edges(False, True, False, True)\n",
    "\n",
    "elevation = grid.add_zeros('topographic__elevation', at='node', clobber=True)\n",
    "elevation[grid.x_of_node < 12000.] = 1000.*(grid.x_of_node[grid.x_of_node < 12000.])/12000.\n",
    "elevation[grid.x_of_node >= 12000.] = 1000. - 1000.*(grid.x_of_node[grid.x_of_node >= 12000.] - 12000.)/12000.\n",
    "\n",
    "water_influx = grid.add_ones('water__unit_flux_in', at='node', clobber=True) # m/yr\n",
    "\n",
    "bathymetry = grid.add_zeros('bathymetric__depth', at='node', clobber=True)\n",
    "\n",
    "fd = FlowDirectorSteepest(grid)\n",
    "fa = FlowAccumulator(grid, flow_director=fd)\n",
    "\n",
    "wdd = WaterDrivenDiffuser(grid,\n",
    "                          transportability_cont=8e-5,\n",
    "                          max_erosion_rate_sed=np.inf,\n",
    "                          max_erosion_rate_br=1e8)\n",
    "\n",
    "elevations_wdd = np.empty((grid.shape[1], n_iterations//save_step))\n",
    "for i in tqdm(range(n_iterations)):\n",
    "    if i%save_step == 0:\n",
    "        elevations_wdd[:, i//save_step] = elevation.reshape(grid.shape)[1]\n",
    "    fa.run_one_step()\n",
    "    wdd.run_one_step(timestep, update=True)"
   ]
  },
  {
   "cell_type": "markdown",
   "id": "0e49cfd7-5377-4789-8165-0b3a613b287f",
   "metadata": {},
   "source": [
    "And compare with Landlab:"
   ]
  },
  {
   "cell_type": "code",
   "execution_count": null,
   "id": "c91b7dd9-8418-4cec-9ab4-321f5d8b4a42",
   "metadata": {},
   "outputs": [],
   "source": [
    "fig, ax = plt.subplots()\n",
    "\n",
    "# Plot the results from Landlab\n",
    "cmap = mpl.colormaps['Wistia']\n",
    "colors = cmap(np.linspace(0, 1, elevations_ast.shape[1]))[:, np.newaxis]\n",
    "for i in range(elevations_ast.shape[1]):\n",
    "    ax.scatter(grid.x_of_node.reshape(grid.shape)[1], elevations_ast[:, i],\n",
    "               c=colors[i], s=20, ec='k', lw=0.5, label='Landlab')\n",
    "# Plot the results from StratigraPy\n",
    "ax.plot(grid.x_of_node.reshape(grid.shape)[1], elevations_wdd,\n",
    "        c='k', lw=0.5, label='WaterDrivenDiffuser')\n",
    "\n",
    "handles, labels = ax.get_legend_handles_labels()\n",
    "legend = dict(zip(labels, handles))\n",
    "ax.legend(legend.values(), legend.keys())\n",
    "ax.set(xlabel='x (m)', ylabel='z (m)');"
   ]
  },
  {
   "cell_type": "markdown",
   "id": "7379e1ff-dff4-4cf1-acce-89b766e82d12",
   "metadata": {},
   "source": [
    "Now let's move to the routing approach:"
   ]
  },
  {
   "cell_type": "code",
   "execution_count": null,
   "id": "087762dd-5c5a-427d-85af-5ae4a317ab2e",
   "metadata": {},
   "outputs": [],
   "source": [
    "grid = RasterModelGrid((3, 49),\n",
    "                       xy_spacing=(500., 500.),\n",
    "                       number_of_classes=2,\n",
    "                       initial_allocation=1,\n",
    "                       number_of_top_layers=0)\n",
    "grid.set_closed_boundaries_at_grid_edges(False, True, False, True)\n",
    "\n",
    "elevation = grid.add_zeros('topographic__elevation', at='node', clobber=True)\n",
    "elevation[grid.x_of_node < 12000.] = 1000.*(grid.x_of_node[grid.x_of_node < 12000.])/12000.\n",
    "elevation[grid.x_of_node >= 12000.] = 1000. - 1000.*(grid.x_of_node[grid.x_of_node >= 12000.] - 12000.)/12000.\n",
    "\n",
    "water_influx = grid.add_ones('water__unit_flux_in', at='node', clobber=True) # m/yr\n",
    "\n",
    "bathymetry = grid.add_zeros('bathymetric__depth', at='node', clobber=True)\n",
    "\n",
    "fd = FlowDirectorSteepest(grid)\n",
    "fa = FlowAccumulator(grid, flow_director=fd)\n",
    "\n",
    "wdr = WaterDrivenRouter(grid,\n",
    "                        transportability_cont=8e-5/grid.spacing[0],\n",
    "                        max_erosion_rate_sed=np.inf,\n",
    "                        max_erosion_rate_br=1e8)\n",
    "\n",
    "elevations_wdr = np.empty((grid.shape[1], n_iterations//save_step))\n",
    "for i in tqdm(range(n_iterations)):\n",
    "    if i%save_step == 0:\n",
    "        elevations_wdr[:, i//save_step] = elevation.reshape(grid.shape)[1]\n",
    "    fa.run_one_step()\n",
    "    wdr.run_one_step(timestep, update=True)"
   ]
  },
  {
   "cell_type": "markdown",
   "id": "5625f02c-d5a5-44bc-8001-6e8f4cb8e26b",
   "metadata": {},
   "source": [
    "And compare with Landlab:"
   ]
  },
  {
   "cell_type": "code",
   "execution_count": null,
   "id": "4ce245c1-4041-4c73-b4f0-4b6cb2c23cba",
   "metadata": {},
   "outputs": [],
   "source": [
    "fig, ax = plt.subplots()\n",
    "\n",
    "# Plot the results from Landlab\n",
    "cmap = mpl.colormaps['Wistia']\n",
    "colors = cmap(np.linspace(0, 1, elevations_ast.shape[1]))[:, np.newaxis]\n",
    "for i in range(elevations_ast.shape[1]):\n",
    "    ax.scatter(grid.x_of_node.reshape(grid.shape)[1], elevations_ast[:, i],\n",
    "               c=colors[i], s=20, ec='k', lw=0.5, label='Landlab')\n",
    "# Plot the results from StratigraPy\n",
    "ax.plot(grid.x_of_node.reshape(grid.shape)[1], elevations_wdr,\n",
    "        c='k', lw=0.5, label='WaterDrivenRouter')\n",
    "\n",
    "handles, labels = ax.get_legend_handles_labels()\n",
    "legend = dict(zip(labels, handles))\n",
    "ax.legend(legend.values(), legend.keys())\n",
    "ax.set(xlabel='x (m)', ylabel='z (m)');"
   ]
  },
  {
   "cell_type": "markdown",
   "id": "b20b26de-309a-48bc-841e-a571524fe8b8",
   "metadata": {},
   "source": [
    "Landlab also uses a routing approach, which looks again more stable than the time-explicit finite-volume approach implemented in *WaterDrivenDiffuser*.\n",
    "\n",
    "Now let's compare the two components of StratigraPy, using the finite-volume one as base case, except that now we use two sediment classes and a flux limiter by limiting the maximum erosion rate:"
   ]
  },
  {
   "cell_type": "code",
   "execution_count": null,
   "id": "7a92bf49-98ff-4940-a1a3-ca94b9c9ec91",
   "metadata": {},
   "outputs": [],
   "source": [
    "grid = RasterModelGrid((3, 49),\n",
    "                       xy_spacing=(500., 500.),\n",
    "                       number_of_classes=2,\n",
    "                       initial_allocation=1,\n",
    "                       number_of_top_layers=0)\n",
    "grid.set_closed_boundaries_at_grid_edges(False, True, False, True)\n",
    "\n",
    "elevation = grid.add_zeros('topographic__elevation', at='node', clobber=True)\n",
    "elevation[grid.x_of_node < 12000.] = 1000.*(grid.x_of_node[grid.x_of_node < 12000.])/12000.\n",
    "elevation[grid.x_of_node >= 12000.] = 1000. - 1000.*(grid.x_of_node[grid.x_of_node >= 12000.] - 12000.)/12000.\n",
    "\n",
    "water_influx = grid.add_ones('water__unit_flux_in', at='node', clobber=True) # m/yr\n",
    "\n",
    "bathymetry = grid.add_zeros('bathymetric__depth', at='node', clobber=True)\n",
    "\n",
    "fd = FlowDirectorSteepest(grid)\n",
    "fa = FlowAccumulator(grid, flow_director=fd)\n",
    "\n",
    "wdd = WaterDrivenDiffuser(grid,\n",
    "                          transportability_cont=[2e-4, 2e-5],\n",
    "                          max_erosion_rate_sed=2e-3,\n",
    "                          max_erosion_rate_br=2e-3)\n",
    "\n",
    "elevations_wdd = np.empty((grid.shape[1], n_iterations//save_step))\n",
    "for i in tqdm(range(n_iterations)):\n",
    "    if i%save_step == 0:\n",
    "        elevations_wdd[:, i//save_step] = elevation.reshape(grid.shape)[1]\n",
    "    fa.run_one_step()\n",
    "    wdd.run_one_step(timestep, update=True)"
   ]
  },
  {
   "cell_type": "code",
   "execution_count": null,
   "id": "76f1b48e-8c13-4304-8bf3-ba5f0a9e1495",
   "metadata": {},
   "outputs": [],
   "source": [
    "fig, ax = plt.subplots()\n",
    "\n",
    "# Plot the results from WaterDrivenDiffuser\n",
    "cmap = mpl.colormaps['Wistia']\n",
    "colors = cmap(np.linspace(0, 1, elevations_wdd.shape[1]))[:, np.newaxis]\n",
    "for i in range(elevations_wdd.shape[1]):\n",
    "    ax.scatter(grid.x_of_node.reshape(grid.shape)[1], elevations_wdd[:, i],\n",
    "               c=colors[i], s=20, ec='k', lw=0.5)\n",
    "\n",
    "ax.set(xlabel='x (m)', ylabel='z (m)');"
   ]
  },
  {
   "cell_type": "markdown",
   "id": "597b3f3b-be93-460a-aa01-48ac69c723ad",
   "metadata": {},
   "source": [
    "Now we can setup and run the routing approach:"
   ]
  },
  {
   "cell_type": "code",
   "execution_count": null,
   "id": "5e24c984-9b87-4335-834b-5be8b910fd62",
   "metadata": {},
   "outputs": [],
   "source": [
    "grid = RasterModelGrid((3, 49),\n",
    "                       xy_spacing=(500., 500.),\n",
    "                       number_of_classes=2,\n",
    "                       initial_allocation=1,\n",
    "                       number_of_top_layers=0)\n",
    "grid.set_closed_boundaries_at_grid_edges(False, True, False, True)\n",
    "\n",
    "elevation = grid.add_zeros('topographic__elevation', at='node', clobber=True)\n",
    "elevation[grid.x_of_node < 12000.] = 1000.*(grid.x_of_node[grid.x_of_node < 12000.])/12000.\n",
    "elevation[grid.x_of_node >= 12000.] = 1000. - 1000.*(grid.x_of_node[grid.x_of_node >= 12000.] - 12000.)/12000.\n",
    "\n",
    "water_influx = grid.add_ones('water__unit_flux_in', at='node', clobber=True) # m/yr\n",
    "\n",
    "bathymetry = grid.add_zeros('bathymetric__depth', at='node', clobber=True)\n",
    "\n",
    "fd = FlowDirectorSteepest(grid)\n",
    "fa = FlowAccumulator(grid, flow_director=fd)\n",
    "\n",
    "wdr = WaterDrivenRouter(grid,\n",
    "                        transportability_cont=[2e-4/grid.spacing[0], 2e-5/grid.spacing[0]],\n",
    "                        max_erosion_rate_sed=2e-3,\n",
    "                        max_erosion_rate_br=2e-3)\n",
    "\n",
    "elevations_wdr = np.empty((grid.shape[1], n_iterations//save_step))\n",
    "for i in tqdm(range(n_iterations)):\n",
    "    if i%save_step == 0:\n",
    "        elevations_wdr[:, i//save_step] = elevation.reshape(grid.shape)[1]\n",
    "    fa.run_one_step()\n",
    "    wdr.run_one_step(timestep, update=True)"
   ]
  },
  {
   "cell_type": "markdown",
   "id": "60f8df35-57de-4fe9-917d-f38d1d66fe38",
   "metadata": {},
   "source": [
    "And compare the two:"
   ]
  },
  {
   "cell_type": "code",
   "execution_count": null,
   "id": "35f9a0c4-05b0-43d4-a34c-c61014678ee7",
   "metadata": {},
   "outputs": [],
   "source": [
    "fig, ax = plt.subplots()\n",
    "\n",
    "# Plot the results from WaterDrivenDiffuser\n",
    "cmap = mpl.colormaps['Wistia']\n",
    "colors = cmap(np.linspace(0, 1, elevations_wdd.shape[1]))[:, np.newaxis]\n",
    "for i in range(elevations_wdd.shape[1]):\n",
    "    ax.scatter(grid.x_of_node.reshape(grid.shape)[1], elevations_wdd[:, i],\n",
    "               c=colors[i], s=20, ec='k', lw=0.5, label='WaterDrivenDiffuser')\n",
    "# Plot the results from WaterDrivenRouter\n",
    "ax.plot(grid.x_of_node.reshape(grid.shape)[1], elevations_wdr,\n",
    "        c='k', lw=0.5, label='WaterDrivenRouter')\n",
    "\n",
    "handles, labels = ax.get_legend_handles_labels()\n",
    "legend = dict(zip(labels, handles))\n",
    "ax.legend(legend.values(), legend.keys())\n",
    "ax.set(xlabel='x (m)', ylabel='z (m)');"
   ]
  },
  {
   "cell_type": "markdown",
   "id": "7fefc7b0-44d7-41c5-9ba7-5126313846a2",
   "metadata": {},
   "source": [
    "## 4. SPACE model"
   ]
  },
  {
   "cell_type": "markdown",
   "id": "c37cbf17-fb35-4658-823a-3b70d0dd59b1",
   "metadata": {},
   "source": [
    "While the previous section focused on purely transport-limited models, Landlab implements SPACE, a model that can switch between the transport-limited and the detachment-limited cases. Let's compare Landlab's SPACE component to the equivalent component in StratigraPy, starting with setting up and running Landlab's component:"
   ]
  },
  {
   "cell_type": "code",
   "execution_count": null,
   "id": "8db64224-4c3b-462f-b7cf-f502fe1b9896",
   "metadata": {},
   "outputs": [],
   "source": [
    "grid_spa = RasterModelGrid((3, 49), xy_spacing=(500., 500.))\n",
    "grid_spa.set_closed_boundaries_at_grid_edges(False, True, False, True)\n",
    "\n",
    "elevation = grid_spa.add_zeros('topographic__elevation', at='node', clobber=True)\n",
    "elevation[grid_spa.x_of_node < 12000.] = 1000.*(grid_spa.x_of_node[grid_spa.x_of_node < 12000.])/12000.\n",
    "elevation[grid_spa.x_of_node >= 12000.] = 1000. - 1000.*(grid_spa.x_of_node[grid_spa.x_of_node >= 12000.] - 12000.)/12000.\n",
    "\n",
    "water_influx = grid_spa.add_ones('water__unit_flux_in', at='node', clobber=True) # m/yr\n",
    "\n",
    "soil_depth = grid_spa.add_zeros('soil__depth', at='node', clobber=True) # m\n",
    "\n",
    "fd = FlowDirectorSteepest(grid_spa)\n",
    "fa = FlowAccumulator(grid_spa, flow_director=fd)\n",
    "\n",
    "spa = SpaceLargeScaleEroder(grid_spa,\n",
    "                            K_sed=8e-5,\n",
    "                            K_br=8e-5,\n",
    "                            phi=0.3,\n",
    "                            H_star=0.1,\n",
    "                            v_s=1.,\n",
    "                            m_sp=0.5,\n",
    "                            n_sp=1.)\n",
    "\n",
    "elevations_spa = np.empty((grid_spa.shape[1], n_iterations//save_step))\n",
    "for i in tqdm(range(n_iterations)):\n",
    "    if i%save_step == 0:\n",
    "        elevations_spa[:, i//save_step] = elevation.reshape(grid_spa.shape)[1]\n",
    "    fa.run_one_step()\n",
    "    spa.run_one_step(timestep)"
   ]
  },
  {
   "cell_type": "code",
   "execution_count": null,
   "id": "9f8585ee-be9e-4464-80f2-48d96625dae3",
   "metadata": {},
   "outputs": [],
   "source": [
    "fig, ax = plt.subplots()\n",
    "\n",
    "# Plot the results from Landlab\n",
    "cmap = mpl.colormaps['Wistia']\n",
    "colors = cmap(np.linspace(0, 1, elevations_spa.shape[1]))[:, np.newaxis]\n",
    "for i in range(elevations_spa.shape[1]):\n",
    "    ax.scatter(grid_spa.x_of_node.reshape(grid_spa.shape)[1], elevations_spa[:, i],\n",
    "               c=colors[i], s=20, ec='k', lw=0.5)\n",
    "\n",
    "ax.set(xlabel='x (m)', ylabel='z (m)');"
   ]
  },
  {
   "cell_type": "markdown",
   "id": "b6b7ce4f-dbdb-4206-8f29-1a8ab2879dbd",
   "metadata": {},
   "source": [
    "And do the same for StratigraPy's *FluxDrivenRouter*:"
   ]
  },
  {
   "cell_type": "code",
   "execution_count": null,
   "id": "4b015ce3-385c-42c6-a54d-01ecdb5ba346",
   "metadata": {},
   "outputs": [],
   "source": [
    "grid = RasterModelGrid((3, 49),\n",
    "                       xy_spacing=(500., 500.),\n",
    "                       number_of_classes=1,\n",
    "                       initial_allocation=1,\n",
    "                       number_of_top_layers=0)\n",
    "grid.set_closed_boundaries_at_grid_edges(False, True, False, True)\n",
    "\n",
    "elevation = grid.add_zeros('topographic__elevation', at='node', clobber=True)\n",
    "elevation[grid.x_of_node < 12000.] = 1000.*(grid.x_of_node[grid.x_of_node < 12000.])/12000.\n",
    "elevation[grid.x_of_node >= 12000.] = 1000. - 1000.*(grid.x_of_node[grid.x_of_node >= 12000.] - 12000.)/12000.\n",
    "\n",
    "water_influx = grid.add_ones('water__unit_flux_in', at='node', clobber=True) # m/yr\n",
    "\n",
    "bathymetry = grid.add_zeros('bathymetric__depth', at='node', clobber=True)\n",
    "\n",
    "fd = FlowDirectorSteepest(grid)\n",
    "fa = FlowAccumulator(grid, flow_director=fd)\n",
    "\n",
    "fdr = FluxDrivenRouter(grid,\n",
    "                       erodibility_sed_cont=8e-5,\n",
    "                       settling_velocity=1.,\n",
    "                       critical_thickness=0.1,\n",
    "                       porosity=0.3,\n",
    "                       max_erosion_rate_sed=np.inf,\n",
    "                       erodibility_br_cont=8e-5,\n",
    "                       exponent_discharge=0.5,\n",
    "                       exponent_slope=1.)\n",
    "\n",
    "elevations_fdr = np.empty((grid.shape[1], n_iterations//save_step))\n",
    "for i in tqdm(range(n_iterations)):\n",
    "    if i%save_step == 0:\n",
    "        elevations_fdr[:, i//save_step] = elevation.reshape(grid.shape)[1]\n",
    "    fa.run_one_step()\n",
    "    fdr.run_one_step(timestep, update=True)"
   ]
  },
  {
   "cell_type": "markdown",
   "id": "e1bbade2-acb2-4f24-99af-2b8b0c5c6933",
   "metadata": {},
   "source": [
    "Now we can compare the results:"
   ]
  },
  {
   "cell_type": "code",
   "execution_count": null,
   "id": "c19781b1-282e-437c-b69d-2d747cdafe66",
   "metadata": {},
   "outputs": [],
   "source": [
    "fig, ax = plt.subplots()\n",
    "\n",
    "# Plot the results from Landlab\n",
    "cmap = mpl.colormaps['Wistia']\n",
    "colors = cmap(np.linspace(0, 1, elevations_spa.shape[1]))[:, np.newaxis]\n",
    "for i in range(elevations_spa.shape[1]):\n",
    "    ax.scatter(grid.x_of_node.reshape(grid.shape)[1], elevations_spa[:, i],\n",
    "               c=colors[i], s=20, ec='k', lw=0.5, label='Landlab')\n",
    "# Plot the results from StratigraPy\n",
    "ax.plot(grid.x_of_node.reshape(grid.shape)[1], elevations_fdr,\n",
    "        c='k', lw=0.5, label='FluxDrivenRouter')\n",
    "\n",
    "handles, labels = ax.get_legend_handles_labels()\n",
    "legend = dict(zip(labels, handles))\n",
    "ax.legend(legend.values(), legend.keys())\n",
    "ax.set(xlabel='x (m)', ylabel='z (m)');"
   ]
  },
  {
   "cell_type": "markdown",
   "id": "1d91d763-3abf-42d0-84c6-a6dd3ab34aee",
   "metadata": {},
   "source": [
    "The results are not quite as similar as they seem though. Checking the sediments deposited by both models, we can see that *SpaceLargeScaleEroder* deposits some:"
   ]
  },
  {
   "cell_type": "code",
   "execution_count": null,
   "id": "c3f93c46-b1f6-436f-ae96-a9312a2424e5",
   "metadata": {},
   "outputs": [],
   "source": [
    "grid_spa.at_node['soil__depth'].reshape(grid_spa.shape)[1]"
   ]
  },
  {
   "cell_type": "markdown",
   "id": "2de2d55f-acf4-40ef-82f2-310cf965de62",
   "metadata": {},
   "source": [
    "while *FluxDrivenRouter* doesn't:"
   ]
  },
  {
   "cell_type": "code",
   "execution_count": null,
   "id": "be62108c-5e29-4a80-b586-f211370a382b",
   "metadata": {},
   "outputs": [],
   "source": [
    "grid.stacked_layers.thickness"
   ]
  },
  {
   "cell_type": "markdown",
   "id": "d44abfda-4bcd-4049-9140-75364ca6064a",
   "metadata": {},
   "source": [
    "SPACE computes erosion and deposition, with some deposition always happening, except in the pure detachment-limited case. StratigraPy on the other end doesn't implement the full SPACE model. Its router scheme just updates sediments based on the difference between sediment influx and outflux in a cell, which means that if erosion dominates, no deposition will happen. So StratigraPy underestimates deposition compared to SPACE."
   ]
  }
 ],
 "metadata": {
  "kernelspec": {
   "display_name": "Python 3 (ipykernel)",
   "language": "python",
   "name": "python3"
  },
  "language_info": {
   "codemirror_mode": {
    "name": "ipython",
    "version": 3
   },
   "file_extension": ".py",
   "mimetype": "text/x-python",
   "name": "python",
   "nbconvert_exporter": "python",
   "pygments_lexer": "ipython3",
   "version": "3.11.6"
  }
 },
 "nbformat": 4,
 "nbformat_minor": 5
}

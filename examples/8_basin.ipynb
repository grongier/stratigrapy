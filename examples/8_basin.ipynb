{
 "cells": [
  {
   "cell_type": "markdown",
   "id": "6f506561-0a75-405b-bfa3-9945c035403a",
   "metadata": {},
   "source": [
    "<table align=\"left\">\n",
    "    <tr>\n",
    "        <td style=\"vertical-align: middle; padding-left: 0px; padding-right: 0px;\">\n",
    "            <a href=\"https://creativecommons.org/licenses/by/4.0/\">\n",
    "                <img src=\"https://licensebuttons.net/l/by/4.0/80x15.png\" />\n",
    "            </a>\n",
    "        </td>\n",
    "        <td style=\"vertical-align: middle; padding-left: 5px; padding-right: 0px;\">\n",
    "            <a href=\"https://opensource.org/licenses/MIT\">\n",
    "                <img src=\"https://img.shields.io/badge/License-MIT-green.svg\" />\n",
    "            </a>\n",
    "        </td>\n",
    "        <td style=\"vertical-align: middle; padding-left: 15px;\">\n",
    "            &copy; Guillaume Rongier\n",
    "        </td>\n",
    "    </tr>\n",
    "</table>"
   ]
  },
  {
   "cell_type": "markdown",
   "id": "fe04d3c0-3683-412f-b12e-25e5411b96b5",
   "metadata": {},
   "source": [
    "# Basin-scale simulation"
   ]
  },
  {
   "cell_type": "markdown",
   "id": "aabe78cb-d5a1-4dfc-aad8-5e7f9edb10ea",
   "metadata": {},
   "source": [
    "This notebook goes beyond the basic example of the [first notebook](1_basic-example.ipynb) to show how to simulate sedimentation in an entire basin using StratigraPy."
   ]
  },
  {
   "cell_type": "markdown",
   "id": "91bb5258-901f-4b8d-83b9-766f0d6ed354",
   "metadata": {},
   "source": [
    "### Imports"
   ]
  },
  {
   "cell_type": "markdown",
   "id": "74121609-c2cb-459e-9d21-2c20248ec07b",
   "metadata": {},
   "source": [
    "Let's first import all the required packages and components:"
   ]
  },
  {
   "cell_type": "code",
   "execution_count": null,
   "id": "d24cac43-3672-4140-a8d9-5bab94f67cdc",
   "metadata": {},
   "outputs": [],
   "source": [
    "import numpy as np\n",
    "from scipy.ndimage import gaussian_filter, median_filter\n",
    "from scipy.interpolate import PchipInterpolator\n",
    "from tqdm.notebook import tqdm\n",
    "import matplotlib.pyplot as plt\n",
    "import matplotlib.colors as mcolors\n",
    "import cmocean\n",
    "import colorsys\n",
    "import pyvista as pv\n",
    "import vtk\n",
    "\n",
    "from landlab.components import FlowDirectorD8, FlowAccumulator\n",
    "\n",
    "from stratigrapy import RasterModelGrid\n",
    "from stratigrapy.components import SeaLevelCalculator, SourceProducer, WaterDrivenRouter\n",
    "from stratigrapy.plot import extract_tie_centered_layers"
   ]
  },
  {
   "cell_type": "markdown",
   "id": "b64b989e-cca9-49da-8af1-ccdda436f38f",
   "metadata": {},
   "source": [
    "### Functions"
   ]
  },
  {
   "cell_type": "markdown",
   "id": "ec02d2ef-86fe-4895-8aec-0aa0114a82ee",
   "metadata": {},
   "source": [
    "And define some utility functions:"
   ]
  },
  {
   "cell_type": "code",
   "execution_count": null,
   "id": "0f2b6cc1-7c04-4a8d-af4e-fdd49d08f9c8",
   "metadata": {},
   "outputs": [],
   "source": [
    "def add_text(plotter, text, position, font_size, font_file, color, opacity=1.,\n",
    "             orientation=0., offset=0., justification_horizontal=None,\n",
    "             justification_vertical=None):\n",
    "    \"\"\"\n",
    "    Add a text to a PyVista plotter with the option to control its orientation.\n",
    "    \"\"\"\n",
    "    # Create text actor\n",
    "    text_actor = vtk.vtkTextActor()\n",
    "    text_actor.SetInput(text)\n",
    "\n",
    "    # Set text properties\n",
    "    text_prop = text_actor.GetTextProperty()\n",
    "    text_prop.SetFontFamily(4)\n",
    "    text_prop.SetFontFile(font_file)\n",
    "    text_prop.SetFontSize(font_size)\n",
    "    text_prop.SetColor(*color)\n",
    "    text_prop.SetOpacity(opacity)\n",
    "    if justification_horizontal == 'right':\n",
    "        text_prop.SetJustificationToRight()\n",
    "    else:\n",
    "        text_prop.SetJustificationToCentered()\n",
    "    if justification_vertical == 'center':\n",
    "        text_prop.SetVerticalJustificationToCentered()\n",
    "    elif justification_vertical == 'top':\n",
    "        text_prop.SetVerticalJustificationToTop()\n",
    "    text_prop.SetLineOffset(offset)\n",
    "\n",
    "    # Set position\n",
    "    if len(position) == 3:\n",
    "        coordinate = vtk.vtkCoordinate()\n",
    "        coordinate.SetCoordinateSystemToWorld()\n",
    "        coordinate.SetValue(*position)\n",
    "        position = coordinate.GetComputedDisplayValue(plotter.renderer)\n",
    "    text_actor.SetPosition(position[0], position[1])\n",
    "    # Set rotation\n",
    "    text_actor.SetOrientation(orientation)\n",
    "\n",
    "    # Add to renderer\n",
    "    plotter.renderer.AddActor2D(text_actor)\n",
    "\n",
    "    return text_actor"
   ]
  },
  {
   "cell_type": "code",
   "execution_count": null,
   "id": "d5d56a83-7f74-4452-8ba6-29d80513b39f",
   "metadata": {},
   "outputs": [],
   "source": [
    "def _build_sand_cmap(light_fraction_1,\n",
    "                     light_fraction_2,\n",
    "                     light_fraction_3,\n",
    "                     light_fraction_4,\n",
    "                     use_gold_sand=False,\n",
    "                     reverse=False,\n",
    "                     name='sand'):\n",
    "    \"\"\"\n",
    "    Builds a colormap following a sandy color scheme.\n",
    "\n",
    "    Parameters\n",
    "    ----------\n",
    "    light_fraction_1 : float\n",
    "        Light fraction of the first color.\n",
    "    light_fraction_2 : float\n",
    "        Light fraction of the second color.\n",
    "    light_fraction_3 : float\n",
    "        Light fraction of the third color.\n",
    "    light_fraction_4 : float\n",
    "        Light fraction of the fourth color.\n",
    "    use_gold_sand : bool (default False)\n",
    "        If true, uses Gold Sand as third color, otherwise uses Yuma Sand.\n",
    "    reverse : bool (default False)\n",
    "        If true, reverses the color list.\n",
    "    name : str (default 'sand')\n",
    "        Name of the colormap.\n",
    "\n",
    "    Returns\n",
    "    -------\n",
    "    cmap\n",
    "        The colormap.\n",
    "    \"\"\"\n",
    "    mississippi_mud = (15/360, 0.29 + light_fraction_1*0.29, 0.14)\n",
    "    rio_grande_mud = (22/360, 0.48 + light_fraction_2*0.48, 0.33)\n",
    "    yuma_sand = (50/360, 0.89 + light_fraction_3*0.89, 0.78)\n",
    "    drifted_sand = (55/360, 0.94 + light_fraction_4*0.94, 0.40)\n",
    "    color_list = [colorsys.hls_to_rgb(*mississippi_mud) + (1,),\n",
    "                  colorsys.hls_to_rgb(*rio_grande_mud) + (1,),\n",
    "                  colorsys.hls_to_rgb(*yuma_sand) + (1,),\n",
    "                  colorsys.hls_to_rgb(*drifted_sand) + (1,)]\n",
    "    if use_gold_sand:\n",
    "        gold_sand = (46/360, 0.82 + light_fraction_3*0.82, 0.83)\n",
    "        color_list[2] = colorsys.hls_to_rgb(*gold_sand) + (1,)\n",
    "    if reverse:\n",
    "        color_list = color_list[::-1]\n",
    "\n",
    "    return mcolors.LinearSegmentedColormap.from_list(name, color_list)"
   ]
  },
  {
   "cell_type": "markdown",
   "id": "2b8ddcb7-7d97-480d-8a84-dd1365db0784",
   "metadata": {},
   "source": [
    "### Setting"
   ]
  },
  {
   "cell_type": "markdown",
   "id": "2053082e-fba9-4dd0-972c-3ec35ec25c46",
   "metadata": {},
   "source": [
    "Now let's define a custom colormap using one of the utility functions for the final animation:"
   ]
  },
  {
   "cell_type": "code",
   "execution_count": null,
   "id": "a5955f3c-33b8-4547-9a51-74da31d556e2",
   "metadata": {},
   "outputs": [],
   "source": [
    "sand_light = _build_sand_cmap(0.25, 0.08543330133998818, -0.4679754966612923, 0.0,\n",
    "                              use_gold_sand=False, name='sand_light')"
   ]
  },
  {
   "cell_type": "markdown",
   "id": "c1ee7053-0393-4e03-9acd-ff36a05ba456",
   "metadata": {},
   "source": [
    "## 1. Setup and simulation"
   ]
  },
  {
   "cell_type": "markdown",
   "id": "b5523296-0013-4e46-b549-fcdb0dfeeb9c",
   "metadata": {},
   "source": [
    "We'll simulate over a much longer time than in the previous examples &ndash; 8 million years &ndash; but still with time steps of a hundred years:"
   ]
  },
  {
   "cell_type": "code",
   "execution_count": null,
   "id": "5e6c7278-d0de-40f8-af94-78b43fe8235c",
   "metadata": {},
   "outputs": [],
   "source": [
    "timestep = 100.\n",
    "runtime = 8000000.\n",
    "n_iterations = int(runtime/timestep)"
   ]
  },
  {
   "cell_type": "markdown",
   "id": "77be63ff-8c02-40b5-9156-1ce82567a868",
   "metadata": {},
   "source": [
    "To keep the computational burden reasonable, we create a grid with a similar number of cells, and just use larger cells to define a larger simulation domain:"
   ]
  },
  {
   "cell_type": "code",
   "execution_count": null,
   "id": "25a8ea0d-4a53-4837-9300-08bd1114bb23",
   "metadata": {},
   "outputs": [],
   "source": [
    "grid = RasterModelGrid((25, 29),\n",
    "                       xy_spacing=(5000., 5000.),\n",
    "                       number_of_classes=2,\n",
    "                       initial_allocation=n_iterations//1000 + 100,\n",
    "                       number_of_layers_to_fuse=1000,\n",
    "                       number_of_top_layers=100)"
   ]
  },
  {
   "cell_type": "markdown",
   "id": "b80a6e05-d0c9-4a59-8782-221ab3796b64",
   "metadata": {},
   "source": [
    "Here we'll keep all the boundaries closed to fill up the domain more quickly:"
   ]
  },
  {
   "cell_type": "code",
   "execution_count": null,
   "id": "c55e12ec-63c9-415f-9ac4-cdb3e2961c89",
   "metadata": {},
   "outputs": [],
   "source": [
    "grid.set_closed_boundaries_at_grid_edges(True, True, True, True)"
   ]
  },
  {
   "cell_type": "markdown",
   "id": "f74d9b03-55af-42b1-b0b5-aa1cec0d6272",
   "metadata": {},
   "source": [
    "Finally, we create a bowl-like initial topography, this time adding some random features:"
   ]
  },
  {
   "cell_type": "code",
   "execution_count": null,
   "id": "807cbb72-6170-4280-84b4-c1a8f1b80f51",
   "metadata": {},
   "outputs": [],
   "source": [
    "rng = np.random.default_rng(101010)\n",
    "\n",
    "elevation = grid.add_zeros('topographic__elevation', at='node', clobber=True)\n",
    "elevation += 10.\n",
    "elevation[(grid.x_of_node > 30000.) & (grid.x_of_node < 110000.) & (grid.y_of_node > 40000.) & (grid.y_of_node < 80000.)] = -60.\n",
    "for scale, sigma in zip([15., 1.5], [10., 1.]):\n",
    "    elevation += rng.normal(scale=scale, size=grid.number_of_nodes)\n",
    "    elevation[:] = gaussian_filter(elevation.reshape(grid.shape), sigma).ravel()\n",
    "elevation[:] *= 30.\n",
    "elevation[:] = median_filter(elevation.reshape(grid.shape), 3).ravel()"
   ]
  },
  {
   "cell_type": "code",
   "execution_count": null,
   "id": "a37ddfbc-0e04-43f2-878b-4ce159c23f74",
   "metadata": {},
   "outputs": [],
   "source": [
    "grid.imshow('topographic__elevation', var_name='Elevation', var_units='m',\n",
    "            grid_units=['m', 'm'], cmap='gist_earth')"
   ]
  },
  {
   "cell_type": "markdown",
   "id": "9b6f8ce6-cc2f-460e-8ccd-4ce22587e1e4",
   "metadata": {},
   "source": [
    "The subsidence follows a similar bowl-like shape, so that sediments mainly accumulate in the center of the domain:"
   ]
  },
  {
   "cell_type": "code",
   "execution_count": null,
   "id": "82c4a030-d93f-49ae-84e7-a556b79bd55f",
   "metadata": {},
   "outputs": [],
   "source": [
    "rng = np.random.default_rng(42)\n",
    "\n",
    "uplift = grid.add_zeros('uplift__rate', at='node', clobber=True)\n",
    "uplift[(grid.x_of_node > 20000.) & (grid.x_of_node < 120000.) & (grid.y_of_node > 20000.) & (grid.y_of_node < 100000.)] -= 5e-5\n",
    "uplift[(grid.x_of_node > 40000.) & (grid.x_of_node < 100000.) & (grid.y_of_node > 40000.) & (grid.y_of_node < 80000.)] -= 5e-5\n",
    "for scale, sigma in zip([5e-5, 5*7e-7], [7., 1.]):\n",
    "    uplift += rng.normal(scale=scale, size=grid.number_of_nodes)\n",
    "    uplift[:] = gaussian_filter(uplift.reshape(grid.shape), sigma).ravel()"
   ]
  },
  {
   "cell_type": "code",
   "execution_count": null,
   "id": "ad2c6bca-1925-4104-8905-38bba6ca0925",
   "metadata": {},
   "outputs": [],
   "source": [
    "grid.imshow('uplift__rate', var_name='Uplift rate', var_units='m/yr',\n",
    "            grid_units=['m', 'm'], cmap='magma_r')"
   ]
  },
  {
   "cell_type": "markdown",
   "id": "99d21940-dc29-455f-a1f1-19d72f6d66ee",
   "metadata": {},
   "source": [
    "The sources of water and sediments will be more complex than in the previous examples, with three sources, each comprising multiple cells and active at different times. Here we need to define the location of the sources, and the control points of water and sediment influx:"
   ]
  },
  {
   "cell_type": "code",
   "execution_count": null,
   "id": "197e1f76-a6a0-4a2d-81ea-aabbe29102fd",
   "metadata": {},
   "outputs": [],
   "source": [
    "source_1_xy = [\n",
    "    [5000., 115000.], [10000., 115000.], [15000., 115000.], [20000., 115000.], [25000., 115000.], [30000., 115000.], [35000., 115000.], [40000., 115000.],\n",
    "    [5000., 80000.], [5000., 85000.], [5000., 90000.], [5000., 95000.], [5000., 100000.], [5000., 105000.], [5000., 110000.]\n",
    "]\n",
    "source_time = [0., 500000., 3000000., 7000000., 8000000.] # yr\n",
    "water_source_1_influx = [300., 315., 200., 260., 240.] # m/yr\n",
    "sediment_source_1_influx = [[14000., 6000.], [14000., 7000.], [6000., 2000.], [13000., 2500.], [9000., 500.]] # m3/yr\n",
    "\n",
    "source_2_xy =[\n",
    "    [5000., 5000.], [5000., 10000.], [5000., 15000.], [5000., 20000.], [5000., 25000.], [5000., 30000.], [5000., 35000.], [5000., 40000.],\n",
    "    [10000., 5000.], [15000., 5000.], [20000., 5000.]\n",
    "]\n",
    "water_source_2_influx = [360., 300., 100., 0., 0.] # m/yr\n",
    "sediment_source_2_influx = [[12000., 8000.], [7000., 3000.], [500., 1000.], [0., 0.], [0., 0.]] # m3/yr\n",
    "\n",
    "source_3_xy = [\n",
    "    [135000., 5000.], [135000., 10000.], [135000., 15000.], [135000., 20000.], [135000., 25000.], [135000., 30000.], [135000., 35000.], [135000., 40000.],\n",
    "    [135000., 45000.], [135000., 50000.], [135000., 55000.], [135000., 60000.], [135000., 65000.], [135000., 70000.], [135000., 75000.], [135000., 80000.],\n",
    "    [135000., 85000.], [135000., 90000.], [135000., 95000.], [135000., 100000.], [135000., 105000.], [135000., 110000.], [135000., 115000.],\n",
    "    [100000., 115000.], [105000., 115000.], [110000., 115000.], [115000., 115000.], [120000., 115000.], [125000., 115000.], [130000., 115000.],\n",
    "    [120000., 5000.], [125000., 5000.], [130000., 5000.],\n",
    "]\n",
    "water_source_3_influx = [0., 0., 40., 340., 280.] # m/yr\n",
    "sediment_source_3_influx = [[0., 0.], [0., 0.], [500., 50.], [8000., 2000.], [10000., 6000.]] # m3/yr"
   ]
  },
  {
   "cell_type": "markdown",
   "id": "dcfc510a-b9dd-4b1f-a2a4-aa795d360577",
   "metadata": {},
   "source": [
    "At each iteration, water and sediment influxes are interpolated based on those control points, here using a monotonic spline interpolation. Let's visualize how it will look like:"
   ]
  },
  {
   "cell_type": "code",
   "execution_count": null,
   "id": "f54f7c8e-5181-4297-88b0-ba00cdafc860",
   "metadata": {},
   "outputs": [],
   "source": [
    "fig = plt.figure(layout='constrained', figsize=(12, 6))\n",
    "subfigs = fig.subfigures(nrows=1, ncols=2, width_ratios=[1, 0.4])\n",
    "\n",
    "axs = subfigs[0].subplots(nrows=2, ncols=3, sharex=True, sharey='row')\n",
    "x = np.linspace(0., 8000000., 1000)\n",
    "for j, source in enumerate([\n",
    "    (water_source_1_influx, sediment_source_1_influx, 'tab:blue'),\n",
    "    (water_source_2_influx, sediment_source_2_influx, 'tab:orange'),\n",
    "    (water_source_3_influx, sediment_source_3_influx, 'tab:green')\n",
    "]):\n",
    "    interpolator = PchipInterpolator(source_time, source[0])\n",
    "    axs[0, j].plot(x, interpolator(x), c=source[2])\n",
    "    axs[0, j].set_title('Source ' + str(j + 1), c=source[2], fontweight='bold')\n",
    "    sediment_influx = np.asarray(source[1])\n",
    "    for i, (label, color) in enumerate(zip(['First class', 'Second class'], ['#cd34b5', '#ffd700'])):\n",
    "        interpolator = PchipInterpolator(source_time, sediment_influx[:, i])\n",
    "        axs[1, j].plot(x, interpolator(x), c=color, label=label)\n",
    "    axs[1, j].set(xlabel='Time (yr)')\n",
    "axs[1, 1].legend()\n",
    "axs[0, 0].set(ylabel='Water influx (m/yr)')\n",
    "axs[1, 0].set(ylabel=r'Sediment influx (m$^3$/yr)')\n",
    "subfigs[0].align_ylabels()\n",
    "\n",
    "axs = subfigs[1].subplots(nrows=2, ncols=1)\n",
    "for j, xy in enumerate([source_1_xy, source_2_xy, source_3_xy]):\n",
    "    xy = np.asarray(xy)\n",
    "    axs[0].scatter(xy[:, 0], xy[:, 1])\n",
    "axs[0].set(xlabel='x (m)', ylabel='y (m)', aspect='equal',\n",
    "           xlim=(grid.x_of_node.min(), grid.x_of_node.max()),\n",
    "           ylim=(grid.y_of_node.min(), grid.y_of_node.max()))\n",
    "axs[1].set_axis_off();"
   ]
  },
  {
   "cell_type": "markdown",
   "id": "f32fe6cf-c74f-44a4-8b54-41fb8b1bb334",
   "metadata": {},
   "source": [
    "And add them to a `SourceProducer` component, which will create the water and sediment influx maps for each iteration:"
   ]
  },
  {
   "cell_type": "code",
   "execution_count": null,
   "id": "a9d48a7f-3999-454f-9cef-e4700fed24cd",
   "metadata": {},
   "outputs": [],
   "source": [
    "source_xy = source_1_xy + source_2_xy + source_3_xy\n",
    "water_source_influx = len(source_1_xy)*[water_source_1_influx] + len(source_2_xy)*[water_source_2_influx] + len(source_3_xy)*[water_source_3_influx]\n",
    "sediment_source_influx = len(source_1_xy)*[sediment_source_1_influx] + len(source_2_xy)*[sediment_source_2_influx] + len(source_3_xy)*[sediment_source_3_influx]"
   ]
  },
  {
   "cell_type": "code",
   "execution_count": null,
   "id": "b63796d8-357d-4087-983a-9841fc015bd7",
   "metadata": {},
   "outputs": [],
   "source": [
    "sp = SourceProducer(grid,\n",
    "                    source_xy=source_xy,\n",
    "                    water_source_time=source_time,\n",
    "                    water_source_influx=water_source_influx,\n",
    "                    sediment_source_time=source_time,\n",
    "                    sediment_source_influx=sediment_source_influx,\n",
    "                    interpolation='monotonic')"
   ]
  },
  {
   "cell_type": "markdown",
   "id": "bdff274d-114a-4632-859c-e0bc8b2a4036",
   "metadata": {},
   "source": [
    "Let's follow a similar approach with sea level:"
   ]
  },
  {
   "cell_type": "code",
   "execution_count": null,
   "id": "b5a68362-2d25-4197-a5d4-6f454bec6adb",
   "metadata": {},
   "outputs": [],
   "source": [
    "control_time = [0., 500000., 1500000., 3000000., 5500000., 7000000., 8000000.] # yr\n",
    "control_sea_level = [0., -5., -30., -10., -80., -50., -40.] # m"
   ]
  },
  {
   "cell_type": "code",
   "execution_count": null,
   "id": "42758c12-1b05-43da-9a8a-550a58d25ea3",
   "metadata": {},
   "outputs": [],
   "source": [
    "fig, ax = plt.subplots(figsize=(10, 4))\n",
    "x = np.linspace(0., 8000000., 1000)\n",
    "interpolator = PchipInterpolator(control_time, control_sea_level)\n",
    "ax.plot(x, interpolator(x))\n",
    "ax.set(xlabel='Time (m)', ylabel='Sea level (m)');"
   ]
  },
  {
   "cell_type": "code",
   "execution_count": null,
   "id": "fde42ce0-3bdd-4259-bf8f-dd2c0bdb4add",
   "metadata": {},
   "outputs": [],
   "source": [
    "slc = SeaLevelCalculator(grid,\n",
    "                         control_time=control_time,\n",
    "                         control_sea_level=control_sea_level,\n",
    "                         interpolation='monotonic')"
   ]
  },
  {
   "cell_type": "markdown",
   "id": "73a293e6-351b-4b6e-af00-a7d6855768c5",
   "metadata": {},
   "source": [
    "To reduce the computational burden, let's use single flow direction:"
   ]
  },
  {
   "cell_type": "code",
   "execution_count": null,
   "id": "a833d855-e048-4761-8843-2c9d7aa61fda",
   "metadata": {},
   "outputs": [],
   "source": [
    "fd = FlowDirectorD8(grid)"
   ]
  },
  {
   "cell_type": "code",
   "execution_count": null,
   "id": "2a232636-e391-43f8-98d7-4415a451f1fa",
   "metadata": {},
   "outputs": [],
   "source": [
    "fa = FlowAccumulator(grid, flow_director=fd)"
   ]
  },
  {
   "cell_type": "markdown",
   "id": "f5d0d76d-f66e-43f0-9ec8-63534c845e61",
   "metadata": {},
   "source": [
    "And use a single component for sediment transport:"
   ]
  },
  {
   "cell_type": "code",
   "execution_count": null,
   "id": "267c8297-67a2-4fa1-8c28-8ba751ba7118",
   "metadata": {},
   "outputs": [],
   "source": [
    "wdr = WaterDrivenRouter(grid,\n",
    "                        transportability_cont=[1e-7, 1e-8],\n",
    "                        transportability_mar=[1e-9, 1e-10],\n",
    "                        wave_base=15.,\n",
    "                        max_erosion_rate_sed=1e-2,\n",
    "                        max_erosion_rate_br=1e-11,\n",
    "                        bedrock_composition=[0.7, 0.3],\n",
    "                        fields_to_track=['surface_water__discharge', 'bathymetric__depth'])"
   ]
  },
  {
   "cell_type": "markdown",
   "id": "3338b03d-1430-41ad-8064-e77cf8be1f93",
   "metadata": {},
   "source": [
    "Here we track two fields: the discharge and the bathymetry. Note that discharge is computed everywhere, including in the marine domain, because components like `WaterDrivenRouter` still use it there, just with a decreasing magnitude as the bathymetry increases.\n",
    "\n",
    "We can now run the simulation, which takes much more time than the previous examples:"
   ]
  },
  {
   "cell_type": "code",
   "execution_count": null,
   "id": "f5412c10-5821-4286-874b-54ac984a280b",
   "metadata": {},
   "outputs": [],
   "source": [
    "for i in tqdm(range(n_iterations)):\n",
    "    elevation += uplift*timestep\n",
    "    slc.run_one_step(timestep)\n",
    "    sp.run_one_step(timestep)\n",
    "    fa.run_one_step()\n",
    "    wdr.run_one_step(timestep)\n",
    "    grid.stacked_layers.fuse(time=np.mean,\n",
    "                             surface_water__discharge=np.mean,\n",
    "                             bathymetric__depth=np.mean)\n",
    "grid.stacked_layers.fuse(finalize=True,\n",
    "                         time=np.mean,\n",
    "                         surface_water__discharge=np.mean,\n",
    "                         bathymetric__depth=np.mean)"
   ]
  },
  {
   "cell_type": "markdown",
   "id": "51e8f1a4-b785-4148-940f-c751511a4101",
   "metadata": {},
   "source": [
    "And visualize the result:"
   ]
  },
  {
   "cell_type": "code",
   "execution_count": null,
   "id": "e30c4a52-9e40-467c-830b-b1be445bdef8",
   "metadata": {},
   "outputs": [],
   "source": [
    "fig, ax = plt.subplots()\n",
    "\n",
    "raster_x = grid.x_of_node[grid.core_nodes].reshape(grid.cell_grid_shape)\n",
    "raster_y = grid.y_of_node[grid.core_nodes].reshape(grid.cell_grid_shape)\n",
    "raster_z = grid.at_node['topographic__elevation'][grid.core_nodes].reshape(grid.cell_grid_shape)\n",
    "\n",
    "pc = ax.pcolormesh(raster_x, raster_y, raster_z, cmap=cmocean.cm.topo,\n",
    "                   norm=mcolors.CenteredNorm(grid.at_grid['sea_level__elevation']))\n",
    "fig.colorbar(pc, ax=ax, label='Elevation (m)')\n",
    "\n",
    "ax.set(xlabel='x (m)', ylabel='y (m)', aspect='equal');"
   ]
  },
  {
   "cell_type": "code",
   "execution_count": null,
   "id": "77c9ca10-a8e4-407c-8d84-57697abe2983",
   "metadata": {},
   "outputs": [],
   "source": [
    "fig, ax = plt.subplots(figsize=(10, 3.5))\n",
    "\n",
    "# Sediments\n",
    "pc = grid.plot_layers(ax, 'bathymetric__depth', i_x=10, cmap=cmocean.cm.deep, zorder=2)\n",
    "fig.colorbar(pc[0], ax=ax, label='Water depth (m)')\n",
    "\n",
    "raster_y = grid.y_of_node[grid.core_nodes].reshape(grid.cell_grid_shape)[:, 10]\n",
    "raster_z = grid.at_node['topographic__elevation'][grid.core_nodes].reshape(grid.cell_grid_shape)[:, 10]\n",
    "# Sea level\n",
    "fill_sea = ax.fill_between(raster_y, raster_z, grid.at_grid['sea_level__elevation'],\n",
    "                           color='#c6dbef', zorder=0)\n",
    "# Bedrock\n",
    "ymin, ymax = ax.get_ylim()\n",
    "ax.fill_between(raster_y, raster_z, ymin, color='#d9d9d9', zorder=1)\n",
    "\n",
    "ax.set(xlabel='y (m)', ylabel='z (m)', ylim=(ymin, ymax));"
   ]
  },
  {
   "cell_type": "code",
   "execution_count": null,
   "id": "6adabed1-1ca5-41e3-a07c-893395e6febd",
   "metadata": {},
   "outputs": [],
   "source": [
    "fig, ax = plt.subplots(figsize=(10, 3.5))\n",
    "\n",
    "# Sediments\n",
    "pc = grid.plot_layers(ax, 'composition', i_x=10, i_class=1, mask_wedges=True, cmap='pink', zorder=2)\n",
    "fig.colorbar(pc[0], ax=ax, label='Fraction of the second sediment class')\n",
    "\n",
    "raster_y = grid.y_of_node[grid.core_nodes].reshape(grid.cell_grid_shape)[:, 10]\n",
    "raster_z = grid.at_node['topographic__elevation'][grid.core_nodes].reshape(grid.cell_grid_shape)[:, 10]\n",
    "# Sea level\n",
    "fill_sea = ax.fill_between(raster_y, raster_z, grid.at_grid['sea_level__elevation'],\n",
    "                           color='#c6dbef', zorder=0)\n",
    "# Bedrock\n",
    "ymin, ymax = ax.get_ylim()\n",
    "ax.fill_between(raster_y, raster_z, ymin, color='#d9d9d9', zorder=1)\n",
    "\n",
    "ax.set(xlabel='y (m)', ylabel='z (m)', ylim=(ymin, ymax));"
   ]
  },
  {
   "cell_type": "markdown",
   "id": "dda73685-23c1-457d-a256-2c0803603947",
   "metadata": {},
   "source": [
    "## 2. 3D animation"
   ]
  },
  {
   "cell_type": "markdown",
   "id": "264d9498-4302-4cdb-b733-9181183081ff",
   "metadata": {},
   "source": [
    "Let's run the same simulation again, but this time using PyVista to save an animation of the basin filling up through time.\n",
    "\n",
    "First, we need to re-initialize the grid and components:"
   ]
  },
  {
   "cell_type": "code",
   "execution_count": null,
   "id": "94c26733-b412-4bcb-9bb0-27a0f567fdd5",
   "metadata": {},
   "outputs": [],
   "source": [
    "# Define the grid\n",
    "grid = RasterModelGrid((25, 29),\n",
    "                       xy_spacing=(5000., 5000.),\n",
    "                       number_of_classes=2,\n",
    "                       initial_allocation=n_iterations//1000 + 100,\n",
    "                       number_of_layers_to_fuse=1000,\n",
    "                       number_of_top_layers=100)\n",
    "grid.set_closed_boundaries_at_grid_edges(True, True, True, True)\n",
    "\n",
    "# Define the initial topography\n",
    "rng = np.random.default_rng(101010)\n",
    "elevation = grid.add_zeros('topographic__elevation', at='node', clobber=True)\n",
    "elevation += 10.\n",
    "elevation[(grid.x_of_node > 30000.) & (grid.x_of_node < 110000.) & (grid.y_of_node > 40000.) & (grid.y_of_node < 80000.)] = -60.\n",
    "for scale, sigma in zip([15., 1.5], [10., 1.]):\n",
    "    elevation += rng.normal(scale=scale, size=grid.number_of_nodes)\n",
    "    elevation[:] = gaussian_filter(elevation.reshape(grid.shape), sigma).ravel()\n",
    "elevation[:] *= 30.\n",
    "elevation[:] = median_filter(elevation.reshape(grid.shape), 3).ravel()\n",
    "\n",
    "# Define the subsidence\n",
    "rng = np.random.default_rng(42)\n",
    "uplift = grid.add_zeros('uplift__rate', at='node', clobber=True)\n",
    "uplift[(grid.x_of_node > 20000.) & (grid.x_of_node < 120000.) & (grid.y_of_node > 20000.) & (grid.y_of_node < 100000.)] -= 5e-5\n",
    "uplift[(grid.x_of_node > 40000.) & (grid.x_of_node < 100000.) & (grid.y_of_node > 40000.) & (grid.y_of_node < 80000.)] -= 5e-5\n",
    "for scale, sigma in zip([5e-5, 5*7e-7], [7., 1.]):\n",
    "    uplift += rng.normal(scale=scale, size=grid.number_of_nodes)\n",
    "    uplift[:] = gaussian_filter(uplift.reshape(grid.shape), sigma).ravel()\n",
    "\n",
    "# Define the components for water and sediment sources, sea level variation, water flow, and sediment transport\n",
    "sp = SourceProducer(grid,\n",
    "                    source_xy=source_xy,\n",
    "                    water_source_time=source_time,\n",
    "                    water_source_influx=water_source_influx,\n",
    "                    sediment_source_time=source_time,\n",
    "                    sediment_source_influx=sediment_source_influx,\n",
    "                    interpolation='monotonic')\n",
    "slc = SeaLevelCalculator(grid,\n",
    "                         control_time=control_time,\n",
    "                         control_sea_level=control_sea_level,\n",
    "                         interpolation='monotonic')\n",
    "fd = FlowDirectorD8(grid)\n",
    "fa = FlowAccumulator(grid, flow_director=fd)\n",
    "wdr = WaterDrivenRouter(grid,\n",
    "                        transportability_cont=[1e-7, 1e-8],\n",
    "                        transportability_mar=[1e-9, 1e-10],\n",
    "                        wave_base=15.,\n",
    "                        max_erosion_rate_sed=1e-2,\n",
    "                        max_erosion_rate_br=1e-11,\n",
    "                        bedrock_composition=[0.7, 0.3],\n",
    "                        fields_to_track=['surface_water__discharge', 'bathymetric__depth'])"
   ]
  },
  {
   "cell_type": "markdown",
   "id": "a7f46762-9b1d-49ce-95c0-e9cb6837f187",
   "metadata": {},
   "source": [
    "Then we define the PyVista plotter and the different components that will be visible in the animation, like the bedrock and the different sediment sources:"
   ]
  },
  {
   "cell_type": "code",
   "execution_count": null,
   "id": "8c41505a-49cd-456c-b874-de0236b6e2f5",
   "metadata": {},
   "outputs": [],
   "source": [
    "p = pv.Plotter(off_screen=True, window_size=(3840, 2160), border=True, lighting='three lights')\n",
    "\n",
    "# Text setting\n",
    "font_file = '/Users/grongier/Library/Fonts/SourceSansPro-Regular.ttf'\n",
    "label_color = (0.35, 0.35, 0.35)\n",
    "font_size = 54\n",
    "title_font_size = 64\n",
    "\n",
    "# Add the surface of the bedrock\n",
    "xy = grid.xy_of_cell.reshape(*grid.cell_grid_shape, 2)\n",
    "z = grid.at_node['topographic__elevation'].reshape(grid.shape)[1:-1, 1:-1]\n",
    "bedrock_surface = pv.StructuredGrid(xy[..., 0], xy[..., 1], z)\n",
    "bedrock_actor = p.add_mesh(bedrock_surface, color=(0.8, 0.8, 0.8), smooth_shading=True, ambient=0.1)\n",
    "\n",
    "# Add the lines representing the locations of the sediment sources\n",
    "z_sources = 70.\n",
    "line_kwargs = {'color': [0., 0., 0.], 'width': 12, 'connected': True}\n",
    "source_1_line = np.array([[5000., 80000., z_sources],\n",
    "                          [5000., 115000., z_sources],\n",
    "                          [40000., 115000., z_sources]])\n",
    "source_1_actor = p.add_lines(source_1_line, **line_kwargs)\n",
    "source_1_actor.GetProperty().SetOpacity(1.)\n",
    "source_2_line = np.array([[5000., 40000., z_sources],\n",
    "                          [5000., 5000., z_sources],\n",
    "                          [20000., 5000., z_sources]])\n",
    "source_2_actor = p.add_lines(source_2_line, **line_kwargs)\n",
    "source_2_actor.GetProperty().SetOpacity(1.)\n",
    "source_3_line = np.array([[120000., 5000., z_sources],\n",
    "                          [135000., 5000., z_sources],\n",
    "                          [135000., 115000., z_sources],\n",
    "                          [100000., 115000., z_sources]])\n",
    "source_3_actor = p.add_lines(source_3_line, **line_kwargs)\n",
    "source_3_actor.GetProperty().SetOpacity(1.)\n",
    "\n",
    "# Add the lines representing the scale\n",
    "origin = [-27000., 45000., 0.]\n",
    "scale = [10000., -10000., 100.]\n",
    "scale_line = np.array([origin, [origin[0] + scale[0], origin[1], origin[2]],\n",
    "                       origin, [origin[0], origin[1] + scale[1], origin[2]],\n",
    "                       origin, [origin[0], origin[1], origin[2] + scale[2]]])\n",
    "p.add_lines(scale_line, color=label_color, width=6, connected=False)\n",
    "\n",
    "# Add some vertical exaggeration\n",
    "p.set_scale(zscale=100)\n",
    "\n",
    "# Update the camera's position\n",
    "p.camera_position = [\n",
    "     (-52000., -80000., 120000.),\n",
    "     (70000., 60000., -21000.),\n",
    "     (0., 0., 1.)\n",
    "]\n",
    "\n",
    "# Add the colorbar\n",
    "cbar = p.add_scalar_bar(title='Fraction of sand', n_labels=3, title_font_size=title_font_size,\n",
    "                        label_font_size=font_size, color=label_color, width=0.15,\n",
    "                        height=0.05, position_x=0.78, position_y=0.07, fmt='%.g')\n",
    "for prop in [cbar.GetTitleTextProperty(), cbar.GetLabelTextProperty()]:\n",
    "    prop.SetFontFamily(4)\n",
    "    prop.SetFontFile(font_file)\n",
    "    prop.SetLineOffset(15.)\n",
    "lookup_table = pv.LookupTable(cmap=sand_light)\n",
    "lookup_table.SetRange(0., 1.)\n",
    "cbar.SetLookupTable(lookup_table)\n",
    "\n",
    "# Add the labels of the scale\n",
    "add_text(p, '10 km', (origin[0] + scale[0]/2., origin[1], origin[2] + 200.), font_size,\n",
    "         font_file, label_color, orientation=25.)\n",
    "add_text(p, '10 km', (origin[0], origin[1] + scale[1]/2., origin[2]), font_size,\n",
    "         font_file, label_color, orientation=-55., offset=12., justification_vertical='top')\n",
    "add_text(p, '100 m', (origin[0] - 350., origin[1], origin[2] + 100.*scale[2]/2.),\n",
    "         font_size, font_file, label_color, orientation=-71., justification_vertical='top')\n",
    "\n",
    "# Add the labels of the sources\n",
    "source_1_label = add_text(p, 'Sediment source 1', (22500., 115000., 100.*z_sources + 500.),\n",
    "                          title_font_size, font_file, (0., 0., 0.), orientation=19., opacity=1.)\n",
    "source_2_label = add_text(p, 'Sediment source 2', (5000., 22500., 100.*z_sources - 1200.), title_font_size,\n",
    "                          font_file, (0., 0., 0.), orientation=-43., opacity=1., justification_vertical='top')\n",
    "source_3_label = add_text(p, 'Sediment source 3', (135000., 60000., 100.*z_sources + 600.),\n",
    "                          title_font_size, font_file, (0., 0., 0.), orientation=-23., opacity=1.)\n",
    "\n",
    "# Add the time\n",
    "time_actor = add_text(p, '0 year ', (3760, 2030), title_font_size, font_file, (0., 0., 0.),\n",
    "                      justification_horizontal='right')\n",
    "\n",
    "# Add some anti-aliasing\n",
    "p.enable_anti_aliasing('ssaa')"
   ]
  },
  {
   "cell_type": "markdown",
   "id": "414c035e-755c-4aec-9789-8bccaf141f4c",
   "metadata": {},
   "source": [
    "Finally, let's run the simulation while saving the different frames making the animation, which adds a big overhead, so this cell takes much longer to run:"
   ]
  },
  {
   "cell_type": "code",
   "execution_count": null,
   "id": "c9e04540-19fd-4b0e-9b44-65fdf683e9b6",
   "metadata": {},
   "outputs": [],
   "source": [
    "# Start saving the animation\n",
    "frame_step = 50\n",
    "p.open_movie('stratigrapy_basin_animation.mp4', framerate=32)\n",
    "\n",
    "# Prepare sediment source normalization\n",
    "source_1_interpolator = PchipInterpolator(source_time, sediment_source_1_influx)\n",
    "source_2_interpolator = PchipInterpolator(source_time, sediment_source_2_influx)\n",
    "source_3_interpolator = PchipInterpolator(source_time, sediment_source_3_influx)\n",
    "source_vmin = min(np.min(np.sum(sediment_source_1_influx, axis=1)),\n",
    "                  np.min(np.sum(sediment_source_2_influx, axis=1)),\n",
    "                  np.min(np.sum(sediment_source_3_influx, axis=1)))\n",
    "source_vmax = max(np.max(np.sum(sediment_source_1_influx, axis=1)),\n",
    "                  np.max(np.sum(sediment_source_2_influx, axis=1)),\n",
    "                  np.max(np.sum(sediment_source_3_influx, axis=1)))\n",
    "\n",
    "# Store the slices through the stratigraphy to speed things up\n",
    "stratigraphy_slices = []\n",
    "\n",
    "for i in tqdm(range(n_iterations + 1)):\n",
    "\n",
    "    # Start by taking care of the animation\n",
    "    if i%frame_step == 0:\n",
    "\n",
    "        # Get the stratigraphy and property\n",
    "        x, y, z, layers = extract_tie_centered_layers(grid, 'composition', i_class=1, axis=2, mask_wedges=True)\n",
    "\n",
    "        # Update the surface of the bedrock\n",
    "        p.remove_actor(bedrock_actor)\n",
    "        bedrock_surface = pv.StructuredGrid(x[0], y[0], z[0])\n",
    "        bedrock_actor = p.add_mesh(bedrock_surface, color=(0.8, 0.8, 0.8), smooth_shading=True, ambient=0.1)\n",
    "\n",
    "        # Update the slices through the stratigraphy\n",
    "        slice_kwargs = {'scalars': 'Fraction of sand', 'clim': [0., 1.], 'cmap': sand_light,\n",
    "                        'show_scalar_bar': False, 'ambient': 0.2}\n",
    "        for l in range(len(layers)):\n",
    "            if l < len(stratigraphy_slices):\n",
    "                for idx, i in enumerate([6, 20]):\n",
    "                    stratigraphy_slices[l][0][idx].points = np.stack([x[l:l + 2, :, i].T, y[l:l + 2, :, i].T, z[l:l + 2, :, i].T], axis=-1).reshape(-1, 3)\n",
    "                    stratigraphy_slices[l][0][idx]['Fraction of sand'] = np.tile(layers[l, :, i], (2, 1, 1)).T.ravel()\n",
    "                for idx, j in enumerate([2, 8, 14, 20]):\n",
    "                    stratigraphy_slices[l][1][idx].points = np.stack([x[l:l + 2, j].T, y[l:l + 2, j].T, z[l:l + 2, j].T], axis=-1).reshape(-1, 3)\n",
    "                    stratigraphy_slices[l][1][idx]['Fraction of sand'] = np.tile(layers[l, j], (2, 1, 1)).T.ravel()\n",
    "            else:\n",
    "                slices_i = []\n",
    "                for i in [6, 20]:\n",
    "                    strat_slice = pv.StructuredGrid(x[l:l + 2, :, i], y[l:l + 2, :, i], z[l:l + 2, :, i])\n",
    "                    strat_slice['Fraction of sand'] = np.tile(layers[l, :, i], (2, 1, 1)).T.ravel()\n",
    "                    p.add_mesh(strat_slice, **slice_kwargs)\n",
    "                    slices_i.append(strat_slice)\n",
    "                slices_j = []\n",
    "                for j in [2, 8, 14, 20]:\n",
    "                    strat_slice = pv.StructuredGrid(x[l:l + 2, j], y[l:l + 2, j], z[l:l + 2, j])\n",
    "                    strat_slice['Fraction of sand'] = np.tile(layers[l, j], (2, 1, 1)).T.ravel()\n",
    "                    p.add_mesh(strat_slice, **slice_kwargs)\n",
    "                    slices_j.append(strat_slice)\n",
    "                stratigraphy_slices.append([slices_i, slices_j])\n",
    "\n",
    "        # Update the sediment sources\n",
    "        opacity = (np.sum(source_1_interpolator(wdr._time)) - source_vmin)/(source_vmax - source_vmin)\n",
    "        source_1_label.GetTextProperty().SetOpacity(opacity)\n",
    "        source_1_actor.GetProperty().SetOpacity(opacity)\n",
    "        opacity = (np.sum(source_2_interpolator(wdr._time)) - source_vmin)/(source_vmax - source_vmin)\n",
    "        source_2_label.GetTextProperty().SetOpacity(opacity)\n",
    "        source_2_actor.GetProperty().SetOpacity(opacity)\n",
    "        opacity = (np.sum(source_3_interpolator(wdr._time)) - source_vmin)/(source_vmax - source_vmin)\n",
    "        source_3_label.GetTextProperty().SetOpacity(opacity)\n",
    "        source_3_actor.GetProperty().SetOpacity(opacity)\n",
    "\n",
    "        # Update time\n",
    "        time_actor.SetInput('{:,}'.format(round(wdr._time/100000)*100000).replace(',', ' ') + ' years')\n",
    "\n",
    "        # Save the frame\n",
    "        p.write_frame()\n",
    "\n",
    "    # Then run the model\n",
    "    elevation += uplift*timestep\n",
    "    slc.run_one_step(timestep)\n",
    "    sp.run_one_step(timestep)\n",
    "    fa.run_one_step()\n",
    "    wdr.run_one_step(timestep)\n",
    "    grid.stacked_layers.fuse(time=np.mean, surface_water__discharge=np.mean, bathymetric__depth=np.mean)\n",
    "\n",
    "p.close()"
   ]
  }
 ],
 "metadata": {
  "kernelspec": {
   "display_name": "Python 3 (ipykernel)",
   "language": "python",
   "name": "python3"
  },
  "language_info": {
   "codemirror_mode": {
    "name": "ipython",
    "version": 3
   },
   "file_extension": ".py",
   "mimetype": "text/x-python",
   "name": "python",
   "nbconvert_exporter": "python",
   "pygments_lexer": "ipython3",
   "version": "3.11.6"
  }
 },
 "nbformat": 4,
 "nbformat_minor": 5
}
